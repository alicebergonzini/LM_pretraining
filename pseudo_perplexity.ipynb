{
 "cells": [
  {
   "cell_type": "code",
   "execution_count": 29,
   "metadata": {},
   "outputs": [],
   "source": [
    "import torch\n",
    "import torch.nn.functional as F\n",
    "import tokenizers\n",
    "import transformers\n",
    "from transformers import BertTokenizer, BertForMaskedLM\n",
    "import os\n",
    "import pandas as pd\n",
    "from tqdm import tqdm\n"
   ]
  },
  {
   "cell_type": "code",
   "execution_count": 30,
   "metadata": {},
   "outputs": [],
   "source": [
    "def mask_all_tokens(sentence, tokenizer):\n",
    "    masked_sentences = []\n",
    "    tokenized_sentence = tokenizer(sentence, return_tensors='pt')\n",
    "    for token_idx in range(1, len(tokenized_sentence['input_ids'][0]) - 1):\n",
    "        masked_input = tokenizer(sentence, return_tensors='pt')  # tokenized_sentence.copy()\n",
    "        masked_input['input_ids'][0][token_idx] = tokenizer.mask_token_id\n",
    "        masked_sentences.append(masked_input)\n",
    "    return masked_sentences\n",
    "\n",
    "def compute_perplexity(sentence, checkpoint, training_id):\n",
    "    tokenizer = BertTokenizer.from_pretrained(\"dbmdz/bert-base-italian-cased\")\n",
    "    if checkpoint == 15449:\n",
    "        model = BertForMaskedLM.from_pretrained(f\"C:/Users/bergo/OneDrive - University of Pisa/Tesi Magistrale/models/{training_id}/final_pretrained_model\")\n",
    "    else:\n",
    "        model = BertForMaskedLM.from_pretrained(f\"C:/Users/bergo/OneDrive - University of Pisa/Tesi Magistrale/models/{training_id}/checkpoints/checkpoint-step{checkpoint}\")\n",
    "    device = torch.device('cuda' if torch.cuda.is_available() else 'cpu')\n",
    "    masked_sentences = mask_all_tokens(sentence, tokenizer)\n",
    "    original_tokens = tokenizer(sentence)['input_ids']\n",
    "    sent_results = {'most_prob': [], 'correct_prob': [], 'top_1': [], 'top_5': [], 'top_10': []}\n",
    "    for sent_idx, masked_sentence in enumerate(masked_sentences):\n",
    "        masked_idx = sent_idx + 1\n",
    "        correct_token = original_tokens[masked_idx]\n",
    "        with torch.no_grad():\n",
    "            outputs = model(**masked_sentence.to(device))\n",
    "            logits = outputs.logits[0, masked_idx]\n",
    "            probs = logits.softmax(dim=-1)\n",
    "            #values, predictions = probs.topk(10)\n",
    "            # sent_results['top_1'].append(1 if correct_token in predictions[0] else 0)\n",
    "            # sent_results['top_5'].append(1 if correct_token in predictions[:5] else 0)\n",
    "            # sent_results['top_10'].append(1 if correct_token in predictions else 0)\n",
    "            sent_results['correct_prob'].append(probs[correct_token].item())\n",
    "            # sent_results['most_prob'].append(values[0].item())\n",
    "    final_result = sum(sent_results['correct_prob']) / len(sent_results['correct_prob'])\n",
    "    return final_result\n"
   ]
  },
  {
   "cell_type": "code",
   "execution_count": 3,
   "metadata": {},
   "outputs": [
    {
     "data": {
      "text/plain": [
       "'\\nfrase = \"Nonostante l\\'apparente ineluttabilità del destino, intessuto com\\'è nel tessuto stesso del continuum spazio-temporale, la teoria della relatività generale di Einstein suggerisce che le curvature dello spazio-tempo, influenzate dalla distribuzione della massa-energia, possono dare origine a fenomeni astrofisici tanto enigmatici quanto i buchi neri e le onde gravitazionali.\"\\nresult = compute_perplexity(frase, tokenizer, model)\\n'"
      ]
     },
     "execution_count": 3,
     "metadata": {},
     "output_type": "execute_result"
    }
   ],
   "source": [
    "'''\n",
    "frase = \"Nonostante l'apparente ineluttabilità del destino, intessuto com'è nel tessuto stesso del continuum spazio-temporale, la teoria della relatività generale di Einstein suggerisce che le curvature dello spazio-tempo, influenzate dalla distribuzione della massa-energia, possono dare origine a fenomeni astrofisici tanto enigmatici quanto i buchi neri e le onde gravitazionali.\"\n",
    "result = compute_perplexity(frase, tokenizer, model)\n",
    "'''"
   ]
  },
  {
   "cell_type": "code",
   "execution_count": 56,
   "metadata": {},
   "outputs": [],
   "source": [
    "frasi_df = pd.read_csv(\"data/csv/pseudoppl/f30_words.csv\", encoding=\"utf-8\")"
   ]
  },
  {
   "cell_type": "code",
   "execution_count": 54,
   "metadata": {},
   "outputs": [
    {
     "data": {
      "text/plain": [
       "array([25], dtype=int64)"
      ]
     },
     "execution_count": 54,
     "metadata": {},
     "output_type": "execute_result"
    }
   ],
   "source": [
    "frasi_df[\"num_words\"].unique()"
   ]
  },
  {
   "cell_type": "code",
   "execution_count": 57,
   "metadata": {},
   "outputs": [
    {
     "name": "stdout",
     "output_type": "stream",
     "text": [
      "Calcolo perplexity del modello CURRICULUM allo step: 2\n"
     ]
    },
    {
     "name": "stderr",
     "output_type": "stream",
     "text": [
      "Processing sentences: 100%|██████████| 100/100 [03:33<00:00,  2.13s/it]\n"
     ]
    },
    {
     "name": "stdout",
     "output_type": "stream",
     "text": [
      "Calcolo perplexity del modello CURRICULUM allo step: 32\n"
     ]
    },
    {
     "name": "stderr",
     "output_type": "stream",
     "text": [
      "Processing sentences: 100%|██████████| 100/100 [03:36<00:00,  2.16s/it]\n"
     ]
    },
    {
     "name": "stdout",
     "output_type": "stream",
     "text": [
      "Calcolo perplexity del modello CURRICULUM allo step: 512\n"
     ]
    },
    {
     "name": "stderr",
     "output_type": "stream",
     "text": [
      "Processing sentences: 100%|██████████| 100/100 [03:35<00:00,  2.16s/it]\n"
     ]
    },
    {
     "name": "stdout",
     "output_type": "stream",
     "text": [
      "Calcolo perplexity del modello CURRICULUM allo step: 8192\n"
     ]
    },
    {
     "name": "stderr",
     "output_type": "stream",
     "text": [
      "Processing sentences: 100%|██████████| 100/100 [03:35<00:00,  2.15s/it]\n"
     ]
    },
    {
     "name": "stdout",
     "output_type": "stream",
     "text": [
      "Calcolo perplexity del modello CURRICULUM allo step: 15449\n"
     ]
    },
    {
     "name": "stderr",
     "output_type": "stream",
     "text": [
      "Processing sentences: 100%|██████████| 100/100 [04:02<00:00,  2.42s/it]\n"
     ]
    },
    {
     "name": "stdout",
     "output_type": "stream",
     "text": [
      "Calcolo perplexity del modello ANTI_CURRICULUM allo step: 2\n"
     ]
    },
    {
     "name": "stderr",
     "output_type": "stream",
     "text": [
      "Processing sentences: 100%|██████████| 100/100 [03:46<00:00,  2.26s/it]\n"
     ]
    },
    {
     "name": "stdout",
     "output_type": "stream",
     "text": [
      "Calcolo perplexity del modello ANTI_CURRICULUM allo step: 32\n"
     ]
    },
    {
     "name": "stderr",
     "output_type": "stream",
     "text": [
      "Processing sentences: 100%|██████████| 100/100 [03:42<00:00,  2.23s/it]\n"
     ]
    },
    {
     "name": "stdout",
     "output_type": "stream",
     "text": [
      "Calcolo perplexity del modello ANTI_CURRICULUM allo step: 512\n"
     ]
    },
    {
     "name": "stderr",
     "output_type": "stream",
     "text": [
      "Processing sentences: 100%|██████████| 100/100 [03:47<00:00,  2.27s/it]\n"
     ]
    },
    {
     "name": "stdout",
     "output_type": "stream",
     "text": [
      "Calcolo perplexity del modello ANTI_CURRICULUM allo step: 8192\n"
     ]
    },
    {
     "name": "stderr",
     "output_type": "stream",
     "text": [
      "Processing sentences: 100%|██████████| 100/100 [03:44<00:00,  2.24s/it]\n"
     ]
    },
    {
     "name": "stdout",
     "output_type": "stream",
     "text": [
      "Calcolo perplexity del modello ANTI_CURRICULUM allo step: 15449\n"
     ]
    },
    {
     "name": "stderr",
     "output_type": "stream",
     "text": [
      "Processing sentences: 100%|██████████| 100/100 [03:44<00:00,  2.24s/it]\n"
     ]
    },
    {
     "name": "stdout",
     "output_type": "stream",
     "text": [
      "Calcolo perplexity del modello RANDOM_S21 allo step: 2\n"
     ]
    },
    {
     "name": "stderr",
     "output_type": "stream",
     "text": [
      "Processing sentences: 100%|██████████| 100/100 [03:44<00:00,  2.24s/it]\n"
     ]
    },
    {
     "name": "stdout",
     "output_type": "stream",
     "text": [
      "Calcolo perplexity del modello RANDOM_S21 allo step: 32\n"
     ]
    },
    {
     "name": "stderr",
     "output_type": "stream",
     "text": [
      "Processing sentences: 100%|██████████| 100/100 [03:41<00:00,  2.21s/it]\n"
     ]
    },
    {
     "name": "stdout",
     "output_type": "stream",
     "text": [
      "Calcolo perplexity del modello RANDOM_S21 allo step: 512\n"
     ]
    },
    {
     "name": "stderr",
     "output_type": "stream",
     "text": [
      "Processing sentences: 100%|██████████| 100/100 [03:46<00:00,  2.26s/it]\n"
     ]
    },
    {
     "name": "stdout",
     "output_type": "stream",
     "text": [
      "Calcolo perplexity del modello RANDOM_S21 allo step: 8192\n"
     ]
    },
    {
     "name": "stderr",
     "output_type": "stream",
     "text": [
      "Processing sentences: 100%|██████████| 100/100 [03:44<00:00,  2.24s/it]\n"
     ]
    },
    {
     "name": "stdout",
     "output_type": "stream",
     "text": [
      "Calcolo perplexity del modello RANDOM_S21 allo step: 15449\n"
     ]
    },
    {
     "name": "stderr",
     "output_type": "stream",
     "text": [
      "Processing sentences: 100%|██████████| 100/100 [03:55<00:00,  2.35s/it]\n"
     ]
    },
    {
     "name": "stdout",
     "output_type": "stream",
     "text": [
      "Calcolo perplexity del modello RANDOM_S37 allo step: 2\n"
     ]
    },
    {
     "name": "stderr",
     "output_type": "stream",
     "text": [
      "Processing sentences: 100%|██████████| 100/100 [03:44<00:00,  2.24s/it]\n"
     ]
    },
    {
     "name": "stdout",
     "output_type": "stream",
     "text": [
      "Calcolo perplexity del modello RANDOM_S37 allo step: 32\n"
     ]
    },
    {
     "name": "stderr",
     "output_type": "stream",
     "text": [
      "Processing sentences: 100%|██████████| 100/100 [03:45<00:00,  2.25s/it]\n"
     ]
    },
    {
     "name": "stdout",
     "output_type": "stream",
     "text": [
      "Calcolo perplexity del modello RANDOM_S37 allo step: 512\n"
     ]
    },
    {
     "name": "stderr",
     "output_type": "stream",
     "text": [
      "Processing sentences: 100%|██████████| 100/100 [03:42<00:00,  2.22s/it]\n"
     ]
    },
    {
     "name": "stdout",
     "output_type": "stream",
     "text": [
      "Calcolo perplexity del modello RANDOM_S37 allo step: 8192\n"
     ]
    },
    {
     "name": "stderr",
     "output_type": "stream",
     "text": [
      "Processing sentences: 100%|██████████| 100/100 [03:44<00:00,  2.24s/it]\n"
     ]
    },
    {
     "name": "stdout",
     "output_type": "stream",
     "text": [
      "Calcolo perplexity del modello RANDOM_S37 allo step: 15449\n"
     ]
    },
    {
     "name": "stderr",
     "output_type": "stream",
     "text": [
      "Processing sentences: 100%|██████████| 100/100 [03:43<00:00,  2.24s/it]\n"
     ]
    }
   ],
   "source": [
    "checkpoints = [2, 32, 512, 8192, 15449]\n",
    "training_ids = [\"CURRICULUM\", \"ANTI_CURRICULUM\", \"RANDOM_S21\", \"RANDOM_S37\"]\n",
    "column_names = [\"readit\", \"antireadit\", \"random21\", \"random37\"]\n",
    "tqdm.pandas(desc=\"Processing sentences\")\n",
    "ppls = pd.DataFrame()\n",
    "ppls[\"text\"] = frasi_df[\"text\"]\n",
    "\n",
    "for i, training_id in enumerate(training_ids):\n",
    "    for checkpoint in checkpoints:\n",
    "        print(f\"Calcolo perplexity del modello {training_id} allo step: {checkpoint}\")\n",
    "        ppls[f\"pp_{column_names[i]}_c{checkpoint}\"] = frasi_df[\"text\"].progress_apply(lambda x: compute_perplexity(x, checkpoint, training_id))\n",
    "\n",
    "ppls.to_csv(f\"C:/Users/bergo/OneDrive - University of Pisa/Tesi Magistrale/perplexity/ricalcolati/ppl_ricalcolati_l30.csv\")"
   ]
  },
  {
   "cell_type": "code",
   "execution_count": 24,
   "metadata": {},
   "outputs": [
    {
     "name": "stdout",
     "output_type": "stream",
     "text": [
      "<class 'pandas.core.frame.DataFrame'>\n",
      "RangeIndex: 100 entries, 0 to 99\n",
      "Data columns (total 2 columns):\n",
      " #   Column                        Non-Null Count  Dtype  \n",
      "---  ------                        --------------  -----  \n",
      " 0   text                          100 non-null    object \n",
      " 1   pp_pp_random21_c15449_c15449  100 non-null    float64\n",
      "dtypes: float64(1), object(1)\n",
      "memory usage: 1.7+ KB\n"
     ]
    }
   ],
   "source": [
    "ppls.info()"
   ]
  },
  {
   "cell_type": "code",
   "execution_count": 39,
   "metadata": {},
   "outputs": [
    {
     "data": {
      "text/html": [
       "<div>\n",
       "<style scoped>\n",
       "    .dataframe tbody tr th:only-of-type {\n",
       "        vertical-align: middle;\n",
       "    }\n",
       "\n",
       "    .dataframe tbody tr th {\n",
       "        vertical-align: top;\n",
       "    }\n",
       "\n",
       "    .dataframe thead th {\n",
       "        text-align: right;\n",
       "    }\n",
       "</style>\n",
       "<table border=\"1\" class=\"dataframe\">\n",
       "  <thead>\n",
       "    <tr style=\"text-align: right;\">\n",
       "      <th></th>\n",
       "      <th>text</th>\n",
       "      <th>pp_readit_c2</th>\n",
       "      <th>pp_readit_c32</th>\n",
       "      <th>pp_readit_c512</th>\n",
       "      <th>pp_readit_c8192</th>\n",
       "      <th>pp_readit_c15449</th>\n",
       "      <th>pp_antireadit_c2</th>\n",
       "      <th>pp_antireadit_c32</th>\n",
       "      <th>pp_antireadit_c512</th>\n",
       "      <th>pp_antireadit_c8192</th>\n",
       "      <th>...</th>\n",
       "      <th>pp_random21_c2</th>\n",
       "      <th>pp_random21_c32</th>\n",
       "      <th>pp_random21_c512</th>\n",
       "      <th>pp_random21_c8192</th>\n",
       "      <th>pp_random21_c15449</th>\n",
       "      <th>pp_random37_c2</th>\n",
       "      <th>pp_random37_c32</th>\n",
       "      <th>pp_random37_c512</th>\n",
       "      <th>pp_random37_c8192</th>\n",
       "      <th>pp_random37_c15449</th>\n",
       "    </tr>\n",
       "  </thead>\n",
       "  <tbody>\n",
       "    <tr>\n",
       "      <th>0</th>\n",
       "      <td>Ma l'assassino è stato più veloce di lei.</td>\n",
       "      <td>0.000065</td>\n",
       "      <td>0.000361</td>\n",
       "      <td>0.084295</td>\n",
       "      <td>0.325100</td>\n",
       "      <td>0.349395</td>\n",
       "      <td>0.000060</td>\n",
       "      <td>0.000449</td>\n",
       "      <td>0.079402</td>\n",
       "      <td>0.339348</td>\n",
       "      <td>...</td>\n",
       "      <td>0.000062</td>\n",
       "      <td>0.000427</td>\n",
       "      <td>0.082885</td>\n",
       "      <td>0.334055</td>\n",
       "      <td>0.342141</td>\n",
       "      <td>0.000065</td>\n",
       "      <td>0.000413</td>\n",
       "      <td>0.074851</td>\n",
       "      <td>0.312396</td>\n",
       "      <td>0.362874</td>\n",
       "    </tr>\n",
       "    <tr>\n",
       "      <th>1</th>\n",
       "      <td>Duca di Marino, II Duca di Miraglia, VIII</td>\n",
       "      <td>0.000083</td>\n",
       "      <td>0.001558</td>\n",
       "      <td>0.005440</td>\n",
       "      <td>0.071943</td>\n",
       "      <td>0.118871</td>\n",
       "      <td>0.000069</td>\n",
       "      <td>0.001579</td>\n",
       "      <td>0.007463</td>\n",
       "      <td>0.057442</td>\n",
       "      <td>...</td>\n",
       "      <td>0.000083</td>\n",
       "      <td>0.001382</td>\n",
       "      <td>0.004638</td>\n",
       "      <td>0.047391</td>\n",
       "      <td>0.077207</td>\n",
       "      <td>0.000089</td>\n",
       "      <td>0.001954</td>\n",
       "      <td>0.009392</td>\n",
       "      <td>0.055464</td>\n",
       "      <td>0.082640</td>\n",
       "    </tr>\n",
       "    <tr>\n",
       "      <th>2</th>\n",
       "      <td>Il singolo vende oltre di copie solo negli Usa.</td>\n",
       "      <td>0.000072</td>\n",
       "      <td>0.000333</td>\n",
       "      <td>0.098513</td>\n",
       "      <td>0.145633</td>\n",
       "      <td>0.154799</td>\n",
       "      <td>0.000063</td>\n",
       "      <td>0.000406</td>\n",
       "      <td>0.095078</td>\n",
       "      <td>0.153397</td>\n",
       "      <td>...</td>\n",
       "      <td>0.000058</td>\n",
       "      <td>0.000329</td>\n",
       "      <td>0.090362</td>\n",
       "      <td>0.155258</td>\n",
       "      <td>0.159268</td>\n",
       "      <td>0.000067</td>\n",
       "      <td>0.000364</td>\n",
       "      <td>0.084553</td>\n",
       "      <td>0.158911</td>\n",
       "      <td>0.166263</td>\n",
       "    </tr>\n",
       "    <tr>\n",
       "      <th>3</th>\n",
       "      <td>I nuovi successi continentali (1924-1928).</td>\n",
       "      <td>0.000032</td>\n",
       "      <td>0.000217</td>\n",
       "      <td>0.075750</td>\n",
       "      <td>0.278280</td>\n",
       "      <td>0.345518</td>\n",
       "      <td>0.000040</td>\n",
       "      <td>0.000245</td>\n",
       "      <td>0.070914</td>\n",
       "      <td>0.260305</td>\n",
       "      <td>...</td>\n",
       "      <td>0.000038</td>\n",
       "      <td>0.000252</td>\n",
       "      <td>0.074242</td>\n",
       "      <td>0.287079</td>\n",
       "      <td>0.299804</td>\n",
       "      <td>0.000035</td>\n",
       "      <td>0.000227</td>\n",
       "      <td>0.063443</td>\n",
       "      <td>0.284489</td>\n",
       "      <td>0.328087</td>\n",
       "    </tr>\n",
       "    <tr>\n",
       "      <th>4</th>\n",
       "      <td>Intanto, Alaric e Jenna iniziano ad uscire ins...</td>\n",
       "      <td>0.000041</td>\n",
       "      <td>0.000765</td>\n",
       "      <td>0.004048</td>\n",
       "      <td>0.032137</td>\n",
       "      <td>0.058406</td>\n",
       "      <td>0.000044</td>\n",
       "      <td>0.000727</td>\n",
       "      <td>0.005832</td>\n",
       "      <td>0.023416</td>\n",
       "      <td>...</td>\n",
       "      <td>0.000048</td>\n",
       "      <td>0.000711</td>\n",
       "      <td>0.004439</td>\n",
       "      <td>0.022138</td>\n",
       "      <td>0.043696</td>\n",
       "      <td>0.000043</td>\n",
       "      <td>0.000921</td>\n",
       "      <td>0.006401</td>\n",
       "      <td>0.031996</td>\n",
       "      <td>0.055702</td>\n",
       "    </tr>\n",
       "  </tbody>\n",
       "</table>\n",
       "<p>5 rows × 21 columns</p>\n",
       "</div>"
      ],
      "text/plain": [
       "                                                text  pp_readit_c2  \\\n",
       "0          Ma l'assassino è stato più veloce di lei.      0.000065   \n",
       "1          Duca di Marino, II Duca di Miraglia, VIII      0.000083   \n",
       "2    Il singolo vende oltre di copie solo negli Usa.      0.000072   \n",
       "3         I nuovi successi continentali (1924-1928).      0.000032   \n",
       "4  Intanto, Alaric e Jenna iniziano ad uscire ins...      0.000041   \n",
       "\n",
       "   pp_readit_c32  pp_readit_c512  pp_readit_c8192  pp_readit_c15449  \\\n",
       "0       0.000361        0.084295         0.325100          0.349395   \n",
       "1       0.001558        0.005440         0.071943          0.118871   \n",
       "2       0.000333        0.098513         0.145633          0.154799   \n",
       "3       0.000217        0.075750         0.278280          0.345518   \n",
       "4       0.000765        0.004048         0.032137          0.058406   \n",
       "\n",
       "   pp_antireadit_c2  pp_antireadit_c32  pp_antireadit_c512  \\\n",
       "0          0.000060           0.000449            0.079402   \n",
       "1          0.000069           0.001579            0.007463   \n",
       "2          0.000063           0.000406            0.095078   \n",
       "3          0.000040           0.000245            0.070914   \n",
       "4          0.000044           0.000727            0.005832   \n",
       "\n",
       "   pp_antireadit_c8192  ...  pp_random21_c2  pp_random21_c32  \\\n",
       "0             0.339348  ...        0.000062         0.000427   \n",
       "1             0.057442  ...        0.000083         0.001382   \n",
       "2             0.153397  ...        0.000058         0.000329   \n",
       "3             0.260305  ...        0.000038         0.000252   \n",
       "4             0.023416  ...        0.000048         0.000711   \n",
       "\n",
       "   pp_random21_c512  pp_random21_c8192  pp_random21_c15449  pp_random37_c2  \\\n",
       "0          0.082885           0.334055            0.342141        0.000065   \n",
       "1          0.004638           0.047391            0.077207        0.000089   \n",
       "2          0.090362           0.155258            0.159268        0.000067   \n",
       "3          0.074242           0.287079            0.299804        0.000035   \n",
       "4          0.004439           0.022138            0.043696        0.000043   \n",
       "\n",
       "   pp_random37_c32  pp_random37_c512  pp_random37_c8192  pp_random37_c15449  \n",
       "0         0.000413          0.074851           0.312396            0.362874  \n",
       "1         0.001954          0.009392           0.055464            0.082640  \n",
       "2         0.000364          0.084553           0.158911            0.166263  \n",
       "3         0.000227          0.063443           0.284489            0.328087  \n",
       "4         0.000921          0.006401           0.031996            0.055702  \n",
       "\n",
       "[5 rows x 21 columns]"
      ]
     },
     "execution_count": 39,
     "metadata": {},
     "output_type": "execute_result"
    }
   ],
   "source": [
    "ppls.head()"
   ]
  }
 ],
 "metadata": {
  "kernelspec": {
   "display_name": "Python 3",
   "language": "python",
   "name": "python3"
  },
  "language_info": {
   "codemirror_mode": {
    "name": "ipython",
    "version": 3
   },
   "file_extension": ".py",
   "mimetype": "text/x-python",
   "name": "python",
   "nbconvert_exporter": "python",
   "pygments_lexer": "ipython3",
   "version": "3.10.2"
  }
 },
 "nbformat": 4,
 "nbformat_minor": 2
}
