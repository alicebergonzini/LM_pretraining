{
 "cells": [
  {
   "cell_type": "code",
   "execution_count": 35,
   "metadata": {},
   "outputs": [],
   "source": [
    "import torch\n",
    "import torch.nn.functional as F\n",
    "import tokenizers\n",
    "import transformers\n",
    "from transformers import BertTokenizer, BertForMaskedLM\n",
    "import os\n",
    "import pandas as pd\n",
    "from tqdm import tqdm\n"
   ]
  },
  {
   "cell_type": "code",
   "execution_count": 36,
   "metadata": {},
   "outputs": [],
   "source": [
    "def mask_all_tokens(sentence, tokenizer):\n",
    "    masked_sentences = []\n",
    "    tokenized_sentence = tokenizer(sentence, return_tensors='pt')\n",
    "    for token_idx in range(1, len(tokenized_sentence['input_ids'][0]) - 1):\n",
    "        masked_input = tokenizer(sentence, return_tensors='pt')  # tokenized_sentence.copy()\n",
    "        masked_input['input_ids'][0][token_idx] = tokenizer.mask_token_id\n",
    "        masked_sentences.append(masked_input)\n",
    "    return masked_sentences\n",
    "\n",
    "def compute_perplexity(sentence, checkpoint, training_id):\n",
    "    tokenizer = BertTokenizer.from_pretrained(\"dbmdz/bert-base-italian-cased\")\n",
    "    if checkpoint == 0:\n",
    "        model = BertForMaskedLM.from_pretrained(f\"C:/Users/bergo/OneDrive - University of Pisa/Tesi Magistrale/models/{training_id}/final_pretrained_model\")\n",
    "    else:\n",
    "        model = BertForMaskedLM.from_pretrained(f\"C:/Users/bergo/OneDrive - University of Pisa/Tesi Magistrale/models/{training_id}/checkpoints/checkpoint-step{checkpoint}\")\n",
    "    device = torch.device('cuda' if torch.cuda.is_available() else 'cpu')\n",
    "    masked_sentences = mask_all_tokens(sentence, tokenizer)\n",
    "    original_tokens = tokenizer(sentence)['input_ids']\n",
    "    sent_results = {'most_prob': [], 'correct_prob': [], 'top_1': [], 'top_5': [], 'top_10': []}\n",
    "    for sent_idx, masked_sentence in enumerate(masked_sentences):\n",
    "        masked_idx = sent_idx + 1\n",
    "        correct_token = original_tokens[masked_idx]\n",
    "        with torch.no_grad():\n",
    "            outputs = model(**masked_sentence.to(device))\n",
    "            logits = outputs.logits[0, masked_idx]\n",
    "            probs = logits.softmax(dim=-1)\n",
    "            values, predictions = probs.topk(10)\n",
    "            # sent_results['top_1'].append(1 if correct_token in predictions[0] else 0)\n",
    "            # sent_results['top_5'].append(1 if correct_token in predictions[:5] else 0)\n",
    "            # sent_results['top_10'].append(1 if correct_token in predictions else 0)\n",
    "            sent_results['correct_prob'].append(probs[correct_token].item())\n",
    "            # sent_results['most_prob'].append(values[0].item())\n",
    "        break\n",
    "    final_result = sum(sent_results['correct_prob']) / len(sent_results['correct_prob'])\n",
    "    return final_result\n"
   ]
  },
  {
   "cell_type": "code",
   "execution_count": 37,
   "metadata": {},
   "outputs": [
    {
     "data": {
      "text/plain": [
       "'\\nfrase = \"Nonostante l\\'apparente ineluttabilità del destino, intessuto com\\'è nel tessuto stesso del continuum spazio-temporale, la teoria della relatività generale di Einstein suggerisce che le curvature dello spazio-tempo, influenzate dalla distribuzione della massa-energia, possono dare origine a fenomeni astrofisici tanto enigmatici quanto i buchi neri e le onde gravitazionali.\"\\nresult = compute_perplexity(frase, tokenizer, model)\\n'"
      ]
     },
     "execution_count": 37,
     "metadata": {},
     "output_type": "execute_result"
    }
   ],
   "source": [
    "'''\n",
    "frase = \"Nonostante l'apparente ineluttabilità del destino, intessuto com'è nel tessuto stesso del continuum spazio-temporale, la teoria della relatività generale di Einstein suggerisce che le curvature dello spazio-tempo, influenzate dalla distribuzione della massa-energia, possono dare origine a fenomeni astrofisici tanto enigmatici quanto i buchi neri e le onde gravitazionali.\"\n",
    "result = compute_perplexity(frase, tokenizer, model)\n",
    "'''"
   ]
  },
  {
   "cell_type": "code",
   "execution_count": 38,
   "metadata": {},
   "outputs": [],
   "source": [
    "frasi_df = pd.read_csv(\"data/csv/pseudoppl/f10_words.csv\", encoding=\"utf-8\")"
   ]
  },
  {
   "cell_type": "code",
   "execution_count": 39,
   "metadata": {},
   "outputs": [
    {
     "name": "stdout",
     "output_type": "stream",
     "text": [
      "<class 'pandas.core.frame.DataFrame'>\n",
      "RangeIndex: 100 entries, 0 to 99\n",
      "Data columns (total 33 columns):\n",
      " #   Column              Non-Null Count  Dtype  \n",
      "---  ------              --------------  -----  \n",
      " 0   text                100 non-null    object \n",
      " 1   num_words           100 non-null    int64  \n",
      " 2   dataset             100 non-null    object \n",
      " 3   pp_gulp_c2          100 non-null    float64\n",
      " 4   pp_gulp_c32         100 non-null    float64\n",
      " 5   pp_gulp_c512        100 non-null    float64\n",
      " 6   pp_gulp_c8192       100 non-null    float64\n",
      " 7   pp_gulp_c15449      100 non-null    float64\n",
      " 8   pp_antigulp_c2      100 non-null    float64\n",
      " 9   pp_antigulp_c32     100 non-null    float64\n",
      " 10  pp_antigulp_c512    100 non-null    float64\n",
      " 11  pp_antigulp_c8192   100 non-null    float64\n",
      " 12  pp_antigulp_c15449  100 non-null    float64\n",
      " 13  pp_random5_c2       100 non-null    float64\n",
      " 14  pp_random5_c32      100 non-null    float64\n",
      " 15  pp_random5_c512     100 non-null    float64\n",
      " 16  pp_random5_c8192    100 non-null    float64\n",
      " 17  pp_random5_c15449   100 non-null    float64\n",
      " 18  pp_random18_c2      100 non-null    float64\n",
      " 19  pp_random18_c32     100 non-null    float64\n",
      " 20  pp_random18_c512    100 non-null    float64\n",
      " 21  pp_random18_c8192   100 non-null    float64\n",
      " 22  pp_random18_c15449  100 non-null    float64\n",
      " 23  pp_random29_c2      100 non-null    float64\n",
      " 24  pp_random29_c32     100 non-null    float64\n",
      " 25  pp_random29_c512    100 non-null    float64\n",
      " 26  pp_random29_c8192   100 non-null    float64\n",
      " 27  pp_random29_c15449  100 non-null    float64\n",
      " 28  pp_misto_c2         100 non-null    float64\n",
      " 29  pp_misto_c32        100 non-null    float64\n",
      " 30  pp_misto_c512       100 non-null    float64\n",
      " 31  pp_misto_c8192      100 non-null    float64\n",
      " 32  pp_misto_c15449     100 non-null    float64\n",
      "dtypes: float64(30), int64(1), object(2)\n",
      "memory usage: 25.9+ KB\n"
     ]
    }
   ],
   "source": [
    "\n",
    "frasi_df.info()"
   ]
  },
  {
   "cell_type": "code",
   "execution_count": 40,
   "metadata": {},
   "outputs": [
    {
     "name": "stdout",
     "output_type": "stream",
     "text": [
      "Calcolo perplexity del modello allo step: 2\n"
     ]
    },
    {
     "name": "stderr",
     "output_type": "stream",
     "text": [
      "Processing sentences: 100%|██████████| 100/100 [00:48<00:00,  2.07it/s]\n"
     ]
    },
    {
     "name": "stdout",
     "output_type": "stream",
     "text": [
      "Calcolo perplexity del modello allo step: 32\n"
     ]
    },
    {
     "name": "stderr",
     "output_type": "stream",
     "text": [
      "Processing sentences: 100%|██████████| 100/100 [00:48<00:00,  2.07it/s]\n"
     ]
    },
    {
     "name": "stdout",
     "output_type": "stream",
     "text": [
      "Calcolo perplexity del modello allo step: 512\n"
     ]
    },
    {
     "name": "stderr",
     "output_type": "stream",
     "text": [
      "Processing sentences: 100%|██████████| 100/100 [00:47<00:00,  2.09it/s]\n"
     ]
    },
    {
     "name": "stdout",
     "output_type": "stream",
     "text": [
      "Calcolo perplexity del modello allo step: 8192\n"
     ]
    },
    {
     "name": "stderr",
     "output_type": "stream",
     "text": [
      "Processing sentences: 100%|██████████| 100/100 [00:48<00:00,  2.06it/s]\n"
     ]
    },
    {
     "name": "stdout",
     "output_type": "stream",
     "text": [
      "Calcolo perplexity del modello allo step: 0\n"
     ]
    },
    {
     "name": "stderr",
     "output_type": "stream",
     "text": [
      "Processing sentences: 100%|██████████| 100/100 [00:48<00:00,  2.08it/s]\n"
     ]
    }
   ],
   "source": [
    "checkpoints = [2, 32, 512, 8192, 0]\n",
    "training_id = \"ANTI_CURRICULUM\"\n",
    "tqdm.pandas(desc=\"Processing sentences\")\n",
    "\n",
    "for checkpoint in checkpoints:\n",
    "    print(f\"Calcolo perplexity del modello allo step: {checkpoint}\")\n",
    "    frasi_df[f\"pp_antireadit_c{checkpoint}\"] = frasi_df[\"text\"].progress_apply(lambda x: compute_perplexity(x, checkpoint, training_id))"
   ]
  },
  {
   "cell_type": "code",
   "execution_count": null,
   "metadata": {},
   "outputs": [],
   "source": [
    "#frasi_df[\"readit_cFinal\"] = frasi_df[\"text\"].apply(compute_perplexity, args = )"
   ]
  },
  {
   "cell_type": "code",
   "execution_count": 34,
   "metadata": {},
   "outputs": [
    {
     "data": {
      "text/html": [
       "<div>\n",
       "<style scoped>\n",
       "    .dataframe tbody tr th:only-of-type {\n",
       "        vertical-align: middle;\n",
       "    }\n",
       "\n",
       "    .dataframe tbody tr th {\n",
       "        vertical-align: top;\n",
       "    }\n",
       "\n",
       "    .dataframe thead th {\n",
       "        text-align: right;\n",
       "    }\n",
       "</style>\n",
       "<table border=\"1\" class=\"dataframe\">\n",
       "  <thead>\n",
       "    <tr style=\"text-align: right;\">\n",
       "      <th></th>\n",
       "      <th>text</th>\n",
       "      <th>num_words</th>\n",
       "      <th>dataset</th>\n",
       "      <th>pp_gulp_c2</th>\n",
       "      <th>pp_gulp_c32</th>\n",
       "      <th>pp_gulp_c512</th>\n",
       "      <th>pp_gulp_c8192</th>\n",
       "      <th>pp_gulp_c15449</th>\n",
       "      <th>pp_antigulp_c2</th>\n",
       "      <th>pp_antigulp_c32</th>\n",
       "      <th>...</th>\n",
       "      <th>pp_misto_c2</th>\n",
       "      <th>pp_misto_c32</th>\n",
       "      <th>pp_misto_c512</th>\n",
       "      <th>pp_misto_c8192</th>\n",
       "      <th>pp_misto_c15449</th>\n",
       "      <th>pp_antireadit_2</th>\n",
       "      <th>pp_antireadit_32</th>\n",
       "      <th>pp_antireadit_512</th>\n",
       "      <th>pp_antireadit_8192</th>\n",
       "      <th>pp_antireadit_0</th>\n",
       "    </tr>\n",
       "  </thead>\n",
       "  <tbody>\n",
       "    <tr>\n",
       "      <th>0</th>\n",
       "      <td>Ma l'assassino è stato più veloce di lei.</td>\n",
       "      <td>10</td>\n",
       "      <td>wiki</td>\n",
       "      <td>0.000064</td>\n",
       "      <td>0.000399</td>\n",
       "      <td>0.074747</td>\n",
       "      <td>0.320007</td>\n",
       "      <td>0.339214</td>\n",
       "      <td>0.000065</td>\n",
       "      <td>0.000379</td>\n",
       "      <td>...</td>\n",
       "      <td>0.000050</td>\n",
       "      <td>0.000338</td>\n",
       "      <td>0.068793</td>\n",
       "      <td>0.323576</td>\n",
       "      <td>0.345090</td>\n",
       "      <td>0.000031</td>\n",
       "      <td>0.000058</td>\n",
       "      <td>0.000218</td>\n",
       "      <td>0.010143</td>\n",
       "      <td>0.022693</td>\n",
       "    </tr>\n",
       "    <tr>\n",
       "      <th>1</th>\n",
       "      <td>Duca di Marino, II Duca di Miraglia, VIII</td>\n",
       "      <td>10</td>\n",
       "      <td>wiki</td>\n",
       "      <td>0.000076</td>\n",
       "      <td>0.001669</td>\n",
       "      <td>0.006879</td>\n",
       "      <td>0.059059</td>\n",
       "      <td>0.062741</td>\n",
       "      <td>0.000085</td>\n",
       "      <td>0.001716</td>\n",
       "      <td>...</td>\n",
       "      <td>0.000066</td>\n",
       "      <td>0.001251</td>\n",
       "      <td>0.002618</td>\n",
       "      <td>0.025771</td>\n",
       "      <td>0.055518</td>\n",
       "      <td>0.000037</td>\n",
       "      <td>0.000057</td>\n",
       "      <td>0.000076</td>\n",
       "      <td>0.000077</td>\n",
       "      <td>0.000606</td>\n",
       "    </tr>\n",
       "    <tr>\n",
       "      <th>2</th>\n",
       "      <td>Il singolo vende oltre di copie solo negli Usa.</td>\n",
       "      <td>10</td>\n",
       "      <td>wiki</td>\n",
       "      <td>0.000053</td>\n",
       "      <td>0.000302</td>\n",
       "      <td>0.079173</td>\n",
       "      <td>0.146777</td>\n",
       "      <td>0.146458</td>\n",
       "      <td>0.000068</td>\n",
       "      <td>0.000285</td>\n",
       "      <td>...</td>\n",
       "      <td>0.000053</td>\n",
       "      <td>0.000271</td>\n",
       "      <td>0.090314</td>\n",
       "      <td>0.138327</td>\n",
       "      <td>0.149582</td>\n",
       "      <td>0.000043</td>\n",
       "      <td>0.000132</td>\n",
       "      <td>0.139898</td>\n",
       "      <td>0.746319</td>\n",
       "      <td>0.661946</td>\n",
       "    </tr>\n",
       "    <tr>\n",
       "      <th>3</th>\n",
       "      <td>I nuovi successi continentali (1924-1928).</td>\n",
       "      <td>10</td>\n",
       "      <td>wiki</td>\n",
       "      <td>0.000034</td>\n",
       "      <td>0.000199</td>\n",
       "      <td>0.064485</td>\n",
       "      <td>0.275995</td>\n",
       "      <td>0.305674</td>\n",
       "      <td>0.000033</td>\n",
       "      <td>0.000210</td>\n",
       "      <td>...</td>\n",
       "      <td>0.000038</td>\n",
       "      <td>0.000212</td>\n",
       "      <td>0.058776</td>\n",
       "      <td>0.266913</td>\n",
       "      <td>0.303780</td>\n",
       "      <td>0.000024</td>\n",
       "      <td>0.000078</td>\n",
       "      <td>0.013062</td>\n",
       "      <td>0.173031</td>\n",
       "      <td>0.289449</td>\n",
       "    </tr>\n",
       "    <tr>\n",
       "      <th>4</th>\n",
       "      <td>Intanto, Alaric e Jenna iniziano ad uscire ins...</td>\n",
       "      <td>10</td>\n",
       "      <td>wiki</td>\n",
       "      <td>0.000049</td>\n",
       "      <td>0.000814</td>\n",
       "      <td>0.004991</td>\n",
       "      <td>0.032791</td>\n",
       "      <td>0.040868</td>\n",
       "      <td>0.000042</td>\n",
       "      <td>0.000828</td>\n",
       "      <td>...</td>\n",
       "      <td>0.000047</td>\n",
       "      <td>0.000647</td>\n",
       "      <td>0.006396</td>\n",
       "      <td>0.021022</td>\n",
       "      <td>0.026111</td>\n",
       "      <td>0.000045</td>\n",
       "      <td>0.000042</td>\n",
       "      <td>0.000146</td>\n",
       "      <td>0.004021</td>\n",
       "      <td>0.006865</td>\n",
       "    </tr>\n",
       "  </tbody>\n",
       "</table>\n",
       "<p>5 rows × 38 columns</p>\n",
       "</div>"
      ],
      "text/plain": [
       "                                                text  num_words dataset  \\\n",
       "0          Ma l'assassino è stato più veloce di lei.         10    wiki   \n",
       "1          Duca di Marino, II Duca di Miraglia, VIII         10    wiki   \n",
       "2    Il singolo vende oltre di copie solo negli Usa.         10    wiki   \n",
       "3         I nuovi successi continentali (1924-1928).         10    wiki   \n",
       "4  Intanto, Alaric e Jenna iniziano ad uscire ins...         10    wiki   \n",
       "\n",
       "   pp_gulp_c2  pp_gulp_c32  pp_gulp_c512  pp_gulp_c8192  pp_gulp_c15449  \\\n",
       "0    0.000064     0.000399      0.074747       0.320007        0.339214   \n",
       "1    0.000076     0.001669      0.006879       0.059059        0.062741   \n",
       "2    0.000053     0.000302      0.079173       0.146777        0.146458   \n",
       "3    0.000034     0.000199      0.064485       0.275995        0.305674   \n",
       "4    0.000049     0.000814      0.004991       0.032791        0.040868   \n",
       "\n",
       "   pp_antigulp_c2  pp_antigulp_c32  ...  pp_misto_c2  pp_misto_c32  \\\n",
       "0        0.000065         0.000379  ...     0.000050      0.000338   \n",
       "1        0.000085         0.001716  ...     0.000066      0.001251   \n",
       "2        0.000068         0.000285  ...     0.000053      0.000271   \n",
       "3        0.000033         0.000210  ...     0.000038      0.000212   \n",
       "4        0.000042         0.000828  ...     0.000047      0.000647   \n",
       "\n",
       "   pp_misto_c512  pp_misto_c8192  pp_misto_c15449  pp_antireadit_2  \\\n",
       "0       0.068793        0.323576         0.345090         0.000031   \n",
       "1       0.002618        0.025771         0.055518         0.000037   \n",
       "2       0.090314        0.138327         0.149582         0.000043   \n",
       "3       0.058776        0.266913         0.303780         0.000024   \n",
       "4       0.006396        0.021022         0.026111         0.000045   \n",
       "\n",
       "   pp_antireadit_32  pp_antireadit_512  pp_antireadit_8192  pp_antireadit_0  \n",
       "0          0.000058           0.000218            0.010143         0.022693  \n",
       "1          0.000057           0.000076            0.000077         0.000606  \n",
       "2          0.000132           0.139898            0.746319         0.661946  \n",
       "3          0.000078           0.013062            0.173031         0.289449  \n",
       "4          0.000042           0.000146            0.004021         0.006865  \n",
       "\n",
       "[5 rows x 38 columns]"
      ]
     },
     "execution_count": 34,
     "metadata": {},
     "output_type": "execute_result"
    }
   ],
   "source": [
    "frasi_df.head()"
   ]
  },
  {
   "cell_type": "code",
   "execution_count": null,
   "metadata": {},
   "outputs": [],
   "source": []
  }
 ],
 "metadata": {
  "kernelspec": {
   "display_name": "Python 3",
   "language": "python",
   "name": "python3"
  },
  "language_info": {
   "codemirror_mode": {
    "name": "ipython",
    "version": 3
   },
   "file_extension": ".py",
   "mimetype": "text/x-python",
   "name": "python",
   "nbconvert_exporter": "python",
   "pygments_lexer": "ipython3",
   "version": "3.10.2"
  }
 },
 "nbformat": 4,
 "nbformat_minor": 2
}
