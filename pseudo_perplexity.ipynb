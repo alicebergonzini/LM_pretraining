{
 "cells": [
  {
   "cell_type": "code",
   "execution_count": 1,
   "metadata": {},
   "outputs": [],
   "source": [
    "import torch\n",
    "import torch.nn.functional as F\n",
    "import tokenizers\n",
    "import transformers\n",
    "from transformers import BertTokenizer, BertForMaskedLM\n",
    "import os\n",
    "import pandas as pd\n",
    "from tqdm import tqdm\n"
   ]
  },
  {
   "cell_type": "code",
   "execution_count": 2,
   "metadata": {},
   "outputs": [],
   "source": [
    "def mask_all_tokens(sentence, tokenizer):\n",
    "    masked_sentences = []\n",
    "    tokenized_sentence = tokenizer(sentence, return_tensors='pt')\n",
    "    for token_idx in range(1, len(tokenized_sentence['input_ids'][0]) - 1):\n",
    "        masked_input = tokenizer(sentence, return_tensors='pt')  # tokenized_sentence.copy()\n",
    "        masked_input['input_ids'][0][token_idx] = tokenizer.mask_token_id\n",
    "        masked_sentences.append(masked_input)\n",
    "    return masked_sentences\n",
    "\n",
    "def compute_perplexity(sentence, checkpoint, training_id):\n",
    "    tokenizer = BertTokenizer.from_pretrained(\"dbmdz/bert-base-italian-cased\")\n",
    "    if checkpoint == 15449:\n",
    "        model = BertForMaskedLM.from_pretrained(f\"C:/Users/bergo/OneDrive - University of Pisa/Tesi Magistrale/models/{training_id}/final_pretrained_model\")\n",
    "    else:\n",
    "        model = BertForMaskedLM.from_pretrained(f\"C:/Users/bergo/OneDrive - University of Pisa/Tesi Magistrale/models/{training_id}/checkpoints/checkpoint-step{checkpoint}\")\n",
    "    device = torch.device('cuda' if torch.cuda.is_available() else 'cpu')\n",
    "    masked_sentences = mask_all_tokens(sentence, tokenizer)\n",
    "    original_tokens = tokenizer(sentence)['input_ids']\n",
    "    sent_results = {'most_prob': [], 'correct_prob': [], 'top_1': [], 'top_5': [], 'top_10': []}\n",
    "    for sent_idx, masked_sentence in enumerate(masked_sentences):\n",
    "        masked_idx = sent_idx + 1\n",
    "        correct_token = original_tokens[masked_idx]\n",
    "        with torch.no_grad():\n",
    "            outputs = model(**masked_sentence.to(device))\n",
    "            logits = outputs.logits[0, masked_idx]\n",
    "            probs = logits.softmax(dim=-1)\n",
    "            values, predictions = probs.topk(10)\n",
    "            # sent_results['top_1'].append(1 if correct_token in predictions[0] else 0)\n",
    "            # sent_results['top_5'].append(1 if correct_token in predictions[:5] else 0)\n",
    "            # sent_results['top_10'].append(1 if correct_token in predictions else 0)\n",
    "            sent_results['correct_prob'].append(probs[correct_token].item())\n",
    "            # sent_results['most_prob'].append(values[0].item())\n",
    "    final_result = sum(sent_results['correct_prob']) / len(sent_results['correct_prob'])\n",
    "    return final_result\n"
   ]
  },
  {
   "cell_type": "code",
   "execution_count": 3,
   "metadata": {},
   "outputs": [
    {
     "data": {
      "text/plain": [
       "'\\nfrase = \"Nonostante l\\'apparente ineluttabilità del destino, intessuto com\\'è nel tessuto stesso del continuum spazio-temporale, la teoria della relatività generale di Einstein suggerisce che le curvature dello spazio-tempo, influenzate dalla distribuzione della massa-energia, possono dare origine a fenomeni astrofisici tanto enigmatici quanto i buchi neri e le onde gravitazionali.\"\\nresult = compute_perplexity(frase, tokenizer, model)\\n'"
      ]
     },
     "execution_count": 3,
     "metadata": {},
     "output_type": "execute_result"
    }
   ],
   "source": [
    "'''\n",
    "frase = \"Nonostante l'apparente ineluttabilità del destino, intessuto com'è nel tessuto stesso del continuum spazio-temporale, la teoria della relatività generale di Einstein suggerisce che le curvature dello spazio-tempo, influenzate dalla distribuzione della massa-energia, possono dare origine a fenomeni astrofisici tanto enigmatici quanto i buchi neri e le onde gravitazionali.\"\n",
    "result = compute_perplexity(frase, tokenizer, model)\n",
    "'''"
   ]
  },
  {
   "cell_type": "code",
   "execution_count": 21,
   "metadata": {},
   "outputs": [],
   "source": [
    "frasi_df = pd.read_csv(\"data/csv/pseudoppl/f30_words.csv\", encoding=\"utf-8\")"
   ]
  },
  {
   "cell_type": "code",
   "execution_count": 25,
   "metadata": {},
   "outputs": [
    {
     "name": "stdout",
     "output_type": "stream",
     "text": [
      "<class 'pandas.core.frame.DataFrame'>\n",
      "RangeIndex: 100 entries, 0 to 99\n",
      "Data columns (total 33 columns):\n",
      " #   Column              Non-Null Count  Dtype  \n",
      "---  ------              --------------  -----  \n",
      " 0   text                100 non-null    object \n",
      " 1   num_words           100 non-null    int64  \n",
      " 2   dataset             100 non-null    object \n",
      " 3   pp_gulp_c2          100 non-null    float64\n",
      " 4   pp_gulp_c32         100 non-null    float64\n",
      " 5   pp_gulp_c512        100 non-null    float64\n",
      " 6   pp_gulp_c8192       100 non-null    float64\n",
      " 7   pp_gulp_c15449      100 non-null    float64\n",
      " 8   pp_antigulp_c2      100 non-null    float64\n",
      " 9   pp_antigulp_c32     100 non-null    float64\n",
      " 10  pp_antigulp_c512    100 non-null    float64\n",
      " 11  pp_antigulp_c8192   100 non-null    float64\n",
      " 12  pp_antigulp_c15449  100 non-null    float64\n",
      " 13  pp_random5_c2       100 non-null    float64\n",
      " 14  pp_random5_c32      100 non-null    float64\n",
      " 15  pp_random5_c512     100 non-null    float64\n",
      " 16  pp_random5_c8192    100 non-null    float64\n",
      " 17  pp_random5_c15449   100 non-null    float64\n",
      " 18  pp_random18_c2      100 non-null    float64\n",
      " 19  pp_random18_c32     100 non-null    float64\n",
      " 20  pp_random18_c512    100 non-null    float64\n",
      " 21  pp_random18_c8192   100 non-null    float64\n",
      " 22  pp_random18_c15449  100 non-null    float64\n",
      " 23  pp_random29_c2      100 non-null    float64\n",
      " 24  pp_random29_c32     100 non-null    float64\n",
      " 25  pp_random29_c512    100 non-null    float64\n",
      " 26  pp_random29_c8192   100 non-null    float64\n",
      " 27  pp_random29_c15449  100 non-null    float64\n",
      " 28  pp_misto_c2         100 non-null    float64\n",
      " 29  pp_misto_c32        100 non-null    float64\n",
      " 30  pp_misto_c512       100 non-null    float64\n",
      " 31  pp_misto_c8192      100 non-null    float64\n",
      " 32  pp_misto_c15449     100 non-null    float64\n",
      "dtypes: float64(30), int64(1), object(2)\n",
      "memory usage: 25.9+ KB\n"
     ]
    }
   ],
   "source": [
    "frasi_df.info()"
   ]
  },
  {
   "cell_type": "code",
   "execution_count": 26,
   "metadata": {},
   "outputs": [
    {
     "name": "stdout",
     "output_type": "stream",
     "text": [
      "Calcolo perplexity del modello CURRICULUM allo step: 2\n"
     ]
    },
    {
     "name": "stderr",
     "output_type": "stream",
     "text": [
      "Processing sentences:   0%|          | 0/100 [00:00<?, ?it/s]"
     ]
    },
    {
     "name": "stderr",
     "output_type": "stream",
     "text": [
      "Processing sentences: 100%|██████████| 100/100 [01:06<00:00,  1.49it/s]\n"
     ]
    },
    {
     "name": "stdout",
     "output_type": "stream",
     "text": [
      "Calcolo perplexity del modello CURRICULUM allo step: 32\n"
     ]
    },
    {
     "name": "stderr",
     "output_type": "stream",
     "text": [
      "Processing sentences: 100%|██████████| 100/100 [01:04<00:00,  1.55it/s]\n"
     ]
    },
    {
     "name": "stdout",
     "output_type": "stream",
     "text": [
      "Calcolo perplexity del modello CURRICULUM allo step: 512\n"
     ]
    },
    {
     "name": "stderr",
     "output_type": "stream",
     "text": [
      "Processing sentences: 100%|██████████| 100/100 [00:59<00:00,  1.67it/s]\n"
     ]
    },
    {
     "name": "stdout",
     "output_type": "stream",
     "text": [
      "Calcolo perplexity del modello CURRICULUM allo step: 8192\n"
     ]
    },
    {
     "name": "stderr",
     "output_type": "stream",
     "text": [
      "Processing sentences: 100%|██████████| 100/100 [01:00<00:00,  1.64it/s]\n"
     ]
    },
    {
     "name": "stdout",
     "output_type": "stream",
     "text": [
      "Calcolo perplexity del modello CURRICULUM allo step: 15449\n"
     ]
    },
    {
     "name": "stderr",
     "output_type": "stream",
     "text": [
      "Processing sentences: 100%|██████████| 100/100 [00:59<00:00,  1.68it/s]\n"
     ]
    },
    {
     "name": "stdout",
     "output_type": "stream",
     "text": [
      "Calcolo perplexity del modello ANTI_CURRICULUM allo step: 2\n"
     ]
    },
    {
     "name": "stderr",
     "output_type": "stream",
     "text": [
      "Processing sentences: 100%|██████████| 100/100 [01:05<00:00,  1.52it/s]\n"
     ]
    },
    {
     "name": "stdout",
     "output_type": "stream",
     "text": [
      "Calcolo perplexity del modello ANTI_CURRICULUM allo step: 32\n"
     ]
    },
    {
     "name": "stderr",
     "output_type": "stream",
     "text": [
      "Processing sentences: 100%|██████████| 100/100 [01:05<00:00,  1.52it/s]\n"
     ]
    },
    {
     "name": "stdout",
     "output_type": "stream",
     "text": [
      "Calcolo perplexity del modello ANTI_CURRICULUM allo step: 512\n"
     ]
    },
    {
     "name": "stderr",
     "output_type": "stream",
     "text": [
      "Processing sentences: 100%|██████████| 100/100 [01:01<00:00,  1.63it/s]\n"
     ]
    },
    {
     "name": "stdout",
     "output_type": "stream",
     "text": [
      "Calcolo perplexity del modello ANTI_CURRICULUM allo step: 8192\n"
     ]
    },
    {
     "name": "stderr",
     "output_type": "stream",
     "text": [
      "Processing sentences: 100%|██████████| 100/100 [01:05<00:00,  1.53it/s]\n"
     ]
    },
    {
     "name": "stdout",
     "output_type": "stream",
     "text": [
      "Calcolo perplexity del modello ANTI_CURRICULUM allo step: 15449\n"
     ]
    },
    {
     "name": "stderr",
     "output_type": "stream",
     "text": [
      "Processing sentences: 100%|██████████| 100/100 [01:06<00:00,  1.50it/s]\n"
     ]
    },
    {
     "name": "stdout",
     "output_type": "stream",
     "text": [
      "Calcolo perplexity del modello RANDOM_S21 allo step: 2\n"
     ]
    },
    {
     "name": "stderr",
     "output_type": "stream",
     "text": [
      "Processing sentences: 100%|██████████| 100/100 [01:06<00:00,  1.49it/s]\n"
     ]
    },
    {
     "name": "stdout",
     "output_type": "stream",
     "text": [
      "Calcolo perplexity del modello RANDOM_S21 allo step: 32\n"
     ]
    },
    {
     "name": "stderr",
     "output_type": "stream",
     "text": [
      "Processing sentences: 100%|██████████| 100/100 [01:07<00:00,  1.48it/s]\n"
     ]
    },
    {
     "name": "stdout",
     "output_type": "stream",
     "text": [
      "Calcolo perplexity del modello RANDOM_S21 allo step: 512\n"
     ]
    },
    {
     "name": "stderr",
     "output_type": "stream",
     "text": [
      "Processing sentences: 100%|██████████| 100/100 [01:05<00:00,  1.54it/s]\n"
     ]
    },
    {
     "name": "stdout",
     "output_type": "stream",
     "text": [
      "Calcolo perplexity del modello RANDOM_S21 allo step: 8192\n"
     ]
    },
    {
     "name": "stderr",
     "output_type": "stream",
     "text": [
      "Processing sentences: 100%|██████████| 100/100 [01:07<00:00,  1.48it/s]\n"
     ]
    },
    {
     "name": "stdout",
     "output_type": "stream",
     "text": [
      "Calcolo perplexity del modello RANDOM_S21 allo step: 15449\n"
     ]
    },
    {
     "name": "stderr",
     "output_type": "stream",
     "text": [
      "Processing sentences: 100%|██████████| 100/100 [01:05<00:00,  1.54it/s]\n"
     ]
    },
    {
     "name": "stdout",
     "output_type": "stream",
     "text": [
      "Calcolo perplexity del modello RANDOM_S37 allo step: 2\n"
     ]
    },
    {
     "name": "stderr",
     "output_type": "stream",
     "text": [
      "Processing sentences: 100%|██████████| 100/100 [01:02<00:00,  1.61it/s]\n"
     ]
    },
    {
     "name": "stdout",
     "output_type": "stream",
     "text": [
      "Calcolo perplexity del modello RANDOM_S37 allo step: 32\n"
     ]
    },
    {
     "name": "stderr",
     "output_type": "stream",
     "text": [
      "Processing sentences: 100%|██████████| 100/100 [01:04<00:00,  1.56it/s]\n"
     ]
    },
    {
     "name": "stdout",
     "output_type": "stream",
     "text": [
      "Calcolo perplexity del modello RANDOM_S37 allo step: 512\n"
     ]
    },
    {
     "name": "stderr",
     "output_type": "stream",
     "text": [
      "Processing sentences: 100%|██████████| 100/100 [01:04<00:00,  1.54it/s]\n"
     ]
    },
    {
     "name": "stdout",
     "output_type": "stream",
     "text": [
      "Calcolo perplexity del modello RANDOM_S37 allo step: 8192\n"
     ]
    },
    {
     "name": "stderr",
     "output_type": "stream",
     "text": [
      "Processing sentences: 100%|██████████| 100/100 [01:05<00:00,  1.54it/s]\n"
     ]
    },
    {
     "name": "stdout",
     "output_type": "stream",
     "text": [
      "Calcolo perplexity del modello RANDOM_S37 allo step: 15449\n"
     ]
    },
    {
     "name": "stderr",
     "output_type": "stream",
     "text": [
      "Processing sentences: 100%|██████████| 100/100 [01:05<00:00,  1.52it/s]\n"
     ]
    }
   ],
   "source": [
    "checkpoints = [2, 32, 512, 8192, 15449]\n",
    "training_ids = [\"CURRICULUM\", \"ANTI_CURRICULUM\", \"RANDOM_S21\", \"RANDOM_S37\"]\n",
    "column_names = [\"readit\", \"antireadit\", \"random21\", \"random37\"]\n",
    "tqdm.pandas(desc=\"Processing sentences\")\n",
    "\n",
    "for i, training_id in enumerate(training_ids):\n",
    "    for checkpoint in checkpoints:\n",
    "        print(f\"Calcolo perplexity del modello {training_id} allo step: {checkpoint}\")\n",
    "        frasi_df[f\"pp_{column_names[i]}_c{checkpoint}\"] = frasi_df[\"text\"].progress_apply(lambda x: compute_perplexity(x, checkpoint, training_id))"
   ]
  },
  {
   "cell_type": "code",
   "execution_count": 7,
   "metadata": {},
   "outputs": [],
   "source": [
    "#frasi_df[\"readit_cFinal\"] = frasi_df[\"text\"].apply(compute_perplexity, args = )"
   ]
  },
  {
   "cell_type": "code",
   "execution_count": 27,
   "metadata": {},
   "outputs": [
    {
     "name": "stdout",
     "output_type": "stream",
     "text": [
      "<class 'pandas.core.frame.DataFrame'>\n",
      "RangeIndex: 100 entries, 0 to 99\n",
      "Data columns (total 53 columns):\n",
      " #   Column                Non-Null Count  Dtype  \n",
      "---  ------                --------------  -----  \n",
      " 0   text                  100 non-null    object \n",
      " 1   num_words             100 non-null    int64  \n",
      " 2   dataset               100 non-null    object \n",
      " 3   pp_gulp_c2            100 non-null    float64\n",
      " 4   pp_gulp_c32           100 non-null    float64\n",
      " 5   pp_gulp_c512          100 non-null    float64\n",
      " 6   pp_gulp_c8192         100 non-null    float64\n",
      " 7   pp_gulp_c15449        100 non-null    float64\n",
      " 8   pp_antigulp_c2        100 non-null    float64\n",
      " 9   pp_antigulp_c32       100 non-null    float64\n",
      " 10  pp_antigulp_c512      100 non-null    float64\n",
      " 11  pp_antigulp_c8192     100 non-null    float64\n",
      " 12  pp_antigulp_c15449    100 non-null    float64\n",
      " 13  pp_random5_c2         100 non-null    float64\n",
      " 14  pp_random5_c32        100 non-null    float64\n",
      " 15  pp_random5_c512       100 non-null    float64\n",
      " 16  pp_random5_c8192      100 non-null    float64\n",
      " 17  pp_random5_c15449     100 non-null    float64\n",
      " 18  pp_random18_c2        100 non-null    float64\n",
      " 19  pp_random18_c32       100 non-null    float64\n",
      " 20  pp_random18_c512      100 non-null    float64\n",
      " 21  pp_random18_c8192     100 non-null    float64\n",
      " 22  pp_random18_c15449    100 non-null    float64\n",
      " 23  pp_random29_c2        100 non-null    float64\n",
      " 24  pp_random29_c32       100 non-null    float64\n",
      " 25  pp_random29_c512      100 non-null    float64\n",
      " 26  pp_random29_c8192     100 non-null    float64\n",
      " 27  pp_random29_c15449    100 non-null    float64\n",
      " 28  pp_misto_c2           100 non-null    float64\n",
      " 29  pp_misto_c32          100 non-null    float64\n",
      " 30  pp_misto_c512         100 non-null    float64\n",
      " 31  pp_misto_c8192        100 non-null    float64\n",
      " 32  pp_misto_c15449       100 non-null    float64\n",
      " 33  pp_readit_c2          100 non-null    float64\n",
      " 34  pp_readit_c32         100 non-null    float64\n",
      " 35  pp_readit_c512        100 non-null    float64\n",
      " 36  pp_readit_c8192       100 non-null    float64\n",
      " 37  pp_readit_c15449      100 non-null    float64\n",
      " 38  pp_antireadit_c2      100 non-null    float64\n",
      " 39  pp_antireadit_c32     100 non-null    float64\n",
      " 40  pp_antireadit_c512    100 non-null    float64\n",
      " 41  pp_antireadit_c8192   100 non-null    float64\n",
      " 42  pp_antireadit_c15449  100 non-null    float64\n",
      " 43  pp_random21_c2        100 non-null    float64\n",
      " 44  pp_random21_c32       100 non-null    float64\n",
      " 45  pp_random21_c512      100 non-null    float64\n",
      " 46  pp_random21_c8192     100 non-null    float64\n",
      " 47  pp_random21_c15449    100 non-null    float64\n",
      " 48  pp_random37_c2        100 non-null    float64\n",
      " 49  pp_random37_c32       100 non-null    float64\n",
      " 50  pp_random37_c512      100 non-null    float64\n",
      " 51  pp_random37_c8192     100 non-null    float64\n",
      " 52  pp_random37_c15449    100 non-null    float64\n",
      "dtypes: float64(50), int64(1), object(2)\n",
      "memory usage: 41.5+ KB\n"
     ]
    }
   ],
   "source": [
    "frasi_df.info()"
   ]
  },
  {
   "cell_type": "code",
   "execution_count": 28,
   "metadata": {},
   "outputs": [],
   "source": [
    "frasi_df.to_csv(f\"C:/Users/bergo/OneDrive - University of Pisa/Tesi Magistrale/perplexity/pseudoppl_frasi_len30.csv\")"
   ]
  },
  {
   "cell_type": "code",
   "execution_count": null,
   "metadata": {},
   "outputs": [],
   "source": []
  }
 ],
 "metadata": {
  "kernelspec": {
   "display_name": "Python 3",
   "language": "python",
   "name": "python3"
  },
  "language_info": {
   "codemirror_mode": {
    "name": "ipython",
    "version": 3
   },
   "file_extension": ".py",
   "mimetype": "text/x-python",
   "name": "python",
   "nbconvert_exporter": "python",
   "pygments_lexer": "ipython3",
   "version": "3.10.2"
  }
 },
 "nbformat": 4,
 "nbformat_minor": 2
}
