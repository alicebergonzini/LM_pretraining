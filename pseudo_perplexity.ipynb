{
 "cells": [
  {
   "cell_type": "code",
   "execution_count": 8,
   "metadata": {},
   "outputs": [],
   "source": [
    "import torch\n",
    "import torch.nn.functional as F\n",
    "import tokenizers\n",
    "import transformers\n",
    "from transformers import BertTokenizer, BertForMaskedLM\n",
    "import os\n"
   ]
  },
  {
   "cell_type": "code",
   "execution_count": 19,
   "metadata": {},
   "outputs": [],
   "source": [
    "def mask_all_tokens(sentence, tokenizer):\n",
    "    masked_sentences = []\n",
    "    tokenized_sentence = tokenizer(sentence, return_tensors='pt')\n",
    "    for token_idx in range(1, len(tokenized_sentence['input_ids'][0]) - 1):\n",
    "        masked_input = tokenizer(sentence, return_tensors='pt')  # tokenized_sentence.copy()\n",
    "        masked_input['input_ids'][0][token_idx] = tokenizer.mask_token_id\n",
    "        masked_sentences.append(masked_input)\n",
    "    return masked_sentences\n",
    "\n",
    "def compute_perplexity(sentence, tokenizer, model):\n",
    "    device = torch.device('cuda' if torch.cuda.is_available() else 'cpu')\n",
    "    masked_sentences = mask_all_tokens(sentence, tokenizer)\n",
    "    original_tokens = tokenizer(sentence)['input_ids']\n",
    "    sent_results = {'most_prob': [], 'correct_prob': [], 'top_1': [], 'top_5': [], 'top_10': []}\n",
    "    for sent_idx, masked_sentence in enumerate(masked_sentences):\n",
    "        masked_idx = sent_idx + 1\n",
    "        correct_token = original_tokens[masked_idx]\n",
    "        with torch.no_grad():\n",
    "            outputs = model(**masked_sentence.to(device))\n",
    "            logits = outputs.logits[0, masked_idx]\n",
    "            probs = logits.softmax(dim=-1)\n",
    "            values, predictions = probs.topk(10)\n",
    "            # sent_results['top_1'].append(1 if correct_token in predictions[0] else 0)\n",
    "            # sent_results['top_5'].append(1 if correct_token in predictions[:5] else 0)\n",
    "            # sent_results['top_10'].append(1 if correct_token in predictions else 0)\n",
    "            sent_results['correct_prob'].append(probs[correct_token].item())\n",
    "            # sent_results['most_prob'].append(values[0].item())\n",
    "    final_result = sum(sent_results['correct_prob']) / len(sent_results['correct_prob'])\n",
    "    return final_result\n"
   ]
  },
  {
   "cell_type": "code",
   "execution_count": 22,
   "metadata": {},
   "outputs": [],
   "source": [
    "tokenizer = BertTokenizer.from_pretrained(\"dbmdz/bert-base-italian-cased\")\n",
    "model = BertForMaskedLM.from_pretrained(\"C:/Users/bergo/OneDrive - University of Pisa/Tesi Magistrale/models/ANTI_CURRICULUM/final_pretrained_model\")\n",
    "frase = \"Nonostante l'apparente ineluttabilità del destino, intessuto com'è nel tessuto stesso del continuum spazio-temporale, la teoria della relatività generale di Einstein suggerisce che le curvature dello spazio-tempo, influenzate dalla distribuzione della massa-energia, possono dare origine a fenomeni astrofisici tanto enigmatici quanto i buchi neri e le onde gravitazionali.\"\n",
    "result = compute_perplexity(frase, tokenizer, model)"
   ]
  },
  {
   "cell_type": "code",
   "execution_count": 23,
   "metadata": {},
   "outputs": [
    {
     "data": {
      "text/plain": [
       "0.1436407217211672"
      ]
     },
     "execution_count": 23,
     "metadata": {},
     "output_type": "execute_result"
    }
   ],
   "source": [
    "result"
   ]
  },
  {
   "cell_type": "code",
   "execution_count": null,
   "metadata": {},
   "outputs": [],
   "source": []
  }
 ],
 "metadata": {
  "kernelspec": {
   "display_name": "Python 3",
   "language": "python",
   "name": "python3"
  },
  "language_info": {
   "codemirror_mode": {
    "name": "ipython",
    "version": 3
   },
   "file_extension": ".py",
   "mimetype": "text/x-python",
   "name": "python",
   "nbconvert_exporter": "python",
   "pygments_lexer": "ipython3",
   "version": "3.10.2"
  }
 },
 "nbformat": 4,
 "nbformat_minor": 2
}
