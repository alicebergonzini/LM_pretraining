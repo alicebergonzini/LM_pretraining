{
 "cells": [
  {
   "cell_type": "markdown",
   "id": "e4f88940",
   "metadata": {},
   "source": [
    "### PRETRAINING DI BERT"
   ]
  },
  {
   "cell_type": "code",
   "execution_count": 1,
   "id": "d3f8283b",
   "metadata": {},
   "outputs": [],
   "source": [
    "# classe per configurazione modello\n",
    "#classe per configurazione del training set? "
   ]
  },
  {
   "cell_type": "code",
   "execution_count": 4,
   "id": "6be229bf",
   "metadata": {},
   "outputs": [],
   "source": [
    "#CODICE MAIN \n",
    "\n",
    "#setseed \n",
    "#load_dataset (train+validation -> split fare prima o dopo? )\n",
    "#def config del modello \n",
    "#load tokenizer \n",
    "#load modello\n",
    "#tokenizzare il testo \n"
   ]
  },
  {
   "cell_type": "code",
   "execution_count": null,
   "id": "0aeb62fe",
   "metadata": {},
   "outputs": [],
   "source": []
  }
 ],
 "metadata": {
  "kernelspec": {
   "display_name": "Python 3 (ipykernel)",
   "language": "python",
   "name": "python3"
  },
  "language_info": {
   "codemirror_mode": {
    "name": "ipython",
    "version": 3
   },
   "file_extension": ".py",
   "mimetype": "text/x-python",
   "name": "python",
   "nbconvert_exporter": "python",
   "pygments_lexer": "ipython3",
   "version": "3.10.2"
  }
 },
 "nbformat": 4,
 "nbformat_minor": 5
}
