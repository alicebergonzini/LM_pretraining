{
 "cells": [
  {
   "cell_type": "markdown",
   "metadata": {},
   "source": [
    "## Preprocessing\n",
    "\n",
    "Estraiamo un campione di frasi a partire dai file conllu di Wikipedia italiana elaborata. "
   ]
  },
  {
   "cell_type": "code",
   "execution_count": 1,
   "metadata": {},
   "outputs": [],
   "source": [
    "import os\n",
    "import re\n",
    "import pandas as pd\n",
    "from tqdm import tqdm\n"
   ]
  },
  {
   "cell_type": "code",
   "execution_count": 2,
   "metadata": {},
   "outputs": [],
   "source": [
    "def get_id(line):\n",
    "    sent_id = re.sub(r'\\D', '', line)\n",
    "    return sent_id\n",
    "\n",
    "def get_text(line):\n",
    "    sent = line[9:].rstrip('\\n')\n",
    "    return sent\n",
    "\n",
    "def get_sentences(file_conllu):\n",
    "    sentences = []\n",
    "    ids = []\n",
    "    with tqdm(total=sum(1 for _ in open(file_conllu, 'r', encoding='utf-8')), desc='Progresso estrazione frasi del file {file_conllu}') as pbar:\n",
    "        for line in open(file_conllu, 'r', encoding='utf-8'):\n",
    "            pbar.update(1)  # Aggiorna la barra di avanzamento\n",
    "            if line.startswith(\"# sent_id\"):\n",
    "                current_id = get_id(line)  \n",
    "                ids.append(current_id)\n",
    "            elif line.startswith(\"# text\"):\n",
    "                current_sent = get_text(line)\n",
    "                sentences.append(current_sent)\n",
    "    return ids, sentences"
   ]
  },
  {
   "cell_type": "code",
   "execution_count": 3,
   "metadata": {},
   "outputs": [
    {
     "name": "stdout",
     "output_type": "stream",
     "text": [
      "['C:/Users/bergo/OneDrive - University of Pisa/Tesi Magistrale/wiki_conllu\\\\wiki_10_2021_015.conllu']\n"
     ]
    }
   ],
   "source": [
    "#nel caso in cui dovessimo itereare sui diversi file nella dir\n",
    "ds_directory = \"C:/Users/bergo/OneDrive - University of Pisa/Tesi Magistrale/wiki_conllu\"\n",
    "ds_files = []\n",
    "for file_name in os.listdir(ds_directory):\n",
    "    file_path = os.path.join(ds_directory, file_name)\n",
    "    ds_files.append(file_path)  #ottengo il nome dei diversi file all'interno della directory\n",
    "print(ds_files)"
   ]
  },
  {
   "cell_type": "code",
   "execution_count": 4,
   "metadata": {},
   "outputs": [
    {
     "data": {
      "text/plain": [
       "'with open(ds_files[0], \"r\", encoding=\"utf-8\") as file:\\n    # Legge tutte le righe del file in una lista\\n    righe = file.readlines()'"
      ]
     },
     "execution_count": 4,
     "metadata": {},
     "output_type": "execute_result"
    }
   ],
   "source": [
    "'''with open(ds_files[0], \"r\", encoding=\"utf-8\") as file:\n",
    "    # Legge tutte le righe del file in una lista\n",
    "    righe = file.readlines()'''"
   ]
  },
  {
   "cell_type": "code",
   "execution_count": 5,
   "metadata": {},
   "outputs": [
    {
     "name": "stderr",
     "output_type": "stream",
     "text": [
      "Progresso estrazione frasi del file {file_conllu}: 100%|██████████| 29437395/29437395 [00:30<00:00, 966186.88it/s] \n"
     ]
    }
   ],
   "source": [
    "data_df = pd.DataFrame(columns=[\"id\", \"text\"])\n",
    "data_df[\"id\"], data_df[\"text\"] = get_sentences(ds_files[0])   #per ora lavoro su un singolo file"
   ]
  },
  {
   "cell_type": "code",
   "execution_count": 6,
   "metadata": {},
   "outputs": [
    {
     "data": {
      "text/html": [
       "<div>\n",
       "<style scoped>\n",
       "    .dataframe tbody tr th:only-of-type {\n",
       "        vertical-align: middle;\n",
       "    }\n",
       "\n",
       "    .dataframe tbody tr th {\n",
       "        vertical-align: top;\n",
       "    }\n",
       "\n",
       "    .dataframe thead th {\n",
       "        text-align: right;\n",
       "    }\n",
       "</style>\n",
       "<table border=\"1\" class=\"dataframe\">\n",
       "  <thead>\n",
       "    <tr style=\"text-align: right;\">\n",
       "      <th></th>\n",
       "      <th>id</th>\n",
       "      <th>text</th>\n",
       "    </tr>\n",
       "  </thead>\n",
       "  <tbody>\n",
       "    <tr>\n",
       "      <th>0</th>\n",
       "      <td>1</td>\n",
       "      <td>impeto.</td>\n",
       "    </tr>\n",
       "    <tr>\n",
       "      <th>1</th>\n",
       "      <td>2</td>\n",
       "      <td>L’occupazione di Pastrengo.</td>\n",
       "    </tr>\n",
       "    <tr>\n",
       "      <th>2</th>\n",
       "      <td>3</td>\n",
       "      <td>Oramai per gli austriaci si trattava di prende...</td>\n",
       "    </tr>\n",
       "    <tr>\n",
       "      <th>3</th>\n",
       "      <td>4</td>\n",
       "      <td>Gli uomini della Brigata “Cuneo” intanto entra...</td>\n",
       "    </tr>\n",
       "    <tr>\n",
       "      <th>4</th>\n",
       "      <td>5</td>\n",
       "      <td>Ma una batteria di artiglieria a cavallo dei p...</td>\n",
       "    </tr>\n",
       "  </tbody>\n",
       "</table>\n",
       "</div>"
      ],
      "text/plain": [
       "  id                                               text\n",
       "0  1                                            impeto.\n",
       "1  2                        L’occupazione di Pastrengo.\n",
       "2  3  Oramai per gli austriaci si trattava di prende...\n",
       "3  4  Gli uomini della Brigata “Cuneo” intanto entra...\n",
       "4  5  Ma una batteria di artiglieria a cavallo dei p..."
      ]
     },
     "execution_count": 6,
     "metadata": {},
     "output_type": "execute_result"
    }
   ],
   "source": [
    "data_df.head()"
   ]
  },
  {
   "cell_type": "code",
   "execution_count": 7,
   "metadata": {},
   "outputs": [
    {
     "name": "stdout",
     "output_type": "stream",
     "text": [
      "<class 'pandas.core.frame.DataFrame'>\n",
      "RangeIndex: 1057516 entries, 0 to 1057515\n",
      "Data columns (total 2 columns):\n",
      " #   Column  Non-Null Count    Dtype \n",
      "---  ------  --------------    ----- \n",
      " 0   id      1057516 non-null  object\n",
      " 1   text    1057516 non-null  object\n",
      "dtypes: object(2)\n",
      "memory usage: 16.1+ MB\n"
     ]
    }
   ],
   "source": [
    "data_df.info()"
   ]
  },
  {
   "cell_type": "code",
   "execution_count": 9,
   "metadata": {},
   "outputs": [],
   "source": [
    "samplino = data_df.sample(n=4000, random_state=42) #campione piccino per fare le prove"
   ]
  },
  {
   "cell_type": "markdown",
   "metadata": {},
   "source": [
    "### Estrazione degli indici di complessità per ogni frase\n",
    "\n",
    "Utilizziamo l'API _read-it_ "
   ]
  },
  {
   "cell_type": "code",
   "execution_count": 10,
   "metadata": {},
   "outputs": [],
   "source": [
    "import requests\n",
    "import sys"
   ]
  },
  {
   "cell_type": "code",
   "execution_count": 14,
   "metadata": {},
   "outputs": [],
   "source": [
    "\n",
    "SERVER_PATH = \"http://api.italianlp.it\"\n",
    "#SERVER_PATH = \"http://itanlp-gpu.ilc.cnr.it:13000\"\n",
    "\n",
    "def load_document(text):\n",
    "    r = requests.post(SERVER_PATH + '/documents/',           # carica il documento nel database del server\n",
    "                      data={'text': text,                    # durante il caricamento viene eseguita un'analisi linguistica necessaria per calcolare la leggibilita'\n",
    "                          'lang': 'IT',\n",
    "                          'extra_tasks': [\"readability\"]     # chiede al server di calcolare anche la leggibilità del docuemnto\n",
    "                  })\n",
    "    doc_id = r.json()['id']                                  # id del documento nel database del server, che serve per richiedere i risultati delle analisi\n",
    "    return doc_id\n",
    "\n",
    "def get_doc_score(doc_id):\n",
    "    r = requests.get(SERVER_PATH + '/documents/details/%s' % doc_id)\n",
    "    result = r.json()\n",
    "    return result\n",
    "\n"
   ]
  },
  {
   "cell_type": "code",
   "execution_count": 18,
   "metadata": {},
   "outputs": [
    {
     "name": "stdout",
     "output_type": "stream",
     "text": [
      "{'named_entity_executed': False, 'doc_time': '2024-05-13T15:57:01.643925Z', 'readability_executed': True, 'sentences': {'count': 2, 'prev': None, 'data': [{'sentiment_positive_negative_probability': None, 'sentiment_value': None, 'sequence': 1, 'readability_score_all': 89.3436804643733, 'sentiment_negative_probability': None, 'sentiment_neutral_probability': None, 'tokens': [{'word': 'Ho', 'ten': 'p', 'sequence': 1, 'pos': 'V', 'per': '1', 'lemma': 'avere', 'num': 's', 'named_entity_instance': None, 'dep_type': 'ROOT', 'dep_parent_sequence': None, 'cpos': 'V', 'gen': None, 'mod': 'i'}, {'word': 'tanta', 'ten': None, 'sequence': 2, 'pos': 'DI', 'per': None, 'lemma': 'tanto', 'num': 's', 'named_entity_instance': None, 'dep_type': 'mod', 'dep_parent_sequence': 3, 'cpos': 'D', 'gen': 'f', 'mod': None}, {'word': 'voglia', 'ten': None, 'sequence': 3, 'pos': 'S', 'per': None, 'lemma': 'voglia', 'num': 's', 'named_entity_instance': None, 'dep_type': 'obj', 'dep_parent_sequence': 1, 'cpos': 'S', 'gen': 'f', 'mod': None}, {'word': 'di', 'ten': None, 'sequence': 4, 'pos': 'E', 'per': None, 'lemma': 'di', 'num': None, 'named_entity_instance': None, 'dep_type': 'comp', 'dep_parent_sequence': 3, 'cpos': 'E', 'gen': None, 'mod': None}, {'word': 'pollo', 'ten': None, 'sequence': 5, 'pos': 'S', 'per': None, 'lemma': 'pollo', 'num': 's', 'named_entity_instance': None, 'dep_type': 'prep', 'dep_parent_sequence': 4, 'cpos': 'S', 'gen': 'm', 'mod': None}, {'word': 'del', 'ten': None, 'sequence': 6, 'pos': 'EA', 'per': None, 'lemma': 'di', 'num': 's', 'named_entity_instance': None, 'dep_type': 'comp', 'dep_parent_sequence': 5, 'cpos': 'E', 'gen': 'm', 'mod': None}, {'word': 'mercato', 'ten': None, 'sequence': 7, 'pos': 'S', 'per': None, 'lemma': 'mercato', 'num': 's', 'named_entity_instance': None, 'dep_type': 'prep', 'dep_parent_sequence': 6, 'cpos': 'S', 'gen': 'm', 'mod': None}, {'word': '(', 'ten': None, 'sequence': 8, 'pos': 'FB', 'per': None, 'lemma': '(', 'num': None, 'named_entity_instance': None, 'dep_type': 'punc', 'dep_parent_sequence': 9, 'cpos': 'F', 'gen': None, 'mod': None}, {'word': 'quello', 'ten': None, 'sequence': 9, 'pos': 'PD', 'per': None, 'lemma': 'quello', 'num': 's', 'named_entity_instance': None, 'dep_type': 'mod', 'dep_parent_sequence': 7, 'cpos': 'P', 'gen': 'm', 'mod': None}, {'word': 'ruspante', 'ten': None, 'sequence': 10, 'pos': 'A', 'per': None, 'lemma': 'ruspante', 'num': 's', 'named_entity_instance': None, 'dep_type': 'mod', 'dep_parent_sequence': 9, 'cpos': 'A', 'gen': 'n', 'mod': None}, {'word': ')', 'ten': None, 'sequence': 11, 'pos': 'FB', 'per': None, 'lemma': ')', 'num': None, 'named_entity_instance': None, 'dep_type': 'punc', 'dep_parent_sequence': 9, 'cpos': 'F', 'gen': None, 'mod': None}, {'word': ',', 'ten': None, 'sequence': 12, 'pos': 'FF', 'per': None, 'lemma': ',', 'num': None, 'named_entity_instance': None, 'dep_type': 'con', 'dep_parent_sequence': 1, 'cpos': 'F', 'gen': None, 'mod': None}, {'word': 'non', 'ten': None, 'sequence': 13, 'pos': 'BN', 'per': None, 'lemma': 'non', 'num': None, 'named_entity_instance': None, 'dep_type': 'neg', 'dep_parent_sequence': 14, 'cpos': 'B', 'gen': None, 'mod': None}, {'word': 'vedo', 'ten': 'p', 'sequence': 14, 'pos': 'V', 'per': '1', 'lemma': 'vedere', 'num': 's', 'named_entity_instance': None, 'dep_type': 'conj', 'dep_parent_sequence': 1, 'cpos': 'V', 'gen': None, 'mod': 'i'}, {'word': \"l'\", 'ten': None, 'sequence': 15, 'pos': 'RD', 'per': None, 'lemma': 'il', 'num': 's', 'named_entity_instance': None, 'dep_type': 'det', 'dep_parent_sequence': 16, 'cpos': 'R', 'gen': 'n', 'mod': None}, {'word': 'ora', 'ten': None, 'sequence': 16, 'pos': 'B', 'per': None, 'lemma': 'ora', 'num': None, 'named_entity_instance': None, 'dep_type': 'mod_temp', 'dep_parent_sequence': 18, 'cpos': 'B', 'gen': None, 'mod': None}, {'word': 'sia', 'ten': 'p', 'sequence': 17, 'pos': 'VA', 'per': '3', 'lemma': 'essere', 'num': 's', 'named_entity_instance': None, 'dep_type': 'aux', 'dep_parent_sequence': 18, 'cpos': 'V', 'gen': None, 'mod': 'c'}, {'word': 'sabato', 'ten': None, 'sequence': 18, 'pos': 'S', 'per': None, 'lemma': 'sabato', 'num': 's', 'named_entity_instance': None, 'dep_type': 'obj', 'dep_parent_sequence': 14, 'cpos': 'S', 'gen': 'm', 'mod': None}, {'word': 'per', 'ten': None, 'sequence': 19, 'pos': 'E', 'per': None, 'lemma': 'per', 'num': None, 'named_entity_instance': None, 'dep_type': 'arg', 'dep_parent_sequence': 14, 'cpos': 'E', 'gen': None, 'mod': None}, {'word': 'mangiar-', 'ten': None, 'sequence': 20, 'pos': 'V', 'per': None, 'lemma': 'mangiare', 'num': None, 'named_entity_instance': None, 'dep_type': 'prep', 'dep_parent_sequence': 19, 'cpos': 'V', 'gen': None, 'mod': 'f'}, {'word': 'lo', 'ten': None, 'sequence': 21, 'pos': 'PC', 'per': '3', 'lemma': 'lo', 'num': 's', 'named_entity_instance': None, 'dep_type': 'obj', 'dep_parent_sequence': 20, 'cpos': 'P', 'gen': 'm', 'mod': None}, {'word': '.', 'ten': None, 'sequence': 22, 'pos': 'FS', 'per': None, 'lemma': '.', 'num': None, 'named_entity_instance': None, 'dep_type': 'punc', 'dep_parent_sequence': 1, 'cpos': 'F', 'gen': None, 'mod': None}], 'sentiment_executed': False, 'readability_score_syntax': 94.2965933354738, 'readability_score_lexical': 44.2133173706463, 'raw_text': \"Ho tanta voglia di pollo del mercato (quello ruspante), non vedo l'ora sia sabato per mangiarlo.\", 'sentiment_positive_probability': None, 'readability_score_base': 54.163354941488}, {'sentiment_positive_negative_probability': None, 'sentiment_value': None, 'sequence': 2, 'readability_score_all': 84.1713737063558, 'sentiment_negative_probability': None, 'sentiment_neutral_probability': None, 'tokens': [{'word': 'Ogni', 'ten': None, 'sequence': 1, 'pos': 'DI', 'per': None, 'lemma': 'ogni', 'num': 's', 'named_entity_instance': None, 'dep_type': 'mod', 'dep_parent_sequence': 4, 'cpos': 'D', 'gen': 'n', 'mod': None}, {'word': 'tanto', 'ten': None, 'sequence': 2, 'pos': 'B', 'per': None, 'lemma': 'tanto', 'num': None, 'named_entity_instance': None, 'dep_type': 'mod', 'dep_parent_sequence': 1, 'cpos': 'B', 'gen': None, 'mod': None}, {'word': 'mi', 'ten': None, 'sequence': 3, 'pos': 'PC', 'per': '1', 'lemma': 'mi', 'num': 's', 'named_entity_instance': None, 'dep_type': 'comp_ind', 'dep_parent_sequence': 4, 'cpos': 'P', 'gen': 'n', 'mod': None}, {'word': 'chiedo', 'ten': 'p', 'sequence': 4, 'pos': 'V', 'per': '1', 'lemma': 'chiedere', 'num': 's', 'named_entity_instance': None, 'dep_type': 'ROOT', 'dep_parent_sequence': None, 'cpos': 'V', 'gen': None, 'mod': 'i'}, {'word': 'se', 'ten': None, 'sequence': 5, 'pos': 'PC', 'per': '3', 'lemma': 'se', 'num': 'n', 'named_entity_instance': None, 'dep_type': 'clit', 'dep_parent_sequence': 7, 'cpos': 'P', 'gen': 'n', 'mod': None}, {'word': 'ne', 'ten': None, 'sequence': 6, 'pos': 'PC', 'per': None, 'lemma': 'ne', 'num': 'n', 'named_entity_instance': None, 'dep_type': 'comp', 'dep_parent_sequence': 7, 'cpos': 'P', 'gen': 'n', 'mod': None}, {'word': 'vale', 'ten': 'p', 'sequence': 7, 'pos': 'V', 'per': '3', 'lemma': 'valere', 'num': 's', 'named_entity_instance': None, 'dep_type': 'conj', 'dep_parent_sequence': 4, 'cpos': 'V', 'gen': None, 'mod': 'i'}, {'word': 'la', 'ten': None, 'sequence': 8, 'pos': 'RD', 'per': None, 'lemma': 'il', 'num': 's', 'named_entity_instance': None, 'dep_type': 'det', 'dep_parent_sequence': 9, 'cpos': 'R', 'gen': 'f', 'mod': None}, {'word': 'pena', 'ten': None, 'sequence': 9, 'pos': 'S', 'per': None, 'lemma': 'pena', 'num': 's', 'named_entity_instance': None, 'dep_type': 'subj', 'dep_parent_sequence': 7, 'cpos': 'S', 'gen': 'f', 'mod': None}, {'word': 'spendere', 'ten': None, 'sequence': 10, 'pos': 'V', 'per': None, 'lemma': 'spendere', 'num': None, 'named_entity_instance': None, 'dep_type': 'arg', 'dep_parent_sequence': 7, 'cpos': 'V', 'gen': None, 'mod': 'f'}, {'word': '10', 'ten': None, 'sequence': 11, 'pos': 'N', 'per': None, 'lemma': '10', 'num': None, 'named_entity_instance': None, 'dep_type': 'mod', 'dep_parent_sequence': 12, 'cpos': 'N', 'gen': None, 'mod': None}, {'word': 'euro', 'ten': None, 'sequence': 12, 'pos': 'N', 'per': None, 'lemma': 'euro', 'num': None, 'named_entity_instance': None, 'dep_type': 'obj', 'dep_parent_sequence': 10, 'cpos': 'N', 'gen': None, 'mod': None}, {'word': 'per', 'ten': None, 'sequence': 13, 'pos': 'E', 'per': None, 'lemma': 'per', 'num': None, 'named_entity_instance': None, 'dep_type': 'comp', 'dep_parent_sequence': 12, 'cpos': 'E', 'gen': None, 'mod': None}, {'word': 'mezzo', 'ten': None, 'sequence': 14, 'pos': 'A', 'per': None, 'lemma': 'mezzo', 'num': 's', 'named_entity_instance': None, 'dep_type': 'mod', 'dep_parent_sequence': 15, 'cpos': 'A', 'gen': 'm', 'mod': None}, {'word': 'pollo', 'ten': None, 'sequence': 15, 'pos': 'S', 'per': None, 'lemma': 'pollo', 'num': 's', 'named_entity_instance': None, 'dep_type': 'prep', 'dep_parent_sequence': 13, 'cpos': 'S', 'gen': 'm', 'mod': None}, {'word': 'e', 'ten': None, 'sequence': 16, 'pos': 'CC', 'per': None, 'lemma': 'e', 'num': None, 'named_entity_instance': None, 'dep_type': 'con', 'dep_parent_sequence': 7, 'cpos': 'C', 'gen': None, 'mod': None}, {'word': 'delle', 'ten': None, 'sequence': 17, 'pos': 'EA', 'per': None, 'lemma': 'di', 'num': 'p', 'named_entity_instance': None, 'dep_type': 'comp', 'dep_parent_sequence': 7, 'cpos': 'E', 'gen': 'f', 'mod': None}, {'word': 'patatine', 'ten': None, 'sequence': 18, 'pos': 'S', 'per': None, 'lemma': 'patatina', 'num': 'p', 'named_entity_instance': None, 'dep_type': 'prep', 'dep_parent_sequence': 17, 'cpos': 'S', 'gen': 'f', 'mod': None}, {'word': ',', 'ten': None, 'sequence': 19, 'pos': 'FF', 'per': None, 'lemma': ',', 'num': None, 'named_entity_instance': None, 'dep_type': 'punc', 'dep_parent_sequence': 21, 'cpos': 'F', 'gen': None, 'mod': None}, {'word': 'però', 'ten': None, 'sequence': 20, 'pos': 'B', 'per': None, 'lemma': 'però', 'num': None, 'named_entity_instance': None, 'dep_type': 'mod', 'dep_parent_sequence': 21, 'cpos': 'B', 'gen': None, 'mod': None}, {'word': 'quando', 'ten': None, 'sequence': 21, 'pos': 'CS', 'per': None, 'lemma': 'quando', 'num': None, 'named_entity_instance': None, 'dep_type': 'conj', 'dep_parent_sequence': 4, 'cpos': 'C', 'gen': None, 'mod': None}, {'word': 'lo', 'ten': None, 'sequence': 22, 'pos': 'RD', 'per': None, 'lemma': 'il', 'num': 's', 'named_entity_instance': None, 'dep_type': 'det', 'dep_parent_sequence': 23, 'cpos': 'R', 'gen': 'm', 'mod': None}, {'word': 'mangio', 'ten': 'p', 'sequence': 23, 'pos': 'V', 'per': '1', 'lemma': 'mangiare', 'num': 's', 'named_entity_instance': None, 'dep_type': 'subj', 'dep_parent_sequence': 25, 'cpos': 'V', 'gen': None, 'mod': 'i'}, {'word': 'mi', 'ten': None, 'sequence': 24, 'pos': 'PC', 'per': '1', 'lemma': 'mi', 'num': 's', 'named_entity_instance': None, 'dep_type': 'clit', 'dep_parent_sequence': 25, 'cpos': 'P', 'gen': 'n', 'mod': None}, {'word': 'sento', 'ten': 'p', 'sequence': 25, 'pos': 'V', 'per': '1', 'lemma': 'sentire', 'num': 's', 'named_entity_instance': None, 'dep_type': 'sub', 'dep_parent_sequence': 21, 'cpos': 'V', 'gen': None, 'mod': 'i'}, {'word': 'felice', 'ten': None, 'sequence': 26, 'pos': 'A', 'per': None, 'lemma': 'felice', 'num': 's', 'named_entity_instance': None, 'dep_type': 'pred', 'dep_parent_sequence': 25, 'cpos': 'A', 'gen': 'n', 'mod': None}, {'word': '.', 'ten': None, 'sequence': 27, 'pos': 'FS', 'per': None, 'lemma': '.', 'num': None, 'named_entity_instance': None, 'dep_type': 'punc', 'dep_parent_sequence': 4, 'cpos': 'F', 'gen': None, 'mod': None}], 'sentiment_executed': False, 'readability_score_syntax': 93.1599696439533, 'readability_score_lexical': 32.6903787489777, 'raw_text': 'Ogni tanto mi chiedo se ne vale la pena spendere 10 euro per mezzo pollo e delle patatine, però quando lo mangio mi sento felice.', 'sentiment_positive_probability': None, 'readability_score_base': 55.15620423633}], 'next': None}, 'irony_yes_probability': None, 'sentiment_value_probability': None, 'irony_no_probability': None, 'hate_executed': False, 'sentiment_neutral_probability': None, 'postagging_executed': True, 'readability_score_all': 99.6041836303679, 'parsing_executed': False, 'witness_executed': False, 'readability_score_lexical': 12.4467755011544, 'witness_value': None, 'sentiment_sentence_executed': False, 'hate_no_probability': None, 'sentiment_positive_negative_probability': None, 'sarcasm_yes_probability': None, 'hate_value': None, 'readability_score_base': 40.9516648962884, 'sarcasm_executed': False, 'sentiment_positive_probability': None, 'sentiment_value': None, 'language': 'IT', 'irony_value': None, 'hate_yes_probability': None, 'sentiment_negative_probability': None, 'created_at': '2024-05-13T15:57:01.643876Z', 'irony_executed': False, 'sarcasm_value': None, 'witness_yes_probability': None, 'sentiment_executed': False, 'readability_score_syntax': 99.858581275453, 'witness_no_probability': None, 'sarcasm_no_probability': None}\n"
     ]
    }
   ],
   "source": [
    "text = \"Ho tanta voglia di pollo del mercato (quello ruspante), non vedo l'ora sia sabato per mangiarlo. Ogni tanto mi chiedo se ne vale la pena spendere 10 euro per mezzo pollo e delle patatine, però quando lo mangio mi sento felice.\"\n",
    "\n",
    "doc_id = load_document(text)\n",
    "r_score = get_doc_score(doc_id)\n",
    "\n",
    "print(r_score)"
   ]
  },
  {
   "cell_type": "code",
   "execution_count": 19,
   "metadata": {},
   "outputs": [
    {
     "name": "stdout",
     "output_type": "stream",
     "text": [
      "Ho tanta voglia di pollo del mercato (quello ruspante), non vedo l'ora sia sabato per mangiarlo.\n"
     ]
    }
   ],
   "source": [
    "print(r_score[\"sentences\"][\"data\"][0][\"raw_text\"])"
   ]
  },
  {
   "cell_type": "code",
   "execution_count": 20,
   "metadata": {},
   "outputs": [],
   "source": [
    "#qui iteriamo sui risultati ottenuti per un singolo documento\n",
    "def get_sen_scores(doc_scores):\n",
    "    all_sent_rscore = []\n",
    "    all_sent_text = []\n",
    "    for i, sent_results in enumerate(doc_scores['sentences']['data']):\n",
    "        all_sent_rscore = all_sent_rscore + sent_results['readability_score_all']\n",
    "        all_sent_text = all_sent_text + sent_results['raw_text']\n",
    "    return all_sent_text, all_sent_rscore\n",
    "\n",
    "#si passa all'api un doc di 1000 frasi per volta.\n",
    "def readability_extraction(sen_list):\n",
    "    all_scores = []\n",
    "    for i in range(0, len(sen_list), 1000):\n",
    "        doc = \"\\n\".join(sen_list[i:i+1000])\n",
    "        doc_id = load_document(doc)\n",
    "        r_scores = get_doc_score(doc_id)\n",
    "        all_scores.append(r_scores)\n",
    "    return all_scores\n",
    "\n",
    "#qui si ottiene la struttura dati finale dove per ogni frase abbiamo lo score ottenuto da read_it\n",
    "def get_final_data(all_scores):\n",
    "    text_list = []\n",
    "    score_list = []\n",
    "    for doc_scores in all_scores:\n",
    "        text, score = get_sen_scores(doc_scores)\n",
    "        text_list.append(text)\n",
    "        score_list.append(score)\n",
    "    return text_list, score_list\n"
   ]
  },
  {
   "cell_type": "code",
   "execution_count": 21,
   "metadata": {},
   "outputs": [
    {
     "data": {
      "text/html": [
       "<div>\n",
       "<style scoped>\n",
       "    .dataframe tbody tr th:only-of-type {\n",
       "        vertical-align: middle;\n",
       "    }\n",
       "\n",
       "    .dataframe tbody tr th {\n",
       "        vertical-align: top;\n",
       "    }\n",
       "\n",
       "    .dataframe thead th {\n",
       "        text-align: right;\n",
       "    }\n",
       "</style>\n",
       "<table border=\"1\" class=\"dataframe\">\n",
       "  <thead>\n",
       "    <tr style=\"text-align: right;\">\n",
       "      <th></th>\n",
       "      <th>id</th>\n",
       "      <th>text</th>\n",
       "    </tr>\n",
       "  </thead>\n",
       "  <tbody>\n",
       "    <tr>\n",
       "      <th>102389</th>\n",
       "      <td>102390</td>\n",
       "      <td>la voce del narratore fa posto a quella dei pe...</td>\n",
       "    </tr>\n",
       "    <tr>\n",
       "      <th>530508</th>\n",
       "      <td>530509</td>\n",
       "      <td>Ricardo Bofill nel Taller de Arquitectura usa ...</td>\n",
       "    </tr>\n",
       "    <tr>\n",
       "      <th>56620</th>\n",
       "      <td>56621</td>\n",
       "      <td>La denominazione del Gruppo passò da CB a CBOC.</td>\n",
       "    </tr>\n",
       "    <tr>\n",
       "      <th>240780</th>\n",
       "      <td>240781</td>\n",
       "      <td>Al traguardo 160 ciclisti portarono a termine ...</td>\n",
       "    </tr>\n",
       "    <tr>\n",
       "      <th>860993</th>\n",
       "      <td>860994</td>\n",
       "      <td>In questa, la fanciulla scappa indossando il m...</td>\n",
       "    </tr>\n",
       "    <tr>\n",
       "      <th>...</th>\n",
       "      <td>...</td>\n",
       "      <td>...</td>\n",
       "    </tr>\n",
       "    <tr>\n",
       "      <th>577044</th>\n",
       "      <td>577045</td>\n",
       "      <td>egli dovrà recarsi ad Aquileia allo scopo di o...</td>\n",
       "    </tr>\n",
       "    <tr>\n",
       "      <th>232398</th>\n",
       "      <td>232399</td>\n",
       "      <td>L'impulso origina nel fascio di His e va ai ve...</td>\n",
       "    </tr>\n",
       "    <tr>\n",
       "      <th>877414</th>\n",
       "      <td>877415</td>\n",
       "      <td>La voce «\"Bene qui làtuit, bene vixit\"» (massi...</td>\n",
       "    </tr>\n",
       "    <tr>\n",
       "      <th>707559</th>\n",
       "      <td>707560</td>\n",
       "      <td>Callen sostiene anche di parlare ceco e rumeno.</td>\n",
       "    </tr>\n",
       "    <tr>\n",
       "      <th>979595</th>\n",
       "      <td>979596</td>\n",
       "      <td>A Praga in Repubblica Ceca per la Coppa Europa...</td>\n",
       "    </tr>\n",
       "  </tbody>\n",
       "</table>\n",
       "<p>4000 rows × 2 columns</p>\n",
       "</div>"
      ],
      "text/plain": [
       "            id                                               text\n",
       "102389  102390  la voce del narratore fa posto a quella dei pe...\n",
       "530508  530509  Ricardo Bofill nel Taller de Arquitectura usa ...\n",
       "56620    56621    La denominazione del Gruppo passò da CB a CBOC.\n",
       "240780  240781  Al traguardo 160 ciclisti portarono a termine ...\n",
       "860993  860994  In questa, la fanciulla scappa indossando il m...\n",
       "...        ...                                                ...\n",
       "577044  577045  egli dovrà recarsi ad Aquileia allo scopo di o...\n",
       "232398  232399  L'impulso origina nel fascio di His e va ai ve...\n",
       "877414  877415  La voce «\"Bene qui làtuit, bene vixit\"» (massi...\n",
       "707559  707560    Callen sostiene anche di parlare ceco e rumeno.\n",
       "979595  979596  A Praga in Repubblica Ceca per la Coppa Europa...\n",
       "\n",
       "[4000 rows x 2 columns]"
      ]
     },
     "execution_count": 21,
     "metadata": {},
     "output_type": "execute_result"
    }
   ],
   "source": [
    "samplino"
   ]
  },
  {
   "cell_type": "code",
   "execution_count": null,
   "metadata": {},
   "outputs": [],
   "source": [
    "#all_scores = readability_extraction(samplino[\"text\"].tolist())\n"
   ]
  },
  {
   "cell_type": "code",
   "execution_count": null,
   "metadata": {},
   "outputs": [],
   "source": []
  }
 ],
 "metadata": {
  "kernelspec": {
   "display_name": "Python 3",
   "language": "python",
   "name": "python3"
  },
  "language_info": {
   "codemirror_mode": {
    "name": "ipython",
    "version": 3
   },
   "file_extension": ".py",
   "mimetype": "text/x-python",
   "name": "python",
   "nbconvert_exporter": "python",
   "pygments_lexer": "ipython3",
   "version": "3.10.2"
  }
 },
 "nbformat": 4,
 "nbformat_minor": 2
}
