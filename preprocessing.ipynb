{
 "cells": [
  {
   "cell_type": "markdown",
   "metadata": {},
   "source": [
    "## Preprocessing"
   ]
  },
  {
   "cell_type": "markdown",
   "metadata": {},
   "source": [
    "### Estrazione frasi\n",
    "Estraiamo un campione di frasi a partire dai file conllu di Wikipedia italiana elaborata. "
   ]
  },
  {
   "cell_type": "code",
   "execution_count": 35,
   "metadata": {},
   "outputs": [],
   "source": [
    "import os\n",
    "import re\n",
    "import pandas as pd\n",
    "from tqdm import tqdm\n"
   ]
  },
  {
   "cell_type": "code",
   "execution_count": 36,
   "metadata": {},
   "outputs": [],
   "source": [
    "def get_id(line):\n",
    "    sent_id = re.sub(r'\\D', '', line)\n",
    "    return sent_id\n",
    "\n",
    "def get_text(line):\n",
    "    sent = line[9:].rstrip('\\n')\n",
    "    return sent\n",
    "\n",
    "def get_sentences(file_conllu):\n",
    "    sentences = []\n",
    "    ids = []\n",
    "    with tqdm(total=sum(1 for _ in open(file_conllu, 'r', encoding='utf-8')), desc=f'Progresso estrazione frasi del file {file_conllu}') as pbar:\n",
    "        for line in open(file_conllu, 'r', encoding='utf-8'):\n",
    "            pbar.update(1)  # Aggiorna la barra di avanzamento\n",
    "            if line.startswith(\"# sent_id\"):\n",
    "                current_id = get_id(line)  \n",
    "                ids.append(current_id)\n",
    "            elif line.startswith(\"# text\"):\n",
    "                current_sent = get_text(line)\n",
    "                sentences.append(current_sent)\n",
    "    return ids, sentences"
   ]
  },
  {
   "cell_type": "code",
   "execution_count": 37,
   "metadata": {},
   "outputs": [
    {
     "name": "stdout",
     "output_type": "stream",
     "text": [
      "['C:/Users/bergo/OneDrive - University of Pisa/Tesi Magistrale/wiki_conllu\\\\wiki_10_2021_015.conllu']\n"
     ]
    }
   ],
   "source": [
    "#nel caso in cui dovessimo itereare sui diversi file nella dir\n",
    "ds_directory = \"C:/Users/bergo/OneDrive - University of Pisa/Tesi Magistrale/wiki_conllu\"\n",
    "ds_files = []\n",
    "for file_name in os.listdir(ds_directory):\n",
    "    file_path = os.path.join(ds_directory, file_name)\n",
    "    ds_files.append(file_path)  #ottengo il nome dei diversi file all'interno della directory\n",
    "print(ds_files)"
   ]
  },
  {
   "cell_type": "code",
   "execution_count": 38,
   "metadata": {},
   "outputs": [
    {
     "name": "stderr",
     "output_type": "stream",
     "text": [
      "Progresso estrazione frasi del file C:/Users/bergo/OneDrive - University of Pisa/Tesi Magistrale/wiki_conllu\\wiki_10_2021_015.conllu: 100%|██████████| 29437395/29437395 [00:37<00:00, 781439.83it/s]\n"
     ]
    }
   ],
   "source": [
    "data_df = pd.DataFrame(columns=[\"id\", \"text\"])\n",
    "data_df[\"id\"], data_df[\"text\"] = get_sentences(ds_files[0])   #per ora lavoro su un singolo file"
   ]
  },
  {
   "cell_type": "code",
   "execution_count": 39,
   "metadata": {},
   "outputs": [
    {
     "data": {
      "text/html": [
       "<div>\n",
       "<style scoped>\n",
       "    .dataframe tbody tr th:only-of-type {\n",
       "        vertical-align: middle;\n",
       "    }\n",
       "\n",
       "    .dataframe tbody tr th {\n",
       "        vertical-align: top;\n",
       "    }\n",
       "\n",
       "    .dataframe thead th {\n",
       "        text-align: right;\n",
       "    }\n",
       "</style>\n",
       "<table border=\"1\" class=\"dataframe\">\n",
       "  <thead>\n",
       "    <tr style=\"text-align: right;\">\n",
       "      <th></th>\n",
       "      <th>id</th>\n",
       "      <th>text</th>\n",
       "    </tr>\n",
       "  </thead>\n",
       "  <tbody>\n",
       "    <tr>\n",
       "      <th>0</th>\n",
       "      <td>1</td>\n",
       "      <td>impeto.</td>\n",
       "    </tr>\n",
       "    <tr>\n",
       "      <th>1</th>\n",
       "      <td>2</td>\n",
       "      <td>L’occupazione di Pastrengo.</td>\n",
       "    </tr>\n",
       "    <tr>\n",
       "      <th>2</th>\n",
       "      <td>3</td>\n",
       "      <td>Oramai per gli austriaci si trattava di prende...</td>\n",
       "    </tr>\n",
       "    <tr>\n",
       "      <th>3</th>\n",
       "      <td>4</td>\n",
       "      <td>Gli uomini della Brigata “Cuneo” intanto entra...</td>\n",
       "    </tr>\n",
       "    <tr>\n",
       "      <th>4</th>\n",
       "      <td>5</td>\n",
       "      <td>Ma una batteria di artiglieria a cavallo dei p...</td>\n",
       "    </tr>\n",
       "  </tbody>\n",
       "</table>\n",
       "</div>"
      ],
      "text/plain": [
       "  id                                               text\n",
       "0  1                                            impeto.\n",
       "1  2                        L’occupazione di Pastrengo.\n",
       "2  3  Oramai per gli austriaci si trattava di prende...\n",
       "3  4  Gli uomini della Brigata “Cuneo” intanto entra...\n",
       "4  5  Ma una batteria di artiglieria a cavallo dei p..."
      ]
     },
     "execution_count": 39,
     "metadata": {},
     "output_type": "execute_result"
    }
   ],
   "source": [
    "data_df.head()"
   ]
  },
  {
   "cell_type": "code",
   "execution_count": 40,
   "metadata": {},
   "outputs": [
    {
     "name": "stdout",
     "output_type": "stream",
     "text": [
      "<class 'pandas.core.frame.DataFrame'>\n",
      "RangeIndex: 1057516 entries, 0 to 1057515\n",
      "Data columns (total 2 columns):\n",
      " #   Column  Non-Null Count    Dtype \n",
      "---  ------  --------------    ----- \n",
      " 0   id      1057516 non-null  object\n",
      " 1   text    1057516 non-null  object\n",
      "dtypes: object(2)\n",
      "memory usage: 16.1+ MB\n"
     ]
    }
   ],
   "source": [
    "data_df.info()"
   ]
  },
  {
   "cell_type": "code",
   "execution_count": 48,
   "metadata": {},
   "outputs": [],
   "source": [
    "samplino = data_df.sample(n=2000, random_state=12) #campione piccino per fare le prove"
   ]
  },
  {
   "cell_type": "markdown",
   "metadata": {},
   "source": [
    "### Estrazione degli indici di leggibilità per ogni frase\n",
    "\n",
    "Utilizziamo l'API _read-it_ per calcolare gli indici di complessità di ogni frase."
   ]
  },
  {
   "cell_type": "code",
   "execution_count": 42,
   "metadata": {},
   "outputs": [],
   "source": [
    "import requests\n",
    "import sys"
   ]
  },
  {
   "cell_type": "code",
   "execution_count": 43,
   "metadata": {},
   "outputs": [],
   "source": [
    "\n",
    "SERVER_PATH = \"http://api.italianlp.it\"\n",
    "#SERVER_PATH = \"http://itanlp-gpu.ilc.cnr.it:13000\"\n",
    "\n",
    "def load_document(text):\n",
    "    r = requests.post(SERVER_PATH + '/documents/',           # carica il documento nel database del server\n",
    "                      data={'text': text,                    # durante il caricamento viene eseguita un'analisi linguistica necessaria per calcolare la leggibilità\n",
    "                          'lang': 'IT',\n",
    "                          'extra_tasks': [\"readability\"]     # chiede al server di calcolare anche la leggibilità del docuemnto\n",
    "                  })\n",
    "    doc_id = r.json()['id']                                  # id del documento nel database del server, che serve per richiedere i risultati delle analisi\n",
    "    return doc_id\n",
    "\n",
    "def get_doc_score(doc_id):\n",
    "    r = requests.get(SERVER_PATH + '/documents/details/%s' % doc_id)\n",
    "    result = r.json()\n",
    "    return result\n",
    "\n"
   ]
  },
  {
   "cell_type": "code",
   "execution_count": 47,
   "metadata": {},
   "outputs": [
    {
     "name": "stdout",
     "output_type": "stream",
     "text": [
      "{'named_entity_executed': False, 'doc_time': '2024-05-15T10:24:48.191507Z', 'readability_executed': True, 'sentences': {'count': 3, 'prev': None, 'data': [{'sentiment_positive_negative_probability': None, 'sentiment_value': None, 'sequence': 1, 'readability_score_all': 60.5895926403111, 'sentiment_negative_probability': None, 'sentiment_neutral_probability': None, 'tokens': [{'word': 'La', 'ten': None, 'sequence': 1, 'pos': 'RD', 'per': None, 'lemma': 'il', 'num': 's', 'named_entity_instance': None, 'dep_type': 'det', 'dep_parent_sequence': 2, 'cpos': 'R', 'gen': 'f', 'mod': None}, {'word': 'città', 'ten': None, 'sequence': 2, 'pos': 'S', 'per': None, 'lemma': 'città', 'num': 'n', 'named_entity_instance': None, 'dep_type': 'subj_pass', 'dep_parent_sequence': 4, 'cpos': 'S', 'gen': 'f', 'mod': None}, {'word': 'era', 'ten': 'i', 'sequence': 3, 'pos': 'VA', 'per': '3', 'lemma': 'essere', 'num': 's', 'named_entity_instance': None, 'dep_type': 'aux', 'dep_parent_sequence': 4, 'cpos': 'V', 'gen': None, 'mod': 'i'}, {'word': 'avvolta', 'ten': None, 'sequence': 4, 'pos': 'V', 'per': None, 'lemma': 'avvolgere', 'num': 's', 'named_entity_instance': None, 'dep_type': 'ROOT', 'dep_parent_sequence': None, 'cpos': 'V', 'gen': 'f', 'mod': 'p'}, {'word': 'in', 'ten': None, 'sequence': 5, 'pos': 'E', 'per': None, 'lemma': 'in', 'num': None, 'named_entity_instance': None, 'dep_type': 'comp', 'dep_parent_sequence': 4, 'cpos': 'E', 'gen': None, 'mod': None}, {'word': 'una', 'ten': None, 'sequence': 6, 'pos': 'RI', 'per': None, 'lemma': 'uno', 'num': 's', 'named_entity_instance': None, 'dep_type': 'det', 'dep_parent_sequence': 8, 'cpos': 'R', 'gen': 'f', 'mod': None}, {'word': 'leggera', 'ten': None, 'sequence': 7, 'pos': 'A', 'per': None, 'lemma': 'leggero', 'num': 's', 'named_entity_instance': None, 'dep_type': 'mod', 'dep_parent_sequence': 8, 'cpos': 'A', 'gen': 'f', 'mod': None}, {'word': 'foschia', 'ten': None, 'sequence': 8, 'pos': 'S', 'per': None, 'lemma': 'foschia', 'num': 's', 'named_entity_instance': None, 'dep_type': 'prep', 'dep_parent_sequence': 5, 'cpos': 'S', 'gen': 'f', 'mod': None}, {'word': 'mattutina', 'ten': None, 'sequence': 9, 'pos': 'A', 'per': None, 'lemma': 'mattutino', 'num': 's', 'named_entity_instance': None, 'dep_type': 'mod', 'dep_parent_sequence': 8, 'cpos': 'A', 'gen': 'f', 'mod': None}, {'word': ',', 'ten': None, 'sequence': 10, 'pos': 'FF', 'per': None, 'lemma': ',', 'num': None, 'named_entity_instance': None, 'dep_type': 'punc', 'dep_parent_sequence': 11, 'cpos': 'F', 'gen': None, 'mod': None}, {'word': 'creando', 'ten': None, 'sequence': 11, 'pos': 'V', 'per': None, 'lemma': 'creare', 'num': None, 'named_entity_instance': None, 'dep_type': 'mod', 'dep_parent_sequence': 4, 'cpos': 'V', 'gen': None, 'mod': 'g'}, {'word': \"un'\", 'ten': None, 'sequence': 12, 'pos': 'RI', 'per': None, 'lemma': 'uno', 'num': 's', 'named_entity_instance': None, 'dep_type': 'det', 'dep_parent_sequence': 13, 'cpos': 'R', 'gen': 'f', 'mod': None}, {'word': 'atmosfera', 'ten': None, 'sequence': 13, 'pos': 'S', 'per': None, 'lemma': 'atmosfera', 'num': 's', 'named_entity_instance': None, 'dep_type': 'obj', 'dep_parent_sequence': 11, 'cpos': 'S', 'gen': 'f', 'mod': None}, {'word': 'misteriosa', 'ten': None, 'sequence': 14, 'pos': 'A', 'per': None, 'lemma': 'misterioso', 'num': 's', 'named_entity_instance': None, 'dep_type': 'mod', 'dep_parent_sequence': 13, 'cpos': 'A', 'gen': 'f', 'mod': None}, {'word': 'e', 'ten': None, 'sequence': 15, 'pos': 'CC', 'per': None, 'lemma': 'e', 'num': None, 'named_entity_instance': None, 'dep_type': 'con', 'dep_parent_sequence': 14, 'cpos': 'C', 'gen': None, 'mod': None}, {'word': 'incantevole', 'ten': None, 'sequence': 16, 'pos': 'A', 'per': None, 'lemma': 'incantevole', 'num': 's', 'named_entity_instance': None, 'dep_type': 'conj', 'dep_parent_sequence': 14, 'cpos': 'A', 'gen': 'n', 'mod': None}, {'word': '.', 'ten': None, 'sequence': 17, 'pos': 'FS', 'per': None, 'lemma': '.', 'num': None, 'named_entity_instance': None, 'dep_type': 'punc', 'dep_parent_sequence': 4, 'cpos': 'F', 'gen': None, 'mod': None}], 'sentiment_executed': False, 'readability_score_syntax': 56.2745668512605, 'readability_score_lexical': 62.1905299341388, 'raw_text': \"La città era avvolta in una leggera foschia mattutina, creando un'atmosfera misteriosa e incantevole.\", 'sentiment_positive_probability': None, 'readability_score_base': 36.2286691522902}, {'sentiment_positive_negative_probability': None, 'sentiment_value': None, 'sequence': 2, 'readability_score_all': 5.30056346183805, 'sentiment_negative_probability': None, 'sentiment_neutral_probability': None, 'tokens': [{'word': 'Gli', 'ten': None, 'sequence': 1, 'pos': 'RD', 'per': None, 'lemma': 'il', 'num': 'p', 'named_entity_instance': None, 'dep_type': 'det', 'dep_parent_sequence': 2, 'cpos': 'R', 'gen': 'm', 'mod': None}, {'word': 'uccelli', 'ten': None, 'sequence': 2, 'pos': 'S', 'per': None, 'lemma': 'uccello', 'num': 'p', 'named_entity_instance': None, 'dep_type': 'subj', 'dep_parent_sequence': 3, 'cpos': 'S', 'gen': 'm', 'mod': None}, {'word': 'cantavano', 'ten': 'i', 'sequence': 3, 'pos': 'V', 'per': '3', 'lemma': 'cantare', 'num': 'p', 'named_entity_instance': None, 'dep_type': 'ROOT', 'dep_parent_sequence': None, 'cpos': 'V', 'gen': None, 'mod': 'i'}, {'word': 'melodie', 'ten': None, 'sequence': 4, 'pos': 'S', 'per': None, 'lemma': 'melodia', 'num': 'p', 'named_entity_instance': None, 'dep_type': 'obj', 'dep_parent_sequence': 3, 'cpos': 'S', 'gen': 'f', 'mod': None}, {'word': 'dolci', 'ten': None, 'sequence': 5, 'pos': 'A', 'per': None, 'lemma': 'dolce', 'num': 'p', 'named_entity_instance': None, 'dep_type': 'mod', 'dep_parent_sequence': 4, 'cpos': 'A', 'gen': 'n', 'mod': None}, {'word': 'mentre', 'ten': None, 'sequence': 6, 'pos': 'CS', 'per': None, 'lemma': 'mentre', 'num': None, 'named_entity_instance': None, 'dep_type': 'mod_temp', 'dep_parent_sequence': 3, 'cpos': 'C', 'gen': None, 'mod': None}, {'word': 'il', 'ten': None, 'sequence': 7, 'pos': 'RD', 'per': None, 'lemma': 'il', 'num': 's', 'named_entity_instance': None, 'dep_type': 'det', 'dep_parent_sequence': 8, 'cpos': 'R', 'gen': 'm', 'mod': None}, {'word': 'sole', 'ten': None, 'sequence': 8, 'pos': 'S', 'per': None, 'lemma': 'sole', 'num': 's', 'named_entity_instance': None, 'dep_type': 'subj', 'dep_parent_sequence': 9, 'cpos': 'S', 'gen': 'm', 'mod': None}, {'word': 'iniziava', 'ten': 'i', 'sequence': 9, 'pos': 'V', 'per': '3', 'lemma': 'iniziare', 'num': 's', 'named_entity_instance': None, 'dep_type': 'sub', 'dep_parent_sequence': 6, 'cpos': 'V', 'gen': None, 'mod': 'i'}, {'word': 'a', 'ten': None, 'sequence': 10, 'pos': 'E', 'per': None, 'lemma': 'a', 'num': None, 'named_entity_instance': None, 'dep_type': 'arg', 'dep_parent_sequence': 9, 'cpos': 'E', 'gen': None, 'mod': None}, {'word': 'sorgere', 'ten': None, 'sequence': 11, 'pos': 'V', 'per': None, 'lemma': 'sorgere', 'num': None, 'named_entity_instance': None, 'dep_type': 'prep', 'dep_parent_sequence': 10, 'cpos': 'V', 'gen': None, 'mod': 'f'}, {'word': \"all'\", 'ten': None, 'sequence': 12, 'pos': 'EA', 'per': None, 'lemma': 'al', 'num': 's', 'named_entity_instance': None, 'dep_type': 'comp', 'dep_parent_sequence': 11, 'cpos': 'E', 'gen': 'n', 'mod': None}, {'word': 'orizzonte', 'ten': None, 'sequence': 13, 'pos': 'S', 'per': None, 'lemma': 'orizzonte', 'num': 's', 'named_entity_instance': None, 'dep_type': 'prep', 'dep_parent_sequence': 12, 'cpos': 'S', 'gen': 'm', 'mod': None}, {'word': '.', 'ten': None, 'sequence': 14, 'pos': 'FS', 'per': None, 'lemma': '.', 'num': None, 'named_entity_instance': None, 'dep_type': 'punc', 'dep_parent_sequence': 3, 'cpos': 'F', 'gen': None, 'mod': None}], 'sentiment_executed': False, 'readability_score_syntax': 4.56568938627945, 'readability_score_lexical': 50.1809875516033, 'raw_text': \"Gli uccelli cantavano melodie dolci mentre il sole iniziava a sorgere all'orizzonte.\", 'sentiment_positive_probability': None, 'readability_score_base': 25.9315036510964}, {'sentiment_positive_negative_probability': None, 'sentiment_value': None, 'sequence': 3, 'readability_score_all': 88.4373375854085, 'sentiment_negative_probability': None, 'sentiment_neutral_probability': None, 'tokens': [{'word': 'Maria', 'ten': None, 'sequence': 1, 'pos': 'SP', 'per': None, 'lemma': 'Maria', 'num': None, 'named_entity_instance': None, 'dep_type': 'subj', 'dep_parent_sequence': 2, 'cpos': 'S', 'gen': None, 'mod': None}, {'word': 'camminava', 'ten': 'i', 'sequence': 2, 'pos': 'V', 'per': '3', 'lemma': 'camminare', 'num': 's', 'named_entity_instance': None, 'dep_type': 'ROOT', 'dep_parent_sequence': None, 'cpos': 'V', 'gen': None, 'mod': 'i'}, {'word': 'lentamente', 'ten': None, 'sequence': 3, 'pos': 'B', 'per': None, 'lemma': 'lento', 'num': None, 'named_entity_instance': None, 'dep_type': 'mod', 'dep_parent_sequence': 2, 'cpos': 'B', 'gen': None, 'mod': None}, {'word': 'lungo', 'ten': None, 'sequence': 4, 'pos': 'E', 'per': None, 'lemma': 'lungo', 'num': None, 'named_entity_instance': None, 'dep_type': 'comp', 'dep_parent_sequence': 2, 'cpos': 'E', 'gen': None, 'mod': None}, {'word': 'il', 'ten': None, 'sequence': 5, 'pos': 'RD', 'per': None, 'lemma': 'il', 'num': 's', 'named_entity_instance': None, 'dep_type': 'det', 'dep_parent_sequence': 6, 'cpos': 'R', 'gen': 'm', 'mod': None}, {'word': 'sentiero', 'ten': None, 'sequence': 6, 'pos': 'S', 'per': None, 'lemma': 'sentiero', 'num': 's', 'named_entity_instance': None, 'dep_type': 'prep', 'dep_parent_sequence': 4, 'cpos': 'S', 'gen': 'm', 'mod': None}, {'word': 'del', 'ten': None, 'sequence': 7, 'pos': 'EA', 'per': None, 'lemma': 'di', 'num': 's', 'named_entity_instance': None, 'dep_type': 'comp', 'dep_parent_sequence': 6, 'cpos': 'E', 'gen': 'm', 'mod': None}, {'word': 'parco', 'ten': None, 'sequence': 8, 'pos': 'S', 'per': None, 'lemma': 'parco', 'num': 's', 'named_entity_instance': None, 'dep_type': 'prep', 'dep_parent_sequence': 7, 'cpos': 'S', 'gen': 'm', 'mod': None}, {'word': ',', 'ten': None, 'sequence': 9, 'pos': 'FF', 'per': None, 'lemma': ',', 'num': None, 'named_entity_instance': None, 'dep_type': 'punc', 'dep_parent_sequence': 10, 'cpos': 'F', 'gen': None, 'mod': None}, {'word': 'godendo-', 'ten': None, 'sequence': 10, 'pos': 'V', 'per': None, 'lemma': 'godere', 'num': None, 'named_entity_instance': None, 'dep_type': 'mod', 'dep_parent_sequence': 2, 'cpos': 'V', 'gen': None, 'mod': 'g'}, {'word': 'si', 'ten': None, 'sequence': 11, 'pos': 'PC', 'per': '3', 'lemma': 'si', 'num': 'n', 'named_entity_instance': None, 'dep_type': 'clit', 'dep_parent_sequence': 10, 'cpos': 'P', 'gen': 'n', 'mod': None}, {'word': 'la', 'ten': None, 'sequence': 12, 'pos': 'RD', 'per': None, 'lemma': 'il', 'num': 's', 'named_entity_instance': None, 'dep_type': 'det', 'dep_parent_sequence': 13, 'cpos': 'R', 'gen': 'f', 'mod': None}, {'word': 'tranquillità', 'ten': None, 'sequence': 13, 'pos': 'S', 'per': None, 'lemma': 'tranquillità', 'num': 'n', 'named_entity_instance': None, 'dep_type': 'obj', 'dep_parent_sequence': 10, 'cpos': 'S', 'gen': 'f', 'mod': None}, {'word': 'del', 'ten': None, 'sequence': 14, 'pos': 'EA', 'per': None, 'lemma': 'di', 'num': 's', 'named_entity_instance': None, 'dep_type': 'comp', 'dep_parent_sequence': 13, 'cpos': 'E', 'gen': 'm', 'mod': None}, {'word': 'nuovo', 'ten': None, 'sequence': 15, 'pos': 'A', 'per': None, 'lemma': 'nuovo', 'num': 's', 'named_entity_instance': None, 'dep_type': 'mod', 'dep_parent_sequence': 16, 'cpos': 'A', 'gen': 'm', 'mod': None}, {'word': 'giorno', 'ten': None, 'sequence': 16, 'pos': 'S', 'per': None, 'lemma': 'giorno', 'num': 's', 'named_entity_instance': None, 'dep_type': 'prep', 'dep_parent_sequence': 14, 'cpos': 'S', 'gen': 'm', 'mod': None}, {'word': '.', 'ten': None, 'sequence': 17, 'pos': 'FS', 'per': None, 'lemma': '.', 'num': None, 'named_entity_instance': None, 'dep_type': 'punc', 'dep_parent_sequence': 2, 'cpos': 'F', 'gen': None, 'mod': None}], 'sentiment_executed': False, 'readability_score_syntax': 91.2139411298329, 'readability_score_lexical': 38.1528409032312, 'raw_text': 'Maria camminava lentamente lungo il sentiero del parco, godendosi la tranquillità del nuovo giorno.', 'sentiment_positive_probability': None, 'readability_score_base': 36.0887231115219}], 'next': None}, 'irony_yes_probability': None, 'sentiment_value_probability': None, 'irony_no_probability': None, 'hate_executed': False, 'sentiment_neutral_probability': None, 'postagging_executed': True, 'readability_score_all': 32.3723078449395, 'parsing_executed': False, 'witness_executed': False, 'readability_score_lexical': 58.5094303952813, 'witness_value': None, 'sentiment_sentence_executed': False, 'hate_no_probability': None, 'sentiment_positive_negative_probability': None, 'sarcasm_yes_probability': None, 'hate_value': None, 'readability_score_base': 10.7010343189679, 'sarcasm_executed': False, 'sentiment_positive_probability': None, 'sentiment_value': None, 'language': 'IT', 'irony_value': None, 'hate_yes_probability': None, 'sentiment_negative_probability': None, 'created_at': '2024-05-15T10:24:48.191460Z', 'irony_executed': False, 'sarcasm_value': None, 'witness_yes_probability': None, 'sentiment_executed': False, 'readability_score_syntax': 33.7272792802272, 'witness_no_probability': None, 'sarcasm_no_probability': None}\n"
     ]
    }
   ],
   "source": [
    "#facciamo una prova con un testo di poche frasi\n",
    "text = \"La città era avvolta in una leggera foschia mattutina, creando un'atmosfera misteriosa e incantevole. Gli uccelli cantavano melodie dolci mentre il sole iniziava a sorgere all'orizzonte. Maria camminava lentamente lungo il sentiero del parco, godendosi la tranquillità del nuovo giorno.\"\n",
    "\n",
    "\n",
    "doc_id = load_document(text)\n",
    "r_score = get_doc_score(doc_id)\n",
    "\n",
    "#vediamo com'è strutturato l'oggetto che viene restituito dall'API\n",
    "print(r_score)"
   ]
  },
  {
   "cell_type": "code",
   "execution_count": 45,
   "metadata": {},
   "outputs": [],
   "source": [
    "#qui iteriamo sui risultati ottenuti per un singolo documento\n",
    "def get_sen_scores(doc_scores):\n",
    "    all_sent_rscore = []\n",
    "    all_sent_text = []\n",
    "    for i, sent_results in enumerate(doc_scores['sentences']['data']):\n",
    "        all_sent_rscore.append(sent_results['readability_score_all'])\n",
    "        all_sent_text.append(sent_results['raw_text'])\n",
    "    return all_sent_text, all_sent_rscore\n",
    "\n",
    "#si passa all'api un doc di 1000 frasi per volta.\n",
    "def readability_extraction(sen_list, x): #x è il numero di frasi che si vogliono calcolare per iterazione \n",
    "    all_scores = []\n",
    "    for i in tqdm(range(0, len(sen_list), x), desc=f\"Progresso nell'estrazione degli indici di complessità delle frasi (ogni iterazione corrisponde a {x} frasi)\"):\n",
    "        doc = \"\\n\".join(sen_list[i:i+x])\n",
    "        doc_id = load_document(doc)\n",
    "        r_scores = get_doc_score(doc_id)\n",
    "        all_scores.append(r_scores)\n",
    "    return all_scores\n",
    "\n",
    "#qui si ottiene la struttura dati finale dove per ogni frase abbiamo lo score ottenuto da read_it\n",
    "def get_final_data(all_scores):\n",
    "    text_list = []\n",
    "    score_list = []\n",
    "    for doc_scores in all_scores:\n",
    "        text, score = get_sen_scores(doc_scores)\n",
    "        text_list = text_list + text\n",
    "        score_list = score_list + score\n",
    "    return text_list, score_list\n"
   ]
  },
  {
   "cell_type": "code",
   "execution_count": 49,
   "metadata": {},
   "outputs": [
    {
     "name": "stderr",
     "output_type": "stream",
     "text": [
      "Progresso nell'estrazione degli indici di complessità delle frasi (ogni iterazione corrisponde a 1000 frasi): 100%|██████████| 2/2 [05:04<00:00, 152.43s/it]\n"
     ]
    }
   ],
   "source": [
    "all_results = readability_extraction(samplino[\"text\"].tolist(), 1000)\n",
    "all_sent, all_scores = get_final_data(all_results)"
   ]
  },
  {
   "cell_type": "markdown",
   "metadata": {},
   "source": [
    "### Creazione e valutazione del dataset finale\n",
    "\n",
    "Si ottiene una struttura dataframe con _id_, _testo e _leggibilità_ per ogni frase. Dopodiché valutiamo le caratteristiche dei dati ottenuti"
   ]
  },
  {
   "cell_type": "code",
   "execution_count": 50,
   "metadata": {},
   "outputs": [
    {
     "data": {
      "text/html": [
       "<div>\n",
       "<style scoped>\n",
       "    .dataframe tbody tr th:only-of-type {\n",
       "        vertical-align: middle;\n",
       "    }\n",
       "\n",
       "    .dataframe tbody tr th {\n",
       "        vertical-align: top;\n",
       "    }\n",
       "\n",
       "    .dataframe thead th {\n",
       "        text-align: right;\n",
       "    }\n",
       "</style>\n",
       "<table border=\"1\" class=\"dataframe\">\n",
       "  <thead>\n",
       "    <tr style=\"text-align: right;\">\n",
       "      <th></th>\n",
       "      <th>id</th>\n",
       "      <th>text</th>\n",
       "      <th>readability</th>\n",
       "    </tr>\n",
       "  </thead>\n",
       "  <tbody>\n",
       "    <tr>\n",
       "      <th>0</th>\n",
       "      <td>1</td>\n",
       "      <td>Scritto dal 1943 (quando ancora portava il tit...</td>\n",
       "      <td>93.986138</td>\n",
       "    </tr>\n",
       "    <tr>\n",
       "      <th>1</th>\n",
       "      <td>2</td>\n",
       "      <td>Marc Edmund Jones</td>\n",
       "      <td>NaN</td>\n",
       "    </tr>\n",
       "    <tr>\n",
       "      <th>2</th>\n",
       "      <td>3</td>\n",
       "      <td>In Piemonte il referente era loro cugino Rocco...</td>\n",
       "      <td>29.705289</td>\n",
       "    </tr>\n",
       "    <tr>\n",
       "      <th>3</th>\n",
       "      <td>4</td>\n",
       "      <td>Nel suo libro del 1922 Funakoshi nomina il kat...</td>\n",
       "      <td>45.284815</td>\n",
       "    </tr>\n",
       "    <tr>\n",
       "      <th>4</th>\n",
       "      <td>5</td>\n",
       "      <td>LeBell è solitamente all'angolo della campione...</td>\n",
       "      <td>28.109959</td>\n",
       "    </tr>\n",
       "  </tbody>\n",
       "</table>\n",
       "</div>"
      ],
      "text/plain": [
       "   id                                               text  readability\n",
       "0   1  Scritto dal 1943 (quando ancora portava il tit...    93.986138\n",
       "1   2                                  Marc Edmund Jones          NaN\n",
       "2   3  In Piemonte il referente era loro cugino Rocco...    29.705289\n",
       "3   4  Nel suo libro del 1922 Funakoshi nomina il kat...    45.284815\n",
       "4   5  LeBell è solitamente all'angolo della campione...    28.109959"
      ]
     },
     "execution_count": 50,
     "metadata": {},
     "output_type": "execute_result"
    }
   ],
   "source": [
    "#si crea un dataframe con tutte le informazioni che ci interessano\n",
    "data_set = pd.DataFrame(columns=[\"id\", \"text\", \"readability\"])\n",
    "data_set[\"text\"] = all_sent\n",
    "data_set[\"readability\"] = all_scores\n",
    "data_set[\"id\"] = range(1, len(data_set) + 1)\n",
    "data_set.head()"
   ]
  },
  {
   "cell_type": "code",
   "execution_count": 51,
   "metadata": {},
   "outputs": [
    {
     "name": "stdout",
     "output_type": "stream",
     "text": [
      "<class 'pandas.core.frame.DataFrame'>\n",
      "RangeIndex: 2000 entries, 0 to 1999\n",
      "Data columns (total 3 columns):\n",
      " #   Column       Non-Null Count  Dtype  \n",
      "---  ------       --------------  -----  \n",
      " 0   id           2000 non-null   int64  \n",
      " 1   text         2000 non-null   object \n",
      " 2   readability  1528 non-null   float64\n",
      "dtypes: float64(1), int64(1), object(1)\n",
      "memory usage: 47.0+ KB\n"
     ]
    }
   ],
   "source": [
    "data_set.info()"
   ]
  },
  {
   "cell_type": "markdown",
   "metadata": {},
   "source": [
    "Si controlla l'ordine dei dati. Da tenere in considerazione il fatto che \"all_results\" è in forma di lista contenente i dizionari dei risultati dell'API per ogni \"documento\" (ovvero ogni x frasi). Quindi l'indice utilizzato per gli elementi di \"all_results\" per controllare l'ordine sarà sempre compreso tra 0 e x. Mentre quello del nostro dataframe sarà l'equivalente + x*y (dove y, è il numero del documento che stiamo prendendo in considerazione)"
   ]
  },
  {
   "cell_type": "code",
   "execution_count": 52,
   "metadata": {},
   "outputs": [
    {
     "name": "stdout",
     "output_type": "stream",
     "text": [
      "---- Nel dataframe finale ----\n",
      " Testo: 'Durante i combattimenti Cratero fu ferito da una freccia.' - R_score: 5.41290931277294\n",
      "\n",
      "\n",
      "---- Nei risultati ottenuti dall'API ----\n",
      " Testo: 'Durante i combattimenti Cratero fu ferito da una freccia.' - R_score: 5.41290931277294\n"
     ]
    }
   ],
   "source": [
    "#ora controlliamo che l'ordine sia corretto...\n",
    "tupla = data_set[data_set[\"id\"]==999]\n",
    "da_result = all_results[0]['sentences']['data'][998] #primo \"documento\"\n",
    "print(f\"---- Nel dataframe finale ----\\n Testo: '{tupla['text'].item()}' - R_score: {tupla['readability'].item()}\\n\\n\") \n",
    "print(f\"---- Nei risultati ottenuti dall'API ----\\n Testo: '{da_result['raw_text']}' - R_score: {da_result['readability_score_all']}\")"
   ]
  },
  {
   "cell_type": "code",
   "execution_count": 53,
   "metadata": {},
   "outputs": [
    {
     "name": "stdout",
     "output_type": "stream",
     "text": [
      "---- Nel dataframe finale ---- \n",
      " Testo: Alcuni autori hanno scritto che gran parte del razzismo contro le persone LGBT nere è radicato in un razzismo di tipo sessuale con il suo collegamento a stereotipi di ruolo sessuali associati a stereotipi razziali. - R_score: 44.7483680128475\n",
      "\n",
      "\n",
      "---- Nei risultati ottenuti dall'API ---- \n",
      "  Testo: Alcuni autori hanno scritto che gran parte del razzismo contro le persone LGBT nere è radicato in un razzismo di tipo sessuale con il suo collegamento a stereotipi di ruolo sessuali associati a stereotipi razziali. - R_score: 44.7483680128475\n"
     ]
    }
   ],
   "source": [
    "tupla = data_set[data_set[\"id\"]==1250]\n",
    "da_result = all_results[1]['sentences']['data'][249] #secondo \"documento\"\n",
    "print(f\"---- Nel dataframe finale ---- \\n Testo: {tupla['text'].item()} - R_score: {tupla['readability'].item()}\\n\\n\") \n",
    "print(f\"---- Nei risultati ottenuti dall'API ---- \\n  Testo: {da_result['raw_text']} - R_score: {da_result['readability_score_all']}\")"
   ]
  },
  {
   "cell_type": "code",
   "execution_count": 54,
   "metadata": {},
   "outputs": [
    {
     "data": {
      "text/html": [
       "<div>\n",
       "<style scoped>\n",
       "    .dataframe tbody tr th:only-of-type {\n",
       "        vertical-align: middle;\n",
       "    }\n",
       "\n",
       "    .dataframe tbody tr th {\n",
       "        vertical-align: top;\n",
       "    }\n",
       "\n",
       "    .dataframe thead th {\n",
       "        text-align: right;\n",
       "    }\n",
       "</style>\n",
       "<table border=\"1\" class=\"dataframe\">\n",
       "  <thead>\n",
       "    <tr style=\"text-align: right;\">\n",
       "      <th></th>\n",
       "      <th>id</th>\n",
       "      <th>text</th>\n",
       "      <th>readability</th>\n",
       "    </tr>\n",
       "  </thead>\n",
       "  <tbody>\n",
       "    <tr>\n",
       "      <th>1</th>\n",
       "      <td>2</td>\n",
       "      <td>Marc Edmund Jones</td>\n",
       "      <td>NaN</td>\n",
       "    </tr>\n",
       "    <tr>\n",
       "      <th>7</th>\n",
       "      <td>8</td>\n",
       "      <td>Il tallero di Sigismondo.</td>\n",
       "      <td>NaN</td>\n",
       "    </tr>\n",
       "    <tr>\n",
       "      <th>12</th>\n",
       "      <td>13</td>\n",
       "      <td>È un terzino sinistro.</td>\n",
       "      <td>NaN</td>\n",
       "    </tr>\n",
       "    <tr>\n",
       "      <th>22</th>\n",
       "      <td>23</td>\n",
       "      <td>Caratteristiche craniche e dentarie.</td>\n",
       "      <td>NaN</td>\n",
       "    </tr>\n",
       "    <tr>\n",
       "      <th>23</th>\n",
       "      <td>24</td>\n",
       "      <td>Storia.</td>\n",
       "      <td>NaN</td>\n",
       "    </tr>\n",
       "    <tr>\n",
       "      <th>...</th>\n",
       "      <td>...</td>\n",
       "      <td>...</td>\n",
       "      <td>...</td>\n",
       "    </tr>\n",
       "    <tr>\n",
       "      <th>1990</th>\n",
       "      <td>1991</td>\n",
       "      <td>Spinus notatus</td>\n",
       "      <td>NaN</td>\n",
       "    </tr>\n",
       "    <tr>\n",
       "      <th>1996</th>\n",
       "      <td>1997</td>\n",
       "      <td>Karl Saur</td>\n",
       "      <td>NaN</td>\n",
       "    </tr>\n",
       "    <tr>\n",
       "      <th>1997</th>\n",
       "      <td>1998</td>\n",
       "      <td>Regno Unito.</td>\n",
       "      <td>NaN</td>\n",
       "    </tr>\n",
       "    <tr>\n",
       "      <th>1998</th>\n",
       "      <td>1999</td>\n",
       "      <td>GESCAL</td>\n",
       "      <td>NaN</td>\n",
       "    </tr>\n",
       "    <tr>\n",
       "      <th>1999</th>\n",
       "      <td>2000</td>\n",
       "      <td>Distribuzione.</td>\n",
       "      <td>NaN</td>\n",
       "    </tr>\n",
       "  </tbody>\n",
       "</table>\n",
       "<p>472 rows × 3 columns</p>\n",
       "</div>"
      ],
      "text/plain": [
       "        id                                  text  readability\n",
       "1        2                     Marc Edmund Jones          NaN\n",
       "7        8             Il tallero di Sigismondo.          NaN\n",
       "12      13                È un terzino sinistro.          NaN\n",
       "22      23  Caratteristiche craniche e dentarie.          NaN\n",
       "23      24                               Storia.          NaN\n",
       "...    ...                                   ...          ...\n",
       "1990  1991                        Spinus notatus          NaN\n",
       "1996  1997                             Karl Saur          NaN\n",
       "1997  1998                          Regno Unito.          NaN\n",
       "1998  1999                                GESCAL          NaN\n",
       "1999  2000                        Distribuzione.          NaN\n",
       "\n",
       "[472 rows x 3 columns]"
      ]
     },
     "execution_count": 54,
     "metadata": {},
     "output_type": "execute_result"
    }
   ],
   "source": [
    "valori_nulli = data_set[data_set[\"readability\"].isnull()]\n",
    "valori_nulli #vediamo che le frasi troppo corte non restituiscono un valore di leggibilità. "
   ]
  },
  {
   "cell_type": "code",
   "execution_count": 55,
   "metadata": {},
   "outputs": [],
   "source": [
    "data_set = data_set.dropna()\n",
    "data_set.to_csv(\"ds_leggibilita.csv\")"
   ]
  }
 ],
 "metadata": {
  "kernelspec": {
   "display_name": "Python 3",
   "language": "python",
   "name": "python3"
  },
  "language_info": {
   "codemirror_mode": {
    "name": "ipython",
    "version": 3
   },
   "file_extension": ".py",
   "mimetype": "text/x-python",
   "name": "python",
   "nbconvert_exporter": "python",
   "pygments_lexer": "ipython3",
   "version": "3.10.2"
  }
 },
 "nbformat": 4,
 "nbformat_minor": 2
}
