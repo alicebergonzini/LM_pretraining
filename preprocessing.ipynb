{
 "cells": [
  {
   "cell_type": "markdown",
   "metadata": {},
   "source": [
    "## Preprocessing"
   ]
  },
  {
   "cell_type": "markdown",
   "metadata": {},
   "source": [
    "### Estrazione frasi da file conllu\n",
    "Nel caso in cui dovessimo partire da i file conllu: estraiamo un campione di frasi a partire dai file conllu di Wikipedia italiana elaborata. "
   ]
  },
  {
   "cell_type": "code",
   "execution_count": 5,
   "metadata": {},
   "outputs": [],
   "source": [
    "import os\n",
    "import re\n",
    "import pandas as pd\n",
    "from tqdm import tqdm"
   ]
  },
  {
   "cell_type": "code",
   "execution_count": 2,
   "metadata": {},
   "outputs": [],
   "source": [
    "def get_id(line):\n",
    "    sent_id = re.sub(r'\\D', '', line)\n",
    "    return sent_id\n",
    "\n",
    "def get_text(line):\n",
    "    sent = line[9:].rstrip('\\n')\n",
    "    return sent\n",
    "\n",
    "def get_sentences(file_conllu):\n",
    "    sentences = []\n",
    "    ids = []\n",
    "    with tqdm(total=sum(1 for _ in open(file_conllu, 'r', encoding='utf-8')), desc=f'Progresso estrazione frasi del file {file_conllu}') as pbar:\n",
    "        for line in open(file_conllu, 'r', encoding='utf-8'):\n",
    "            pbar.update(1)  # Aggiorna la barra di avanzamento\n",
    "            if line.startswith(\"# sent_id\"):\n",
    "                current_id = get_id(line)  \n",
    "                ids.append(current_id)\n",
    "            elif line.startswith(\"# text\"):\n",
    "                current_sent = get_text(line)\n",
    "                sentences.append(current_sent)\n",
    "    return ids, sentences"
   ]
  },
  {
   "cell_type": "code",
   "execution_count": 3,
   "metadata": {},
   "outputs": [
    {
     "data": {
      "text/plain": [
       "'ds_directory = \"C:/Users/bergo/OneDrive - University of Pisa/Tesi Magistrale/wiki_conllu\"\\nds_files = []\\nfor file_name in os.listdir(ds_directory):\\n    file_path = os.path.join(ds_directory, file_name)\\n    ds_files.append(file_path)  #ottengo il nome dei diversi file all\\'interno della directory\\nprint(ds_files)'"
      ]
     },
     "execution_count": 3,
     "metadata": {},
     "output_type": "execute_result"
    }
   ],
   "source": [
    "#nel caso in cui dovessimo itereare sui diversi file nella dir\n",
    "# ds_directory = \"C:/Users/bergo/OneDrive - University of Pisa/Tesi Magistrale/wiki_conllu\"\n",
    "# ds_files = []\n",
    "# for file_name in os.listdir(ds_directory):\n",
    "#     file_path = os.path.join(ds_directory, file_name)\n",
    "#     ds_files.append(file_path)  #ottengo il nome dei diversi file all'interno della directory\n",
    "# print(ds_files)"
   ]
  },
  {
   "cell_type": "code",
   "execution_count": 4,
   "metadata": {},
   "outputs": [
    {
     "data": {
      "text/plain": [
       "'data_df = pd.DataFrame(columns=[\"id\", \"text\"])\\ndata_df[\"id\"], data_df[\"text\"] = get_sentences(ds_files[0])   #per ora lavoro su un singolo file'"
      ]
     },
     "execution_count": 4,
     "metadata": {},
     "output_type": "execute_result"
    }
   ],
   "source": [
    "# data_df = pd.DataFrame(columns=[\"id\", \"text\"])\n",
    "# data_df[\"id\"], data_df[\"text\"] = get_sentences(ds_files[0])   #per ora lavoro su un singolo file\"\"\""
   ]
  },
  {
   "cell_type": "markdown",
   "metadata": {},
   "source": [
    "### Caricamento dati\n",
    "\n",
    "Nel caso in cui disponessimo già di un dataset si salvano i dati semplicemente in un DataFrame."
   ]
  },
  {
   "cell_type": "code",
   "execution_count": 7,
   "metadata": {},
   "outputs": [],
   "source": [
    "data_df = pd.read_csv(\"data/csv/more_frasi.csv\", encoding=\"utf-8\")"
   ]
  },
  {
   "cell_type": "code",
   "execution_count": 8,
   "metadata": {},
   "outputs": [
    {
     "data": {
      "text/html": [
       "<div>\n",
       "<style scoped>\n",
       "    .dataframe tbody tr th:only-of-type {\n",
       "        vertical-align: middle;\n",
       "    }\n",
       "\n",
       "    .dataframe tbody tr th {\n",
       "        vertical-align: top;\n",
       "    }\n",
       "\n",
       "    .dataframe thead th {\n",
       "        text-align: right;\n",
       "    }\n",
       "</style>\n",
       "<table border=\"1\" class=\"dataframe\">\n",
       "  <thead>\n",
       "    <tr style=\"text-align: right;\">\n",
       "      <th></th>\n",
       "      <th>sent_id</th>\n",
       "      <th>doc</th>\n",
       "      <th>text</th>\n",
       "      <th>gulpease</th>\n",
       "    </tr>\n",
       "  </thead>\n",
       "  <tbody>\n",
       "    <tr>\n",
       "      <th>19995</th>\n",
       "      <td>294985</td>\n",
       "      <td>5</td>\n",
       "      <td>Le sue scaramucce con i media, specialmente co...</td>\n",
       "      <td>57</td>\n",
       "    </tr>\n",
       "    <tr>\n",
       "      <th>19996</th>\n",
       "      <td>108578</td>\n",
       "      <td>12</td>\n",
       "      <td>La mancanza di ogni suo scritto rende problema...</td>\n",
       "      <td>34</td>\n",
       "    </tr>\n",
       "    <tr>\n",
       "      <th>19997</th>\n",
       "      <td>204204</td>\n",
       "      <td>3</td>\n",
       "      <td>Più fonti affermano che adottarono il Cristian...</td>\n",
       "      <td>38</td>\n",
       "    </tr>\n",
       "    <tr>\n",
       "      <th>19998</th>\n",
       "      <td>1559901</td>\n",
       "      <td>11</td>\n",
       "      <td>L'idea di una grazia salvifica è esclusa e l'e...</td>\n",
       "      <td>50</td>\n",
       "    </tr>\n",
       "    <tr>\n",
       "      <th>19999</th>\n",
       "      <td>1027778</td>\n",
       "      <td>6</td>\n",
       "      <td>Sulla calotta della statua sono presenti dei f...</td>\n",
       "      <td>44</td>\n",
       "    </tr>\n",
       "  </tbody>\n",
       "</table>\n",
       "</div>"
      ],
      "text/plain": [
       "       sent_id  doc                                               text  \\\n",
       "19995   294985    5  Le sue scaramucce con i media, specialmente co...   \n",
       "19996   108578   12  La mancanza di ogni suo scritto rende problema...   \n",
       "19997   204204    3  Più fonti affermano che adottarono il Cristian...   \n",
       "19998  1559901   11  L'idea di una grazia salvifica è esclusa e l'e...   \n",
       "19999  1027778    6  Sulla calotta della statua sono presenti dei f...   \n",
       "\n",
       "       gulpease  \n",
       "19995        57  \n",
       "19996        34  \n",
       "19997        38  \n",
       "19998        50  \n",
       "19999        44  "
      ]
     },
     "execution_count": 8,
     "metadata": {},
     "output_type": "execute_result"
    }
   ],
   "source": [
    "data_df.tail()"
   ]
  },
  {
   "cell_type": "code",
   "execution_count": 9,
   "metadata": {},
   "outputs": [
    {
     "name": "stdout",
     "output_type": "stream",
     "text": [
      "<class 'pandas.core.frame.DataFrame'>\n",
      "RangeIndex: 20000 entries, 0 to 19999\n",
      "Data columns (total 4 columns):\n",
      " #   Column    Non-Null Count  Dtype \n",
      "---  ------    --------------  ----- \n",
      " 0   sent_id   20000 non-null  int64 \n",
      " 1   doc       20000 non-null  int64 \n",
      " 2   text      20000 non-null  object\n",
      " 3   gulpease  20000 non-null  int64 \n",
      "dtypes: int64(3), object(1)\n",
      "memory usage: 625.1+ KB\n"
     ]
    }
   ],
   "source": [
    "data_df.info()"
   ]
  },
  {
   "cell_type": "code",
   "execution_count": 13,
   "metadata": {},
   "outputs": [],
   "source": [
    "INIZIO = 0\n",
    "fine = len(data_df)\n",
    "samplino = data_df.iloc[INIZIO:fine] "
   ]
  },
  {
   "cell_type": "code",
   "execution_count": 14,
   "metadata": {},
   "outputs": [
    {
     "name": "stdout",
     "output_type": "stream",
     "text": [
      "<class 'pandas.core.frame.DataFrame'>\n",
      "RangeIndex: 20000 entries, 0 to 19999\n",
      "Data columns (total 4 columns):\n",
      " #   Column    Non-Null Count  Dtype \n",
      "---  ------    --------------  ----- \n",
      " 0   sent_id   20000 non-null  int64 \n",
      " 1   doc       20000 non-null  int64 \n",
      " 2   text      20000 non-null  object\n",
      " 3   gulpease  20000 non-null  int64 \n",
      "dtypes: int64(3), object(1)\n",
      "memory usage: 625.1+ KB\n"
     ]
    }
   ],
   "source": [
    "samplino.info()"
   ]
  },
  {
   "cell_type": "code",
   "execution_count": 16,
   "metadata": {},
   "outputs": [
    {
     "data": {
      "text/plain": [
       "sent_id                                               1027778\n",
       "doc                                                         6\n",
       "text        Sulla calotta della statua sono presenti dei f...\n",
       "gulpease                                                   44\n",
       "Name: 19999, dtype: object"
      ]
     },
     "execution_count": 16,
     "metadata": {},
     "output_type": "execute_result"
    }
   ],
   "source": [
    "data_df.iloc[19999]"
   ]
  },
  {
   "cell_type": "code",
   "execution_count": 17,
   "metadata": {},
   "outputs": [
    {
     "data": {
      "text/plain": [
       "sent_id                                               1027778\n",
       "doc                                                         6\n",
       "text        Sulla calotta della statua sono presenti dei f...\n",
       "gulpease                                                   44\n",
       "Name: 19999, dtype: object"
      ]
     },
     "execution_count": 17,
     "metadata": {},
     "output_type": "execute_result"
    }
   ],
   "source": [
    "samplino.iloc[19999]"
   ]
  },
  {
   "cell_type": "markdown",
   "metadata": {},
   "source": [
    "### Estrazione degli indici di leggibilità per ogni frase\n",
    "\n",
    "Utilizziamo l'API _read-it_ per calcolare gli indici di complessità delle frasi. Si passano all'API come un singolo documento di x frasi, per velocizzare il processo. "
   ]
  },
  {
   "cell_type": "code",
   "execution_count": 1,
   "metadata": {},
   "outputs": [],
   "source": [
    "import requests\n",
    "import sys\n",
    "import json"
   ]
  },
  {
   "cell_type": "code",
   "execution_count": 2,
   "metadata": {},
   "outputs": [],
   "source": [
    "\n",
    "SERVER_PATH = \"http://api.italianlp.it\"\n",
    "#SERVER_PATH = \"http://itanlp-gpu.ilc.cnr.it:13000\"\n",
    "\n",
    "def load_document(text, i, x):\n",
    "    try:\n",
    "        r = requests.post(SERVER_PATH + '/documents/',           # carica il documento nel database del server\n",
    "                        data={'text': text,                    # durante il caricamento viene eseguita un'analisi linguistica necessaria per calcolare la leggibilità\n",
    "                            'lang': 'IT',\n",
    "                            'extra_tasks': [\"readability\"]     # chiede al server di calcolare anche la leggibilità del docuemnto\n",
    "                    })\n",
    "        r.raise_for_status()  \n",
    "        doc_id = r.json()['id']                           # id del documento nel database del server, che serve per richiedere i risultati delle analisi     \n",
    "        return doc_id\n",
    "    except requests.RequestException as e:\n",
    "        print(f\"Errore nel caricamento dei dati: {e}\\n Iterazione: {i+INIZIO} - {(i+INIZIO)+x}: \")\n",
    "        with open('frasi_saltate_val.txt', 'a', encoding='utf-8') as frasi_saltate:\n",
    "            frasi_saltate.write(f\"{i+INIZIO} - {(i+INIZIO)+x} - Documento: \\n{text}\\n\")\n",
    "        return None\n",
    "    \n",
    "\n",
    "def get_doc_score(doc_id, i, x):\n",
    "    try:\n",
    "        r = requests.get(SERVER_PATH + '/documents/details/%s' % doc_id)  #richiesta all'API per ottenere i risultati \n",
    "        r.raise_for_status()  \n",
    "        result = r.json()   \n",
    "        return result\n",
    "    except requests.RequestException as e:\n",
    "        print(f\"Errore nel recupero dei risultati: {e}\\n Iterazione: {i+INIZIO} - {(i+INIZIO)+x}: \")\n",
    "        return None\n",
    "\n",
    "\n"
   ]
  },
  {
   "cell_type": "code",
   "execution_count": 12,
   "metadata": {},
   "outputs": [],
   "source": [
    "#facciamo una prova con un testo di poche frasi\n",
    "text = \"Il cielo notturno era illuminato da milioni di stelle scintillanti. La vita è un viaggio, non una destinazione. La musica è il linguaggio universale dell'umanità. Le piccole cose nella vita spesso portano le più grandi gioie. Non esiste un ascensore per il successo; devi prendere le scale. Ogni giorno è una nuova opportunità per essere felici. I fiori non si preoccupano di come sbocceranno; semplicemente lo fanno. La risata è il miglior antidoto contro lo stress. La gentilezza è un linguaggio che i sordi possono sentire e i ciechi possono vedere. Nella semplicità risiede la vera bellezza.\"\n",
    "\n",
    "\n",
    "doc_id = load_document(text, None, None)\n",
    "r_score = get_doc_score(doc_id, None, None)\n",
    "\n",
    "#vediamo com'è strutturato l'oggetto che viene restituito dall'API\n",
    "print(r_score)"
   ]
  },
  {
   "cell_type": "code",
   "execution_count": 3,
   "metadata": {},
   "outputs": [
    {
     "data": {
      "text/plain": [
       "'\\ndef get_final_data(result_dict):\\n    text_list = []\\n    score_list = []\\n    for doc_scores in result_dict:\\n        text, score = get_sen_scores(doc_scores)\\n        text_list = text_list + text\\n        score_list = score_list + score\\n    return text_list, score_list\\n'"
      ]
     },
     "execution_count": 3,
     "metadata": {},
     "output_type": "execute_result"
    }
   ],
   "source": [
    "#qui iteriamo sui risultati ottenuti per un singolo documento\n",
    "def get_sen_scores(doc_scores):\n",
    "    all_sent_rscore = []\n",
    "    all_sent_text = []\n",
    "    for sent_results in doc_scores['sentences']['data']:\n",
    "        all_sent_rscore.append(sent_results['readability_score_all'])\n",
    "        all_sent_text.append(sent_results['raw_text'])\n",
    "    return all_sent_text, all_sent_rscore\n",
    "\n",
    "#si passa all'api un doc di 1000 frasi per volta.\n",
    "def readability_extraction(sen_list, x): #x è il numero di frasi che si vogliono calcolare per iterazione \n",
    "    for i in tqdm(range(0, len(sen_list), x), desc=f\"Progresso nell'estrazione degli indici di complessità delle frasi (ogni iterazione corrisponde a {x} frasi)\"):\n",
    "        doc = \"\\n\".join(sen_list[i:i+x])\n",
    "        doc_id = load_document(doc, i, x)\n",
    "        r_scores = get_doc_score(doc_id, i, x)\n",
    "        with open(f\"C:/Users/bergo/OneDrive - University of Pisa/Tesi Magistrale/readit_scores/more_frasi/{i+INIZIO}-{(i+INIZIO)+x}.json\", \"w\") as f:\n",
    "            json.dump(r_scores, f)          #si salva per ogni \"doc\" di 1000 frasi un file json con i risultati\n",
    "\n",
    "\n"
   ]
  },
  {
   "cell_type": "code",
   "execution_count": 20,
   "metadata": {},
   "outputs": [
    {
     "name": "stderr",
     "output_type": "stream",
     "text": [
      "Progresso nell'estrazione degli indici di complessità delle frasi (ogni iterazione corrisponde a 1000 frasi): 100%|██████████| 20/20 [54:35<00:00, 163.78s/it]\n"
     ]
    }
   ],
   "source": [
    "all_results = readability_extraction(samplino[\"text\"].tolist(), 1000)  #si passa all'estrazione"
   ]
  },
  {
   "cell_type": "markdown",
   "metadata": {},
   "source": [
    "### Estrazione da JSON"
   ]
  },
  {
   "cell_type": "code",
   "execution_count": 6,
   "metadata": {},
   "outputs": [],
   "source": [
    "#codice per estrarre score dai json\n",
    "#iteriamo sui diversi file json nella directory\n",
    "json_dir = \"C:/Users/bergo/OneDrive - University of Pisa/Tesi Magistrale/readit_scores/more_frasi\"\n",
    "ds_files = []\n",
    "for file_name in os.listdir(json_dir):\n",
    "    file_path = os.path.join(json_dir, file_name)\n",
    "    ds_files.append(file_path) #ottengo il nome dei diversi file all'interno della directory"
   ]
  },
  {
   "cell_type": "code",
   "execution_count": 7,
   "metadata": {},
   "outputs": [
    {
     "name": "stderr",
     "output_type": "stream",
     "text": [
      "Processing files:   0%|          | 0/20 [00:00<?, ?it/s]"
     ]
    },
    {
     "name": "stderr",
     "output_type": "stream",
     "text": [
      "Processing files: 100%|██████████| 20/20 [00:02<00:00,  9.29it/s]\n"
     ]
    }
   ],
   "source": [
    "#si leggono i file json per ottenere lista di frasi e lista di punteggi read-it\n",
    "all_sent = []\n",
    "all_scores = []\n",
    "for file_name in tqdm(ds_files, desc=\"Processing files\"):\n",
    "    with open(file_name, \"r\", encoding=\"utf-8\") as json_file:\n",
    "        result = json.load(json_file)\n",
    "        #print(result[\"sentences\"][\"count\"])\n",
    "    if result != None:\n",
    "        doc_sen, doc_scores = get_sen_scores(result)\n",
    "        all_sent = all_sent + doc_sen\n",
    "        all_scores = all_scores + doc_scores\n",
    "    else: \n",
    "        print(f'File vuoto: {file_name}\\n')\n",
    "        "
   ]
  },
  {
   "cell_type": "code",
   "execution_count": 8,
   "metadata": {},
   "outputs": [
    {
     "data": {
      "text/plain": [
       "20000"
      ]
     },
     "execution_count": 8,
     "metadata": {},
     "output_type": "execute_result"
    }
   ],
   "source": [
    "len(all_scores)"
   ]
  },
  {
   "cell_type": "code",
   "execution_count": 9,
   "metadata": {},
   "outputs": [
    {
     "data": {
      "text/plain": [
       "20000"
      ]
     },
     "execution_count": 9,
     "metadata": {},
     "output_type": "execute_result"
    }
   ],
   "source": [
    "len(all_sent)"
   ]
  },
  {
   "cell_type": "markdown",
   "metadata": {},
   "source": [
    "### Creazione e valutazione del dataset finale\n",
    "\n",
    "Si ottiene una struttura dataframe con _id_, _testo e _leggibilità_ per ogni frase. Dopodiché valutiamo le caratteristiche dei dati ottenuti"
   ]
  },
  {
   "cell_type": "code",
   "execution_count": 11,
   "metadata": {},
   "outputs": [
    {
     "data": {
      "text/html": [
       "<div>\n",
       "<style scoped>\n",
       "    .dataframe tbody tr th:only-of-type {\n",
       "        vertical-align: middle;\n",
       "    }\n",
       "\n",
       "    .dataframe tbody tr th {\n",
       "        vertical-align: top;\n",
       "    }\n",
       "\n",
       "    .dataframe thead th {\n",
       "        text-align: right;\n",
       "    }\n",
       "</style>\n",
       "<table border=\"1\" class=\"dataframe\">\n",
       "  <thead>\n",
       "    <tr style=\"text-align: right;\">\n",
       "      <th></th>\n",
       "      <th>id</th>\n",
       "      <th>text</th>\n",
       "      <th>readability</th>\n",
       "    </tr>\n",
       "  </thead>\n",
       "  <tbody>\n",
       "    <tr>\n",
       "      <th>0</th>\n",
       "      <td>1</td>\n",
       "      <td>Hanno bisogno delle stesse qualità di energia,...</td>\n",
       "      <td>49.710611</td>\n",
       "    </tr>\n",
       "    <tr>\n",
       "      <th>1</th>\n",
       "      <td>2</td>\n",
       "      <td>Mostacciano è divisa in tre zone che, in origi...</td>\n",
       "      <td>82.657379</td>\n",
       "    </tr>\n",
       "    <tr>\n",
       "      <th>2</th>\n",
       "      <td>3</td>\n",
       "      <td>C'erano 84 nuclei familiari di cui il 35,7% av...</td>\n",
       "      <td>77.539188</td>\n",
       "    </tr>\n",
       "    <tr>\n",
       "      <th>3</th>\n",
       "      <td>4</td>\n",
       "      <td>Gestisce inoltre un'importante biblioteca di \"...</td>\n",
       "      <td>89.894156</td>\n",
       "    </tr>\n",
       "    <tr>\n",
       "      <th>4</th>\n",
       "      <td>5</td>\n",
       "      <td>Il suo poliedro duale è l'icosaedro, anch'esso...</td>\n",
       "      <td>67.113349</td>\n",
       "    </tr>\n",
       "  </tbody>\n",
       "</table>\n",
       "</div>"
      ],
      "text/plain": [
       "   id                                               text  readability\n",
       "0   1  Hanno bisogno delle stesse qualità di energia,...    49.710611\n",
       "1   2  Mostacciano è divisa in tre zone che, in origi...    82.657379\n",
       "2   3  C'erano 84 nuclei familiari di cui il 35,7% av...    77.539188\n",
       "3   4  Gestisce inoltre un'importante biblioteca di \"...    89.894156\n",
       "4   5  Il suo poliedro duale è l'icosaedro, anch'esso...    67.113349"
      ]
     },
     "execution_count": 11,
     "metadata": {},
     "output_type": "execute_result"
    }
   ],
   "source": [
    "#si crea un dataframe con tutte le informazioni che ci interessano\n",
    "data_set = pd.DataFrame(columns=[\"id\", \"text\", \"readability\"])\n",
    "data_set[\"text\"] = all_sent\n",
    "data_set[\"readability\"] = all_scores\n",
    "data_set[\"id\"] = range(1, len(data_set) + 1)\n",
    "data_set.head()"
   ]
  },
  {
   "cell_type": "code",
   "execution_count": 12,
   "metadata": {},
   "outputs": [
    {
     "name": "stdout",
     "output_type": "stream",
     "text": [
      "<class 'pandas.core.frame.DataFrame'>\n",
      "RangeIndex: 20000 entries, 0 to 19999\n",
      "Data columns (total 3 columns):\n",
      " #   Column       Non-Null Count  Dtype  \n",
      "---  ------       --------------  -----  \n",
      " 0   id           20000 non-null  int64  \n",
      " 1   text         20000 non-null  object \n",
      " 2   readability  19817 non-null  float64\n",
      "dtypes: float64(1), int64(1), object(1)\n",
      "memory usage: 468.9+ KB\n"
     ]
    }
   ],
   "source": [
    "data_set.info()"
   ]
  },
  {
   "cell_type": "code",
   "execution_count": 150,
   "metadata": {},
   "outputs": [
    {
     "data": {
      "text/html": [
       "<div>\n",
       "<style scoped>\n",
       "    .dataframe tbody tr th:only-of-type {\n",
       "        vertical-align: middle;\n",
       "    }\n",
       "\n",
       "    .dataframe tbody tr th {\n",
       "        vertical-align: top;\n",
       "    }\n",
       "\n",
       "    .dataframe thead th {\n",
       "        text-align: right;\n",
       "    }\n",
       "</style>\n",
       "<table border=\"1\" class=\"dataframe\">\n",
       "  <thead>\n",
       "    <tr style=\"text-align: right;\">\n",
       "      <th></th>\n",
       "      <th>id</th>\n",
       "      <th>text</th>\n",
       "      <th>readability</th>\n",
       "    </tr>\n",
       "  </thead>\n",
       "  <tbody>\n",
       "    <tr>\n",
       "      <th>39</th>\n",
       "      <td>40</td>\n",
       "      <td>Ferro di cavallo di Lander</td>\n",
       "      <td>NaN</td>\n",
       "    </tr>\n",
       "    <tr>\n",
       "      <th>63</th>\n",
       "      <td>64</td>\n",
       "      <td>Ltd.</td>\n",
       "      <td>NaN</td>\n",
       "    </tr>\n",
       "    <tr>\n",
       "      <th>454</th>\n",
       "      <td>455</td>\n",
       "      <td>Guillaume Emmanuel Guignard de Saint-Priest</td>\n",
       "      <td>NaN</td>\n",
       "    </tr>\n",
       "    <tr>\n",
       "      <th>539</th>\n",
       "      <td>540</td>\n",
       "      <td>De Agostini - ISBN 8841820055</td>\n",
       "      <td>NaN</td>\n",
       "    </tr>\n",
       "    <tr>\n",
       "      <th>547</th>\n",
       "      <td>548</td>\n",
       "      <td>Joaquin Fernandez de Portocarrero Mendoza</td>\n",
       "      <td>NaN</td>\n",
       "    </tr>\n",
       "    <tr>\n",
       "      <th>...</th>\n",
       "      <td>...</td>\n",
       "      <td>...</td>\n",
       "      <td>...</td>\n",
       "    </tr>\n",
       "    <tr>\n",
       "      <th>999363</th>\n",
       "      <td>999364</td>\n",
       "      <td>Squadra sudafricana di Coppa Davis</td>\n",
       "      <td>NaN</td>\n",
       "    </tr>\n",
       "    <tr>\n",
       "      <th>999650</th>\n",
       "      <td>999651</td>\n",
       "      <td>Modalità di gioco.</td>\n",
       "      <td>NaN</td>\n",
       "    </tr>\n",
       "    <tr>\n",
       "      <th>999685</th>\n",
       "      <td>999686</td>\n",
       "      <td>Scutt.</td>\n",
       "      <td>NaN</td>\n",
       "    </tr>\n",
       "    <tr>\n",
       "      <th>999716</th>\n",
       "      <td>999717</td>\n",
       "      <td>Funzionamento.</td>\n",
       "      <td>NaN</td>\n",
       "    </tr>\n",
       "    <tr>\n",
       "      <th>999825</th>\n",
       "      <td>999826</td>\n",
       "      <td>Modalità di gioco.</td>\n",
       "      <td>NaN</td>\n",
       "    </tr>\n",
       "  </tbody>\n",
       "</table>\n",
       "<p>7827 rows × 3 columns</p>\n",
       "</div>"
      ],
      "text/plain": [
       "            id                                         text  readability\n",
       "39          40                   Ferro di cavallo di Lander          NaN\n",
       "63          64                                         Ltd.          NaN\n",
       "454        455  Guillaume Emmanuel Guignard de Saint-Priest          NaN\n",
       "539        540                De Agostini - ISBN 8841820055          NaN\n",
       "547        548    Joaquin Fernandez de Portocarrero Mendoza          NaN\n",
       "...        ...                                          ...          ...\n",
       "999363  999364           Squadra sudafricana di Coppa Davis          NaN\n",
       "999650  999651                           Modalità di gioco.          NaN\n",
       "999685  999686                                       Scutt.          NaN\n",
       "999716  999717                               Funzionamento.          NaN\n",
       "999825  999826                           Modalità di gioco.          NaN\n",
       "\n",
       "[7827 rows x 3 columns]"
      ]
     },
     "execution_count": 150,
     "metadata": {},
     "output_type": "execute_result"
    }
   ],
   "source": [
    "valori_nulli = data_set[data_set[\"readability\"].isnull()]\n",
    "valori_nulli #vediamo che le frasi troppo corte non restituiscono un valore di leggibilità. "
   ]
  },
  {
   "cell_type": "markdown",
   "metadata": {},
   "source": [
    "Le frasi passate all'API sono sottoposte a un ulteriore splitting. Per questo motivo alcune frasi vengono suddivise in più parti rispetto a quelle originali. Tutte quelle frasi vengono rimosse"
   ]
  },
  {
   "cell_type": "code",
   "execution_count": 32,
   "metadata": {},
   "outputs": [],
   "source": [
    "#si rimuovono le frasi che non matchano con quelle originali\n",
    "clean_ds = data_set[data_set['text'].isin(data_df['text'])] "
   ]
  },
  {
   "cell_type": "code",
   "execution_count": 38,
   "metadata": {},
   "outputs": [
    {
     "name": "stdout",
     "output_type": "stream",
     "text": [
      "<class 'pandas.core.frame.DataFrame'>\n",
      "Int64Index: 19817 entries, 0 to 19999\n",
      "Data columns (total 3 columns):\n",
      " #   Column       Non-Null Count  Dtype  \n",
      "---  ------       --------------  -----  \n",
      " 0   id           19817 non-null  int64  \n",
      " 1   text         19817 non-null  object \n",
      " 2   readability  19817 non-null  float64\n",
      "dtypes: float64(1), int64(1), object(1)\n",
      "memory usage: 619.3+ KB\n"
     ]
    }
   ],
   "source": [
    "clean_ds.info()"
   ]
  },
  {
   "cell_type": "code",
   "execution_count": 13,
   "metadata": {},
   "outputs": [],
   "source": [
    "#si eliminano anche i restanti elementi che hanno leggibilità NaN\n",
    "clean_ds = data_set.dropna()"
   ]
  },
  {
   "cell_type": "code",
   "execution_count": 14,
   "metadata": {},
   "outputs": [
    {
     "name": "stderr",
     "output_type": "stream",
     "text": [
      "C:\\Users\\bergo\\AppData\\Local\\Temp\\ipykernel_17772\\1643316225.py:1: SettingWithCopyWarning: \n",
      "A value is trying to be set on a copy of a slice from a DataFrame.\n",
      "Try using .loc[row_indexer,col_indexer] = value instead\n",
      "\n",
      "See the caveats in the documentation: https://pandas.pydata.org/pandas-docs/stable/user_guide/indexing.html#returning-a-view-versus-a-copy\n",
      "  clean_ds[\"id\"] = range(1, len(clean_ds)+1)\n"
     ]
    }
   ],
   "source": [
    "clean_ds[\"id\"] = range(1, len(clean_ds)+1) #id vengono riassegnati "
   ]
  },
  {
   "cell_type": "code",
   "execution_count": 16,
   "metadata": {},
   "outputs": [
    {
     "data": {
      "text/html": [
       "<div>\n",
       "<style scoped>\n",
       "    .dataframe tbody tr th:only-of-type {\n",
       "        vertical-align: middle;\n",
       "    }\n",
       "\n",
       "    .dataframe tbody tr th {\n",
       "        vertical-align: top;\n",
       "    }\n",
       "\n",
       "    .dataframe thead th {\n",
       "        text-align: right;\n",
       "    }\n",
       "</style>\n",
       "<table border=\"1\" class=\"dataframe\">\n",
       "  <thead>\n",
       "    <tr style=\"text-align: right;\">\n",
       "      <th></th>\n",
       "      <th>id</th>\n",
       "      <th>text</th>\n",
       "      <th>readability</th>\n",
       "    </tr>\n",
       "  </thead>\n",
       "  <tbody>\n",
       "    <tr>\n",
       "      <th>19995</th>\n",
       "      <td>19813</td>\n",
       "      <td>Il distretto è formato da 2 città e 28 comuni</td>\n",
       "      <td>1.127732</td>\n",
       "    </tr>\n",
       "    <tr>\n",
       "      <th>19996</th>\n",
       "      <td>19814</td>\n",
       "      <td>Dopo essersi aggiudicato le simpatie del re di...</td>\n",
       "      <td>85.201601</td>\n",
       "    </tr>\n",
       "    <tr>\n",
       "      <th>19997</th>\n",
       "      <td>19815</td>\n",
       "      <td>Senza queste necessità, la dimenticherebbero.</td>\n",
       "      <td>54.502640</td>\n",
       "    </tr>\n",
       "    <tr>\n",
       "      <th>19998</th>\n",
       "      <td>19816</td>\n",
       "      <td>un organismo comune avrebbe dovuto assicurare ...</td>\n",
       "      <td>60.542846</td>\n",
       "    </tr>\n",
       "    <tr>\n",
       "      <th>19999</th>\n",
       "      <td>19817</td>\n",
       "      <td>Il giovane Murakami era però più attratto dai ...</td>\n",
       "      <td>36.954094</td>\n",
       "    </tr>\n",
       "  </tbody>\n",
       "</table>\n",
       "</div>"
      ],
      "text/plain": [
       "          id                                               text  readability\n",
       "19995  19813      Il distretto è formato da 2 città e 28 comuni     1.127732\n",
       "19996  19814  Dopo essersi aggiudicato le simpatie del re di...    85.201601\n",
       "19997  19815      Senza queste necessità, la dimenticherebbero.    54.502640\n",
       "19998  19816  un organismo comune avrebbe dovuto assicurare ...    60.542846\n",
       "19999  19817  Il giovane Murakami era però più attratto dai ...    36.954094"
      ]
     },
     "execution_count": 16,
     "metadata": {},
     "output_type": "execute_result"
    }
   ],
   "source": [
    "clean_ds.tail()"
   ]
  },
  {
   "cell_type": "code",
   "execution_count": 39,
   "metadata": {},
   "outputs": [],
   "source": [
    "clean_ds.to_csv(\"more_frasi_ws.csv\", index=False) #una volta pronto salviamo il file"
   ]
  }
 ],
 "metadata": {
  "kernelspec": {
   "display_name": "Python 3",
   "language": "python",
   "name": "python3"
  },
  "language_info": {
   "codemirror_mode": {
    "name": "ipython",
    "version": 3
   },
   "file_extension": ".py",
   "mimetype": "text/x-python",
   "name": "python",
   "nbconvert_exporter": "python",
   "pygments_lexer": "ipython3",
   "version": "3.10.2"
  }
 },
 "nbformat": 4,
 "nbformat_minor": 2
}
