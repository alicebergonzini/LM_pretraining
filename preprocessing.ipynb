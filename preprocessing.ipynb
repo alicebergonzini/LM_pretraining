{
 "cells": [
  {
   "cell_type": "markdown",
   "metadata": {},
   "source": [
    "## Preprocessing"
   ]
  },
  {
   "cell_type": "markdown",
   "metadata": {},
   "source": [
    "### Estrazione frasi\n",
    "Estraiamo un campione di frasi a partire dai file conllu di Wikipedia italiana elaborata. "
   ]
  },
  {
   "cell_type": "code",
   "execution_count": 13,
   "metadata": {},
   "outputs": [],
   "source": [
    "import os\n",
    "import re\n",
    "import pandas as pd\n",
    "from tqdm import tqdm"
   ]
  },
  {
   "cell_type": "code",
   "execution_count": 14,
   "metadata": {},
   "outputs": [],
   "source": [
    "def get_id(line):\n",
    "    sent_id = re.sub(r'\\D', '', line)\n",
    "    return sent_id\n",
    "\n",
    "def get_text(line):\n",
    "    sent = line[9:].rstrip('\\n')\n",
    "    return sent\n",
    "\n",
    "def get_sentences(file_conllu):\n",
    "    sentences = []\n",
    "    ids = []\n",
    "    with tqdm(total=sum(1 for _ in open(file_conllu, 'r', encoding='utf-8')), desc=f'Progresso estrazione frasi del file {file_conllu}') as pbar:\n",
    "        for line in open(file_conllu, 'r', encoding='utf-8'):\n",
    "            pbar.update(1)  # Aggiorna la barra di avanzamento\n",
    "            if line.startswith(\"# sent_id\"):\n",
    "                current_id = get_id(line)  \n",
    "                ids.append(current_id)\n",
    "            elif line.startswith(\"# text\"):\n",
    "                current_sent = get_text(line)\n",
    "                sentences.append(current_sent)\n",
    "    return ids, sentences"
   ]
  },
  {
   "cell_type": "code",
   "execution_count": 15,
   "metadata": {},
   "outputs": [
    {
     "data": {
      "text/plain": [
       "'ds_directory = \"C:/Users/bergo/OneDrive - University of Pisa/Tesi Magistrale/wiki_conllu\"\\nds_files = []\\nfor file_name in os.listdir(ds_directory):\\n    file_path = os.path.join(ds_directory, file_name)\\n    ds_files.append(file_path)  #ottengo il nome dei diversi file all\\'interno della directory\\nprint(ds_files)'"
      ]
     },
     "execution_count": 15,
     "metadata": {},
     "output_type": "execute_result"
    }
   ],
   "source": [
    "#nel caso in cui dovessimo itereare sui diversi file nella dir\n",
    "\"\"\"ds_directory = \"C:/Users/bergo/OneDrive - University of Pisa/Tesi Magistrale/wiki_conllu\"\n",
    "ds_files = []\n",
    "for file_name in os.listdir(ds_directory):\n",
    "    file_path = os.path.join(ds_directory, file_name)\n",
    "    ds_files.append(file_path)  #ottengo il nome dei diversi file all'interno della directory\n",
    "print(ds_files)\"\"\""
   ]
  },
  {
   "cell_type": "code",
   "execution_count": 16,
   "metadata": {},
   "outputs": [
    {
     "data": {
      "text/plain": [
       "'data_df = pd.DataFrame(columns=[\"id\", \"text\"])\\ndata_df[\"id\"], data_df[\"text\"] = get_sentences(ds_files[0])   #per ora lavoro su un singolo file'"
      ]
     },
     "execution_count": 16,
     "metadata": {},
     "output_type": "execute_result"
    }
   ],
   "source": [
    "\"\"\"data_df = pd.DataFrame(columns=[\"id\", \"text\"])\n",
    "data_df[\"id\"], data_df[\"text\"] = get_sentences(ds_files[0])   #per ora lavoro su un singolo file\"\"\""
   ]
  },
  {
   "cell_type": "code",
   "execution_count": 17,
   "metadata": {},
   "outputs": [],
   "source": [
    "data_df = pd.read_csv(\"data/csv/sample_rs42.csv\", encoding =\"utf-8\")"
   ]
  },
  {
   "cell_type": "code",
   "execution_count": 46,
   "metadata": {},
   "outputs": [
    {
     "data": {
      "text/html": [
       "<div>\n",
       "<style scoped>\n",
       "    .dataframe tbody tr th:only-of-type {\n",
       "        vertical-align: middle;\n",
       "    }\n",
       "\n",
       "    .dataframe tbody tr th {\n",
       "        vertical-align: top;\n",
       "    }\n",
       "\n",
       "    .dataframe thead th {\n",
       "        text-align: right;\n",
       "    }\n",
       "</style>\n",
       "<table border=\"1\" class=\"dataframe\">\n",
       "  <thead>\n",
       "    <tr style=\"text-align: right;\">\n",
       "      <th></th>\n",
       "      <th>sent_id</th>\n",
       "      <th>text</th>\n",
       "      <th>gulpease</th>\n",
       "    </tr>\n",
       "  </thead>\n",
       "  <tbody>\n",
       "    <tr>\n",
       "      <th>999994</th>\n",
       "      <td>1147841</td>\n",
       "      <td>Il Kentucky può essere diviso in cinque region...</td>\n",
       "      <td>60</td>\n",
       "    </tr>\n",
       "    <tr>\n",
       "      <th>999995</th>\n",
       "      <td>546403</td>\n",
       "      <td>Wescott ha avuto cariche in diverse associazio...</td>\n",
       "      <td>34</td>\n",
       "    </tr>\n",
       "    <tr>\n",
       "      <th>999996</th>\n",
       "      <td>1373331</td>\n",
       "      <td>La cerchia di mura non racchiudeva nel medioev...</td>\n",
       "      <td>42</td>\n",
       "    </tr>\n",
       "    <tr>\n",
       "      <th>999997</th>\n",
       "      <td>572606</td>\n",
       "      <td>I Memphis Grizzlies arrivarono quarti nella \"S...</td>\n",
       "      <td>50</td>\n",
       "    </tr>\n",
       "    <tr>\n",
       "      <th>999998</th>\n",
       "      <td>67405</td>\n",
       "      <td>La musica elettroacustica abbraccia l'insieme ...</td>\n",
       "      <td>35</td>\n",
       "    </tr>\n",
       "  </tbody>\n",
       "</table>\n",
       "</div>"
      ],
      "text/plain": [
       "        sent_id                                               text  gulpease\n",
       "999994  1147841  Il Kentucky può essere diviso in cinque region...        60\n",
       "999995   546403  Wescott ha avuto cariche in diverse associazio...        34\n",
       "999996  1373331  La cerchia di mura non racchiudeva nel medioev...        42\n",
       "999997   572606  I Memphis Grizzlies arrivarono quarti nella \"S...        50\n",
       "999998    67405  La musica elettroacustica abbraccia l'insieme ...        35"
      ]
     },
     "execution_count": 46,
     "metadata": {},
     "output_type": "execute_result"
    }
   ],
   "source": [
    "data_df.tail()"
   ]
  },
  {
   "cell_type": "code",
   "execution_count": 19,
   "metadata": {},
   "outputs": [
    {
     "name": "stdout",
     "output_type": "stream",
     "text": [
      "<class 'pandas.core.frame.DataFrame'>\n",
      "RangeIndex: 999999 entries, 0 to 999998\n",
      "Data columns (total 3 columns):\n",
      " #   Column    Non-Null Count   Dtype \n",
      "---  ------    --------------   ----- \n",
      " 0   sent_id   999999 non-null  int64 \n",
      " 1   text      999999 non-null  object\n",
      " 2   gulpease  999999 non-null  int64 \n",
      "dtypes: int64(2), object(1)\n",
      "memory usage: 22.9+ MB\n"
     ]
    }
   ],
   "source": [
    "data_df.info()"
   ]
  },
  {
   "cell_type": "code",
   "execution_count": 61,
   "metadata": {},
   "outputs": [],
   "source": [
    "INIZIO = 0\n",
    "fine = 50\n",
    "samplino = data_df.iloc[INIZIO:fine] "
   ]
  },
  {
   "cell_type": "code",
   "execution_count": 62,
   "metadata": {},
   "outputs": [
    {
     "name": "stdout",
     "output_type": "stream",
     "text": [
      "<class 'pandas.core.frame.DataFrame'>\n",
      "RangeIndex: 50 entries, 0 to 49\n",
      "Data columns (total 3 columns):\n",
      " #   Column    Non-Null Count  Dtype \n",
      "---  ------    --------------  ----- \n",
      " 0   sent_id   50 non-null     int64 \n",
      " 1   text      50 non-null     object\n",
      " 2   gulpease  50 non-null     int64 \n",
      "dtypes: int64(2), object(1)\n",
      "memory usage: 1.3+ KB\n"
     ]
    }
   ],
   "source": [
    "samplino.info()"
   ]
  },
  {
   "cell_type": "code",
   "execution_count": 63,
   "metadata": {},
   "outputs": [
    {
     "data": {
      "text/plain": [
       "sent_id                                                651531\n",
       "text        Nei suoi, circa, dodici anni di regno (Sesto A...\n",
       "gulpease                                                   39\n",
       "Name: 49, dtype: object"
      ]
     },
     "execution_count": 63,
     "metadata": {},
     "output_type": "execute_result"
    }
   ],
   "source": [
    "data_df.iloc[fine-1]"
   ]
  },
  {
   "cell_type": "code",
   "execution_count": 64,
   "metadata": {},
   "outputs": [
    {
     "data": {
      "text/plain": [
       "sent_id                                                651531\n",
       "text        Nei suoi, circa, dodici anni di regno (Sesto A...\n",
       "gulpease                                                   39\n",
       "Name: 49, dtype: object"
      ]
     },
     "execution_count": 64,
     "metadata": {},
     "output_type": "execute_result"
    }
   ],
   "source": [
    "samplino.iloc[len(samplino)-1]"
   ]
  },
  {
   "cell_type": "markdown",
   "metadata": {},
   "source": [
    "### Estrazione degli indici di leggibilità per ogni frase\n",
    "\n",
    "Utilizziamo l'API _read-it_ per calcolare gli indici di complessità di ogni frase."
   ]
  },
  {
   "cell_type": "code",
   "execution_count": 26,
   "metadata": {},
   "outputs": [],
   "source": [
    "import requests\n",
    "import sys\n",
    "import json"
   ]
  },
  {
   "cell_type": "code",
   "execution_count": 65,
   "metadata": {},
   "outputs": [],
   "source": [
    "\n",
    "SERVER_PATH = \"http://api.italianlp.it\"\n",
    "#SERVER_PATH = \"http://itanlp-gpu.ilc.cnr.it:13000\"\n",
    "\n",
    "def load_document(text, i, x):\n",
    "    try:\n",
    "        r = requests.post(SERVER_PATH + '/documents/',           # carica il documento nel database del server\n",
    "                        data={'text': text,                    # durante il caricamento viene eseguita un'analisi linguistica necessaria per calcolare la leggibilità\n",
    "                            'lang': 'IT',\n",
    "                            'extra_tasks': [\"readability\"]     # chiede al server di calcolare anche la leggibilità del docuemnto\n",
    "                    })\n",
    "        r.raise_for_status()  \n",
    "        doc_id = r.json()['id']                           # id del documento nel database del server, che serve per richiedere i risultati delle analisi     \n",
    "        return doc_id\n",
    "    except requests.RequestException as e:\n",
    "        print(f\"Errore nel caricamento del documento: {e} \\n ---------- Documento: ----------\\n{text}\")\n",
    "        with open('frasi_saltate_val.txt', 'w', encoding='utf-8') as frasi_saltate:\n",
    "            frasi_saltate.write(f\"Iterazione saltata: {i+INIZIO} - {(i+INIZIO)+x} \\nDOCUMENTO SALTATO \\n{text}\")\n",
    "        return None\n",
    "    \n",
    "\n",
    "def get_doc_score(doc_id, i, x):\n",
    "    try:\n",
    "        r = requests.get(SERVER_PATH + '/documents/details/%s' % doc_id)\n",
    "        r.raise_for_status()\n",
    "        result = r.json()\n",
    "        return result\n",
    "    except requests.RequestException as e:\n",
    "        print(f\"Errore nel recupero dei risultati: {e}\\n Iterazione: {i+INIZIO} - {(i+INIZIO)+x}: \")\n",
    "        return None\n",
    "\n",
    "\n"
   ]
  },
  {
   "cell_type": "code",
   "execution_count": 14,
   "metadata": {},
   "outputs": [],
   "source": [
    "#facciamo una prova con un testo di poche frasi\n",
    "#text = \"Il cielo notturno era illuminato da milioni di stelle scintillanti. La vita è un viaggio, non una destinazione. La musica è il linguaggio universale dell'umanità. Le piccole cose nella vita spesso portano le più grandi gioie. Non esiste un ascensore per il successo; devi prendere le scale. Ogni giorno è una nuova opportunità per essere felici. I fiori non si preoccupano di come sbocceranno; semplicemente lo fanno. La risata è il miglior antidoto contro lo stress. La gentilezza è un linguaggio che i sordi possono sentire e i ciechi possono vedere. Nella semplicità risiede la vera bellezza.\"\n",
    "\n",
    "\n",
    "#doc_id = load_document(text, None, None)\n",
    "#r_score = get_doc_score(doc_id, None, None)\n",
    "\n",
    "#vediamo com'è strutturato l'oggetto che viene restituito dall'API\n",
    "#print(r_score)"
   ]
  },
  {
   "cell_type": "code",
   "execution_count": 95,
   "metadata": {},
   "outputs": [
    {
     "data": {
      "text/plain": [
       "'\\ndef get_final_data(result_dict):\\n    text_list = []\\n    score_list = []\\n    for doc_scores in result_dict:\\n        text, score = get_sen_scores(doc_scores)\\n        text_list = text_list + text\\n        score_list = score_list + score\\n    return text_list, score_list\\n'"
      ]
     },
     "execution_count": 95,
     "metadata": {},
     "output_type": "execute_result"
    }
   ],
   "source": [
    "#qui iteriamo sui risultati ottenuti per un singolo documento\n",
    "def get_sen_scores(doc_scores):\n",
    "    all_sent_rscore = []\n",
    "    all_sent_text = []\n",
    "    for sent_results in doc_scores['sentences']['data']:\n",
    "        all_sent_rscore.append(sent_results['readability_score_all'])\n",
    "        all_sent_text.append(sent_results['raw_text'])\n",
    "    return all_sent_text, all_sent_rscore\n",
    "\n",
    "#si passa all'api un doc di 1000 frasi per volta.\n",
    "def readability_extraction(sen_list, x): #x è il numero di frasi che si vogliono calcolare per iterazione \n",
    "    for i in tqdm(range(0, len(sen_list), x), desc=f\"Progresso nell'estrazione degli indici di complessità delle frasi (ogni iterazione corrisponde a {x} frasi)\"):\n",
    "        doc = \"\\n\".join(sen_list[i:i+x])\n",
    "        doc_id = load_document(doc, i, x)\n",
    "        r_scores = get_doc_score(doc_id, i, x)\n",
    "        with open(f\"data/readit_scores/json_scores{i+INIZIO}-{(i+INIZIO)+x}.json\", \"w\") as f:\n",
    "            json.dump(r_scores, f)\n",
    "            #if i + x < len(sen_list):\n",
    "            #    f.write(',')  # Aggiungiamo una virgola se non siamo all'ultima iterazione\n",
    "      \n",
    "    #all_scores.append(r_scores)\n",
    "    \n",
    "\n",
    "#qui si ottiene la struttura dati finale dove per ogni frase abbiamo lo score ottenuto da read_it\n",
    "\n",
    "'''\n",
    "def get_final_data(result_dict):\n",
    "    text_list = []\n",
    "    score_list = []\n",
    "    for doc_scores in result_dict:\n",
    "        text, score = get_sen_scores(doc_scores)\n",
    "        text_list = text_list + text\n",
    "        score_list = score_list + score\n",
    "    return text_list, score_list\n",
    "'''\n"
   ]
  },
  {
   "cell_type": "code",
   "execution_count": 66,
   "metadata": {},
   "outputs": [
    {
     "name": "stderr",
     "output_type": "stream",
     "text": [
      "Progresso nell'estrazione degli indici di complessità delle frasi (ogni iterazione corrisponde a 50 frasi):   0%|          | 0/1 [00:00<?, ?it/s]"
     ]
    },
    {
     "name": "stdout",
     "output_type": "stream",
     "text": [
      "DOCUMENTO DA CARICARE: Il trio non era inizialmente interessato a lavorare nell'azienda di famiglia.\n",
      "La ragazza riesce a convincere Lachlan a lasciar perdere promettendogli di copulare con lui.\n",
      "In quanto campione del mondo uscente, egli avrebbe avuto comunque il diritto di partecipare al torneo dei candidati dell'edizione successiva, tuttavia decise di non avvalersi di tale diritto e di ritirarsi dalla competizione per il titolo mondiale, pur rimanendo attivo negli scacchi agonistici fino al 1970.\n",
      "Scoperto nel 2000, presenta un'orbita caratterizzata da un semiasse maggiore pari a 2,7742634 UA e da un'eccentricità di 0,1087025, inclinata di 3,73822° rispetto all'eclittica.\n",
      "Definizione dell'Autorità per l'Energia Elettrica e il Gas.\n",
      "Il progetto del Vindicator nacque (con la sigla di progetto V-156) nel corso del 1935 quando il Bureau of Aeronautics (BuAer), dipartimento della United States Navy deputato alla gestione del materiale e tecnologia della propria componente aerea, avanzò alla Vought la richiesta per la costruzione di due prototipi, dalle differenti caratteristiche, allo scopo di valutare la costruzione di un nuovo velivolo da destinare a compiti di esplorazione e bombardamento (scout/bomber secondo la designazione all'epoca in vigore, da cui la sigla SB).\n",
      "Nei sigilli cilindrici non mancarono figurazioni fantasiose a base di animali, di piante e di divinità, influenzate dai miti della fecondità e della fertilità.\n",
      "Secondo la tradizione, la diocesi di Novara fu istituita nel 398, con a capo il vescovo Gaudenzio, che di persona si occupò dell'evangelizzazione del Basso novarese negli anni a cavallo tra IV e V secolo.\n",
      "Lei è convinta dell'innocenza del marito.\n",
      "Filippo rifiutò l'ultimatum sostenendo che non stava violando alcun termine della pace di Fenice firmata con i romani.\n",
      "Nata a Roma nel 1948, a 20 anni ha partecipato ai Giochi olimpici di , nella gara di piattaforma 10 metri, terminando ventunesima con 43.54 punti, non riuscendo ad accedere alla finale, riservata alle prime 12.\n",
      "Sono presenti percorsi ciclabili o ciclopedonali a carattere escursionistico, di varia lunghezza, all'interno del territorio di numerosi comuni toscani.\n",
      "Alle 20.30 dello stesso giorno, al largo della costa tripolina, la \"Pegaso\" effettuò una caccia antisom che potrebbe aver portato all'affondamento del sommergibile HMS \"Undaunted\".\n",
      "Si tratta in pratica di grossi ventilatori.\n",
      "Le croci originali hanno sul retro la sigla CIF per indicare che a produrle è stata l'azienda valenzana Carlo Illario &amp; F.lli Il'ja Frolov\n",
      "Consegnati con un tortuoso volo di trasferimento incominciato il 6 settembre 1950 con partenza dall'Arizona, con voli inframezzati da soste presso basi in Texas, Alabama, Florida (dove gli aerei dovettero sostare più a lungo del previsto per l'imperversare dell'Uragano Donna), Giamaica, Panama, Perù e Cile, il 26 settembre i primi nove esemplari raggiunsero la \"Base Aérea \"El Plumerillo\"\" (nei pressi di Mendoza).\n",
      "Numerosi vini vengono prodotti utilizzando una \"miscela di uve\", per l'ammostamento, composte da differenti vitigni (uvaggio) oppure (ed è una cosa assai diversa) da una miscela di vini diversi per provenienza, modalità produttiva e invecchiamento ma ciascuno tipicamente di derivazione di un solo vitigno (taglio).\n",
      "All'interno di questo, gli Assiniboin si possono collocare nel sottogruppo più estremo, caratterizzato dall'assenza di ogni attività agricola, dal nomadismo e dalla sostanziale dipendenza dal bisonte.\n",
      "Gli ammassi che invece hanno una massa sufficiente per restare integri possono restare tali anche per diverse decine di milioni di anni dopo che i residui nebulosi sono stati spazzati via, sebbene alla lunga tenderanno a disperdersi anch'essi a causa di fattori di destabilizzazione sia interni che esterni.\n",
      "Tra le sue caratteristiche:\n",
      "La propensione marginale al consumo e il moltiplicatore keynesiano.\n",
      "I Puritani, infatti, a differenza delle sette separatiste, non avevano abbandonato la Chiesa anglicana.\n",
      "Note sulle formazioni di montagna.\n",
      "Il primo tratto della superstrada a venire realizzato fu quello compreso all'interno del territorio della provincia di Rieti (Rieti - confine di regione presso Piè di Moggio).\n",
      "«GO Igest», con la quale pubblica l'album «Gaber», da ricordare almeno per \"Benvenuto il luogo dove\" e \"Occhio, cuore, cervello\".\n",
      "Conta una popolazione di abitanti .\n",
      "Vi furono aggiunti oltre venti altari laterali e opere di famosi pittori cechi.\n",
      "Nell'ottobre 2014 segue Sabrina Ferilli alla nuova emittente televisiva albanese Agon Channel, dove i due conducono il talk show \"Contratto\".\n",
      "È autore di vari libri di divulgazione scientifica.\n",
      "In tutte le località si svolgono le feste patronali;\n",
      "Questo tipo di filtro può essere chiuso per operare a temperature superiori ai 100 °C, sotto pressione.\n",
      "Sarà esponente alla Camera in diverse legislature, sostenuto dagli Italo-albanesi con entusiasmo (come testimoniato da alcuni articoli del giornale lungrese dell'epoca \"Il Tiro\") Oltre al Damis, altri personaggi degni di nota che guidarono i \"500 Lungresi\" furono:\n",
      "Il lato B del singolo contiene la cover \"Never Talking to You Again\", brano degli Hüsker Dü incluso nel loro album del 1984 \"Zen Arcade\".\n",
      "Avrebbe dovuto rappresentare la Germania all'Eurovision Song Contest 2020 con il brano \"Violent Thing\", poi cancellato a causa della pandemia di COVID-19.\n",
      "Čierna Lehota (in ungherese:\n",
      "La sottofamiglia si compone di 18 generi e 356 specie, diffuse in tutti i continenti; in Europa si contano 4 generi (tutti presenti anche in Italia) e 17 specie, di cui solo 9 si trovano anche sul territorio italiano; non è riportato alcun endemismo italiano:\n",
      "L'opera potrebbe essere stata prodotta da annalisti che lavoravano in chiese o monasteri e realizzata per un pubblico ecclesiastico.\n",
      "Verso la fine della sua serie un uomo di mezz'età in vestiti ordinari viene mostrato mentre osserva quietamente la casa di Grant.\n",
      "Il 21 febbraio 2019, firmò con i Washington Nationals rimanendo nella franchigia fine al termine della stagione, quando divenne free agent.\n",
      "Curiosamente la strada ripercorre a tratti le vie di alcuni antichi e importanti tratturi che dall'Abruzzo raggiungevano il Tavoliere delle Puglie (es. Tratturo Magno).\n",
      "Le riprese hanno riguardato Roma (la città dove Ettore ha mosso i primi passi nel mondo della fisica internazionale), Catania (città natale), Parigi (dove risiedono il fisico Etienne Klein e lo scrittore Jordi Bonnels), Napoli (città nella quale Ettore Majorana ottenne la cattedra universitaria) e Palermo (ultimo luogo in cui è stato avvistato il fisico catanese).\n",
      "Dopo il successo fenomenale della Hill, un numero di altri artisti neo soul ha iniziato a comporre hit R&amp;B, tra i più noti Joss Stone, Macy Gray, Angie Stone, Musiq Soulchild e India.Arie.\n",
      "Alle tre del pomeriggio, i britannici giunsero a 800 m dalla postazione di Hand.\n",
      "tutte le retrocessioni e i play-off furono aboliti, lasciando come unici verdetti finali le promozioni e la vittoria del titolo.\n",
      "64 anni dopo l'inaugurazione, lo stadio è stato ribattezzato, giacché fino al mese di agosto del 2016 portava il nome \"Stadio Mateo Flores\".\n",
      "Fu davvero brutto, per me.\n",
      "(Always Be My) Sunshine è il secondo singolo del rapper statunitense Jay-Z, pubblicato il 16 settembre 1997 ed estratto dal suo secondo album, \"In My Lifetime, Vol.\n",
      "La rappresentativa USA riuscì a chiudere in testa alla classifica del Gruppo B dopo la terza vittoriosa partita giocata contro il Giappone il 21 novembre aggiudicandosi il diritto di accedere alla seconda fase del torneo.\n",
      "Dopo un anno di \"convivenza\", nel luglio 2013, le due aree decidono di porre fine all'esistenza di Sinistra Critica.\n",
      "Nei suoi, circa, dodici anni di regno (Sesto Africano gliene attribuisce quattordici, Eusebio di Cesarea dodici mentre la data più alta attestata a livello archeologico è il 3° anni di regno) governò quasi tutto l'Egitto ad esclusione di alcuni principati autonomi della regione del delta del Nilo.\n"
     ]
    },
    {
     "name": "stderr",
     "output_type": "stream",
     "text": [
      "Progresso nell'estrazione degli indici di complessità delle frasi (ogni iterazione corrisponde a 50 frasi): 100%|██████████| 1/1 [00:11<00:00, 11.40s/it]\n"
     ]
    }
   ],
   "source": [
    "all_results = readability_extraction(samplino[\"text\"].tolist(), 50)"
   ]
  },
  {
   "cell_type": "code",
   "execution_count": 93,
   "metadata": {},
   "outputs": [],
   "source": [
    "#codice per estrarre score dai json\n",
    "#iteriamo sui diversi file json nella directory\n",
    "json_dir = \"C:/Users/bergo/OneDrive - University of Pisa/Tesi Magistrale/readit_scores/training\"\n",
    "ds_files = []\n",
    "for file_name in os.listdir(json_dir):\n",
    "    file_path = os.path.join(json_dir, file_name)\n",
    "    ds_files.append(file_path) #ottengo il nome dei diversi file all'interno della directory"
   ]
  },
  {
   "cell_type": "code",
   "execution_count": 96,
   "metadata": {},
   "outputs": [
    {
     "name": "stderr",
     "output_type": "stream",
     "text": [
      "Processing files: 100%|██████████| 1000/1000 [03:08<00:00,  5.29it/s]\n"
     ]
    }
   ],
   "source": [
    "#si leggono i file json per ottenere lista di frasi e lista di punteggi read-it\n",
    "all_sent = []\n",
    "all_scores = []\n",
    "for file_name in tqdm(ds_files, desc=\"Processing files\"):\n",
    "    with open(file_name, \"r\", encoding=\"utf-8\") as json_file:\n",
    "        result = json.load(json_file)\n",
    "        #print(result[\"sentences\"][\"count\"])\n",
    "    if result != None:\n",
    "        doc_sen, doc_scores = get_sen_scores(result)\n",
    "        all_sent = all_sent + doc_sen\n",
    "        all_scores = all_scores + doc_scores\n",
    "    else: \n",
    "        print(f'File vuoto: {file_name}\\n')\n",
    "        "
   ]
  },
  {
   "cell_type": "markdown",
   "metadata": {},
   "source": [
    "### Creazione e valutazione del dataset finale\n",
    "\n",
    "Si ottiene una struttura dataframe con _id_, _testo e _leggibilità_ per ogni frase. Dopodiché valutiamo le caratteristiche dei dati ottenuti"
   ]
  },
  {
   "cell_type": "code",
   "execution_count": 69,
   "metadata": {},
   "outputs": [
    {
     "data": {
      "text/plain": [
       "1000000"
      ]
     },
     "execution_count": 69,
     "metadata": {},
     "output_type": "execute_result"
    }
   ],
   "source": [
    "len(all_sent)"
   ]
  },
  {
   "cell_type": "code",
   "execution_count": 45,
   "metadata": {},
   "outputs": [
    {
     "data": {
      "text/html": [
       "<div>\n",
       "<style scoped>\n",
       "    .dataframe tbody tr th:only-of-type {\n",
       "        vertical-align: middle;\n",
       "    }\n",
       "\n",
       "    .dataframe tbody tr th {\n",
       "        vertical-align: top;\n",
       "    }\n",
       "\n",
       "    .dataframe thead th {\n",
       "        text-align: right;\n",
       "    }\n",
       "</style>\n",
       "<table border=\"1\" class=\"dataframe\">\n",
       "  <thead>\n",
       "    <tr style=\"text-align: right;\">\n",
       "      <th></th>\n",
       "      <th>id</th>\n",
       "      <th>text</th>\n",
       "      <th>readability</th>\n",
       "    </tr>\n",
       "  </thead>\n",
       "  <tbody>\n",
       "    <tr>\n",
       "      <th>999995</th>\n",
       "      <td>999996</td>\n",
       "      <td>L'Ordine ammetteva in tutto 30 dame esclusa la...</td>\n",
       "      <td>74.445784</td>\n",
       "    </tr>\n",
       "    <tr>\n",
       "      <th>999996</th>\n",
       "      <td>999997</td>\n",
       "      <td>\"il suo cavallo gli era stato ucciso sotto la ...</td>\n",
       "      <td>87.114897</td>\n",
       "    </tr>\n",
       "    <tr>\n",
       "      <th>999997</th>\n",
       "      <td>999998</td>\n",
       "      <td>Oltre a un istituto comprensivo (scuola elemen...</td>\n",
       "      <td>15.050005</td>\n",
       "    </tr>\n",
       "    <tr>\n",
       "      <th>999998</th>\n",
       "      <td>999999</td>\n",
       "      <td>Riconobbe inoltre che le rocce potessero esser...</td>\n",
       "      <td>65.320529</td>\n",
       "    </tr>\n",
       "    <tr>\n",
       "      <th>999999</th>\n",
       "      <td>1000000</td>\n",
       "      <td>Nessuno di quegli aerei ritornò indietro e l'a...</td>\n",
       "      <td>26.933706</td>\n",
       "    </tr>\n",
       "  </tbody>\n",
       "</table>\n",
       "</div>"
      ],
      "text/plain": [
       "             id                                               text  \\\n",
       "999995   999996  L'Ordine ammetteva in tutto 30 dame esclusa la...   \n",
       "999996   999997  \"il suo cavallo gli era stato ucciso sotto la ...   \n",
       "999997   999998  Oltre a un istituto comprensivo (scuola elemen...   \n",
       "999998   999999  Riconobbe inoltre che le rocce potessero esser...   \n",
       "999999  1000000  Nessuno di quegli aerei ritornò indietro e l'a...   \n",
       "\n",
       "        readability  \n",
       "999995    74.445784  \n",
       "999996    87.114897  \n",
       "999997    15.050005  \n",
       "999998    65.320529  \n",
       "999999    26.933706  "
      ]
     },
     "execution_count": 45,
     "metadata": {},
     "output_type": "execute_result"
    }
   ],
   "source": [
    "#si crea un dataframe con tutte le informazioni che ci interessano\n",
    "data_set = pd.DataFrame(columns=[\"id\", \"text\", \"readability\"])\n",
    "data_set[\"text\"] = all_sent\n",
    "data_set[\"readability\"] = all_scores\n",
    "data_set[\"id\"] = range(1, len(data_set) + 1)\n",
    "data_set.head()"
   ]
  },
  {
   "cell_type": "code",
   "execution_count": 47,
   "metadata": {},
   "outputs": [
    {
     "name": "stdout",
     "output_type": "stream",
     "text": [
      "<class 'pandas.core.frame.DataFrame'>\n",
      "RangeIndex: 1000000 entries, 0 to 999999\n",
      "Data columns (total 3 columns):\n",
      " #   Column       Non-Null Count    Dtype  \n",
      "---  ------       --------------    -----  \n",
      " 0   id           1000000 non-null  int64  \n",
      " 1   text         1000000 non-null  object \n",
      " 2   readability  968304 non-null   float64\n",
      "dtypes: float64(1), int64(1), object(1)\n",
      "memory usage: 22.9+ MB\n"
     ]
    }
   ],
   "source": [
    "data_set.info()"
   ]
  },
  {
   "cell_type": "markdown",
   "metadata": {},
   "source": [
    "Si controlla l'ordine dei dati. Da tenere in considerazione il fatto che \"all_results\" è in forma di lista contenente i dizionari dei risultati dell'API per ogni \"documento\" (ovvero ogni x frasi). Quindi l'indice utilizzato per gli elementi di \"all_results\" per controllare l'ordine sarà sempre compreso tra 0 e x. Mentre quello del nostro dataframe sarà l'equivalente + x*y (dove y, è il numero del documento che stiamo prendendo in considerazione)"
   ]
  },
  {
   "cell_type": "code",
   "execution_count": 55,
   "metadata": {},
   "outputs": [
    {
     "name": "stdout",
     "output_type": "stream",
     "text": [
      "36\n"
     ]
    }
   ],
   "source": [
    "# print(len(results_dict[0]))"
   ]
  },
  {
   "cell_type": "code",
   "execution_count": 56,
   "metadata": {},
   "outputs": [
    {
     "name": "stdout",
     "output_type": "stream",
     "text": [
      "---- Nel dataframe finale ----\n",
      " Testo: 'Durante il regno di Ḥasan Kuçek, non tutti i Chupanidi restarono leali.' - R_score: 43.5424813612392\n",
      "\n",
      "\n",
      "---- Nei risultati ottenuti dall'API ----\n",
      " Testo: 'la città non veniva servita da tre anni.' - R_score: 30.9012389143344\n"
     ]
    }
   ],
   "source": [
    "# #ora controlliamo che l'ordine sia corretto...\n",
    "# tupla = data_set[data_set[\"id\"]==35]\n",
    "# da_result = results_dict[0]['sentences']['data'][34] #primo \"documento\"\n",
    "# print(f\"---- Nel dataframe finale ----\\n Testo: '{tupla['text'].item()}' - R_score: {tupla['readability'].item()}\\n\\n\") \n",
    "# print(f\"---- Nei risultati ottenuti dall'API ----\\n Testo: '{da_result['raw_text']}' - R_score: {da_result['readability_score_all']}\")"
   ]
  },
  {
   "cell_type": "code",
   "execution_count": 57,
   "metadata": {},
   "outputs": [
    {
     "name": "stdout",
     "output_type": "stream",
     "text": [
      "---- Nel dataframe finale ---- \n",
      " Testo: Il verdetto è un film del 1948, diretto dal regista Lewis Allen. - R_score: 39.4039916534288\n",
      "\n",
      "\n",
      "---- Nei risultati ottenuti dall'API ---- \n",
      "  Testo: La nazionale di calcio della Polonia (pol. \"Reprezentacja Polski w piłce nożnej mężczyzn\") è la rappresentativa calcistica della Polonia ed è posta sotto l'egida della federazione calcistica polacca. - R_score: 58.4271426139914\n"
     ]
    }
   ],
   "source": [
    "# tupla = data_set[data_set[\"id\"]==49]\n",
    "# da_result = results_dict[1]['sentences']['data'][48] #secondo \"documento\"\n",
    "# print(f\"---- Nel dataframe finale ---- \\n Testo: {tupla['text'].item()} - R_score: {tupla['readability'].item()}\\n\\n\") \n",
    "# print(f\"---- Nei risultati ottenuti dall'API ---- \\n  Testo: {da_result['raw_text']} - R_score: {da_result['readability_score_all']}\")"
   ]
  },
  {
   "cell_type": "code",
   "execution_count": 33,
   "metadata": {},
   "outputs": [
    {
     "data": {
      "text/html": [
       "<div>\n",
       "<style scoped>\n",
       "    .dataframe tbody tr th:only-of-type {\n",
       "        vertical-align: middle;\n",
       "    }\n",
       "\n",
       "    .dataframe tbody tr th {\n",
       "        vertical-align: top;\n",
       "    }\n",
       "\n",
       "    .dataframe thead th {\n",
       "        text-align: right;\n",
       "    }\n",
       "</style>\n",
       "<table border=\"1\" class=\"dataframe\">\n",
       "  <thead>\n",
       "    <tr style=\"text-align: right;\">\n",
       "      <th></th>\n",
       "      <th>id</th>\n",
       "      <th>text</th>\n",
       "      <th>readability</th>\n",
       "    </tr>\n",
       "  </thead>\n",
       "  <tbody>\n",
       "    <tr>\n",
       "      <th>19</th>\n",
       "      <td>20</td>\n",
       "      <td>Tra le sue caratteristiche:</td>\n",
       "      <td>NaN</td>\n",
       "    </tr>\n",
       "    <tr>\n",
       "      <th>40</th>\n",
       "      <td>41</td>\n",
       "      <td>Tratturo Magno).</td>\n",
       "      <td>NaN</td>\n",
       "    </tr>\n",
       "    <tr>\n",
       "      <th>59</th>\n",
       "      <td>60</td>\n",
       "      <td>È un portiere goleador.</td>\n",
       "      <td>NaN</td>\n",
       "    </tr>\n",
       "    <tr>\n",
       "      <th>69</th>\n",
       "      <td>70</td>\n",
       "      <td>Corte di appello di Catania</td>\n",
       "      <td>NaN</td>\n",
       "    </tr>\n",
       "    <tr>\n",
       "      <th>73</th>\n",
       "      <td>74</td>\n",
       "      <td>École Supérieure des Beaux-Arts</td>\n",
       "      <td>NaN</td>\n",
       "    </tr>\n",
       "    <tr>\n",
       "      <th>...</th>\n",
       "      <td>...</td>\n",
       "      <td>...</td>\n",
       "      <td>...</td>\n",
       "    </tr>\n",
       "    <tr>\n",
       "      <th>999863</th>\n",
       "      <td>999864</td>\n",
       "      <td>Europa League 2017-2018</td>\n",
       "      <td>NaN</td>\n",
       "    </tr>\n",
       "    <tr>\n",
       "      <th>999866</th>\n",
       "      <td>999867</td>\n",
       "      <td>Dompierre-sur-Helpe</td>\n",
       "      <td>NaN</td>\n",
       "    </tr>\n",
       "    <tr>\n",
       "      <th>999896</th>\n",
       "      <td>999897</td>\n",
       "      <td>Il naufragio del Forfashire.</td>\n",
       "      <td>NaN</td>\n",
       "    </tr>\n",
       "    <tr>\n",
       "      <th>999916</th>\n",
       "      <td>999917</td>\n",
       "      <td>Sono poliedri di Keplero:</td>\n",
       "      <td>NaN</td>\n",
       "    </tr>\n",
       "    <tr>\n",
       "      <th>999930</th>\n",
       "      <td>999931</td>\n",
       "      <td>Auburn (New Hampshire)</td>\n",
       "      <td>NaN</td>\n",
       "    </tr>\n",
       "  </tbody>\n",
       "</table>\n",
       "<p>31696 rows × 3 columns</p>\n",
       "</div>"
      ],
      "text/plain": [
       "            id                             text  readability\n",
       "19          20      Tra le sue caratteristiche:          NaN\n",
       "40          41                 Tratturo Magno).          NaN\n",
       "59          60          È un portiere goleador.          NaN\n",
       "69          70      Corte di appello di Catania          NaN\n",
       "73          74  École Supérieure des Beaux-Arts          NaN\n",
       "...        ...                              ...          ...\n",
       "999863  999864          Europa League 2017-2018          NaN\n",
       "999866  999867              Dompierre-sur-Helpe          NaN\n",
       "999896  999897     Il naufragio del Forfashire.          NaN\n",
       "999916  999917        Sono poliedri di Keplero:          NaN\n",
       "999930  999931           Auburn (New Hampshire)          NaN\n",
       "\n",
       "[31696 rows x 3 columns]"
      ]
     },
     "execution_count": 33,
     "metadata": {},
     "output_type": "execute_result"
    }
   ],
   "source": [
    "valori_nulli = data_set[data_set[\"readability\"].isnull()]\n",
    "valori_nulli #vediamo che le frasi troppo corte non restituiscono un valore di leggibilità. "
   ]
  },
  {
   "cell_type": "code",
   "execution_count": 91,
   "metadata": {},
   "outputs": [],
   "source": [
    "#data_set = data_set.dropna()\n",
    "data_set.to_csv(\"ds_leggibilita2.csv\", index=False) #una volta pronto salviamo il file"
   ]
  },
  {
   "cell_type": "markdown",
   "metadata": {},
   "source": [
    "#### Controlli "
   ]
  },
  {
   "cell_type": "code",
   "execution_count": 137,
   "metadata": {},
   "outputs": [
    {
     "data": {
      "text/plain": [
       "983587"
      ]
     },
     "execution_count": 137,
     "metadata": {},
     "output_type": "execute_result"
    }
   ],
   "source": [
    "len(data_df[data_df['text'].isin(data_set['text'])]) "
   ]
  },
  {
   "cell_type": "code",
   "execution_count": 141,
   "metadata": {},
   "outputs": [
    {
     "data": {
      "text/html": [
       "<div>\n",
       "<style scoped>\n",
       "    .dataframe tbody tr th:only-of-type {\n",
       "        vertical-align: middle;\n",
       "    }\n",
       "\n",
       "    .dataframe tbody tr th {\n",
       "        vertical-align: top;\n",
       "    }\n",
       "\n",
       "    .dataframe thead th {\n",
       "        text-align: right;\n",
       "    }\n",
       "</style>\n",
       "<table border=\"1\" class=\"dataframe\">\n",
       "  <thead>\n",
       "    <tr style=\"text-align: right;\">\n",
       "      <th></th>\n",
       "      <th>id</th>\n",
       "      <th>text</th>\n",
       "      <th>readability</th>\n",
       "    </tr>\n",
       "  </thead>\n",
       "  <tbody>\n",
       "    <tr>\n",
       "      <th>39</th>\n",
       "      <td>40</td>\n",
       "      <td>Curiosamente la strada ripercorre a tratti le ...</td>\n",
       "      <td>36.695214</td>\n",
       "    </tr>\n",
       "    <tr>\n",
       "      <th>40</th>\n",
       "      <td>41</td>\n",
       "      <td>Tratturo Magno).</td>\n",
       "      <td>NaN</td>\n",
       "    </tr>\n",
       "    <tr>\n",
       "      <th>57</th>\n",
       "      <td>58</td>\n",
       "      <td>la sua produzione storica dalla dissoluzione d...</td>\n",
       "      <td>22.683105</td>\n",
       "    </tr>\n",
       "    <tr>\n",
       "      <th>58</th>\n",
       "      <td>59</td>\n",
       "      <td>Secondo il \"Red Book\" del 2007 il paese ha ris...</td>\n",
       "      <td>94.245346</td>\n",
       "    </tr>\n",
       "    <tr>\n",
       "      <th>462</th>\n",
       "      <td>463</td>\n",
       "      <td>J.-H.</td>\n",
       "      <td>NaN</td>\n",
       "    </tr>\n",
       "    <tr>\n",
       "      <th>...</th>\n",
       "      <td>...</td>\n",
       "      <td>...</td>\n",
       "      <td>...</td>\n",
       "    </tr>\n",
       "    <tr>\n",
       "      <th>999581</th>\n",
       "      <td>999582</td>\n",
       "      <td>Roma conquistò l'intera Illiria nel 168 a.C.</td>\n",
       "      <td>46.001600</td>\n",
       "    </tr>\n",
       "    <tr>\n",
       "      <th>999847</th>\n",
       "      <td>999848</td>\n",
       "      <td>La città è governata dal Consiglio città di Su...</td>\n",
       "      <td>55.131287</td>\n",
       "    </tr>\n",
       "    <tr>\n",
       "      <th>999848</th>\n",
       "      <td>999849</td>\n",
       "      <td>Storia.</td>\n",
       "      <td>NaN</td>\n",
       "    </tr>\n",
       "    <tr>\n",
       "      <th>999949</th>\n",
       "      <td>999950</td>\n",
       "      <td>Il 27 gennaio 2007 su E!</td>\n",
       "      <td>0.989726</td>\n",
       "    </tr>\n",
       "    <tr>\n",
       "      <th>999950</th>\n",
       "      <td>999951</td>\n",
       "      <td>News viene confermato il singolo di apertura d...</td>\n",
       "      <td>58.583994</td>\n",
       "    </tr>\n",
       "  </tbody>\n",
       "</table>\n",
       "<p>16418 rows × 3 columns</p>\n",
       "</div>"
      ],
      "text/plain": [
       "            id                                               text  readability\n",
       "39          40  Curiosamente la strada ripercorre a tratti le ...    36.695214\n",
       "40          41                                   Tratturo Magno).          NaN\n",
       "57          58  la sua produzione storica dalla dissoluzione d...    22.683105\n",
       "58          59  Secondo il \"Red Book\" del 2007 il paese ha ris...    94.245346\n",
       "462        463                                              J.-H.          NaN\n",
       "...        ...                                                ...          ...\n",
       "999581  999582       Roma conquistò l'intera Illiria nel 168 a.C.    46.001600\n",
       "999847  999848  La città è governata dal Consiglio città di Su...    55.131287\n",
       "999848  999849                                            Storia.          NaN\n",
       "999949  999950                           Il 27 gennaio 2007 su E!     0.989726\n",
       "999950  999951  News viene confermato il singolo di apertura d...    58.583994\n",
       "\n",
       "[16418 rows x 3 columns]"
      ]
     },
     "execution_count": 141,
     "metadata": {},
     "output_type": "execute_result"
    }
   ],
   "source": [
    "data_set[~data_set['text'].isin(data_df['text'])]"
   ]
  },
  {
   "cell_type": "code",
   "execution_count": 138,
   "metadata": {},
   "outputs": [],
   "source": [
    "frasi_mancanti = data_df[~data_df['text'].isin(data_set['text'])]"
   ]
  },
  {
   "cell_type": "code",
   "execution_count": 139,
   "metadata": {},
   "outputs": [
    {
     "data": {
      "text/plain": [
       "16412"
      ]
     },
     "execution_count": 139,
     "metadata": {},
     "output_type": "execute_result"
    }
   ],
   "source": [
    "len(frasi_mancanti)"
   ]
  }
 ],
 "metadata": {
  "kernelspec": {
   "display_name": "Python 3",
   "language": "python",
   "name": "python3"
  },
  "language_info": {
   "codemirror_mode": {
    "name": "ipython",
    "version": 3
   },
   "file_extension": ".py",
   "mimetype": "text/x-python",
   "name": "python",
   "nbconvert_exporter": "python",
   "pygments_lexer": "ipython3",
   "version": "3.10.2"
  }
 },
 "nbformat": 4,
 "nbformat_minor": 2
}
